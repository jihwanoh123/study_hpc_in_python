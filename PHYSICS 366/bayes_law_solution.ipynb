{
 "cells": [
  {
   "cell_type": "markdown",
   "metadata": {},
   "source": [
    "# Tutorial: Bayes' Law\n",
    "\n",
    "In this problem, we'll work through a simple application of Bayes' Law, both analytically and numerically (on a grid).\n",
    "\n",
    "You will learn to:\n",
    "\n",
    "* use conjugacy relations to find an analytic form for a posterior\n",
    "* compute a posterior on a grid (brute force)\n",
    "* apply Bayes law to incorporate new data"
   ]
  },
  {
   "cell_type": "code",
   "execution_count": 1,
   "metadata": {},
   "outputs": [],
   "source": [
    "TutorialName = 'bayes_law'\n",
    "exec(open('tbc.py').read()) # define TBC and TBC_above\n",
    "import numpy as np\n",
    "import scipy.stats as st\n",
    "import matplotlib\n",
    "matplotlib.use('TkAgg')\n",
    "import matplotlib.pyplot as plt\n",
    "%matplotlib inline"
   ]
  },
  {
   "cell_type": "markdown",
   "metadata": {},
   "source": [
    "## Background\n",
    "\n",
    "We'll re-examine the first example in the [Generative Models tutorial](generative_models.ipynb). We're interested in knowing what fraction, $f$, of galaxy clusters in the Universe are morphologically relaxed (hence relatively close to equilibrium). We can think of $f$ equivalently as the a priori probability that a randomly chosen, or newly discovered, cluster is relaxed.\n",
    "\n",
    "From X-ray imaging of 361 clusters, which we will assume are representative, 57 were found to be morphologically relaxed according to our metric. We will use this information to constrain $f$. Our data could be laboriously written as\n",
    "\n",
    "$X_1,X_2,\\ldots,X_{361}$,\n",
    "\n",
    "where 57 $X$'s are 1 (relaxed) and 304 are 0 (unrelaxed). Equivalently we can just speak of $s=57$ \"successes\" out of $n=361$ trials. Let's go ahead and put that into code:"
   ]
  },
  {
   "cell_type": "code",
   "execution_count": 2,
   "metadata": {},
   "outputs": [],
   "source": [
    "data = {'n':361, 's':57}"
   ]
  },
  {
   "cell_type": "markdown",
   "metadata": {},
   "source": [
    "Thus, we write Bayes' Law for this application as\n",
    "\n",
    "$p(f|s) = \\frac{p(f)P(s|f)}{P(s)}$.\n",
    "\n",
    "First, as always, we choose a prior. Clearly, by definition, $0\\leq f \\leq 1$. Without thinking too hard about it, let's take $p(f)$ to be uniform over this interval.\n",
    "\n",
    "As the problem is defined, the sampling distribution, $P(s|f)$, is binomial:\n",
    "\n",
    "$P(s|f) = {n \\choose s} f^s (1-f)^{n-s}$."
   ]
  },
  {
   "cell_type": "markdown",
   "metadata": {},
   "source": [
    "## Solution and implementation\n",
    "\n",
    "It's always nice to have a simple, analytic way of expressing our solution, and this problem happens to provide one. Consult [the Wikipedia](https://en.wikipedia.org/wiki/Conjugate_prior) to see whether this sampling distribution has a conjugate prior and determine whether that conjugate distribution can be used to express the uniform prior chosen above. (Note: it does, and it can.) Find the parameters of the conjugate prior that reproduce the uniform distribution on [0,1]."
   ]
  },
  {
   "cell_type": "markdown",
   "metadata": {},
   "source": [
    "> The conjugate form of the prior is $f \\sim \\ldots$\n",
    "\n",
    "> This is equivalent to $f \\sim \\mathrm{Uniform}(0,1)$ for prior hyperparameters ..."
   ]
  },
  {
   "cell_type": "code",
   "execution_count": null,
   "metadata": {},
   "outputs": [],
   "source": [
    "TBC()"
   ]
  },
  {
   "cell_type": "markdown",
   "metadata": {},
   "source": [
    "Before continuing on, prove the conjugacy relation that you looked up above. Multiply $p(f)$ and $P(s|f)$, and simplify until you obtain a normalized posterior distribution expressed in a standard form. Note that you are allowed to multiply by any constants you want - by definition whatever constant you need to multiply by to produce a normalized PDF must be $1/P(s)$."
   ]
  },
  {
   "cell_type": "markdown",
   "metadata": {},
   "source": [
    "> $p(f) \\, P(s|f) = \\ldots$ what you claimed above"
   ]
  },
  {
   "cell_type": "code",
   "execution_count": null,
   "metadata": {},
   "outputs": [],
   "source": [
    "TBC()"
   ]
  },
  {
   "cell_type": "markdown",
   "metadata": {},
   "source": [
    "### Prior\n",
    "\n",
    "Fill in the cells below to provide the function that evaluates the prior (you can call the `scipy.stats` implementation of the distribution, or spell out the density) and define prior hyperparameter values that make the prior uniform."
   ]
  },
  {
   "cell_type": "code",
   "execution_count": 22,
   "metadata": {},
   "outputs": [],
   "source": [
    "import scipy\n",
    "def prior(f, **prior_params):\n",
    "    # return the prior density evaluated at x, p(f)\n",
    "    rv=scipy.stats.beta(prior_params['a'], prior_params['b'])\n",
    "    return rv.pdf(f)"
   ]
  },
  {
   "cell_type": "code",
   "execution_count": 23,
   "metadata": {},
   "outputs": [],
   "source": [
    "# Parameters that make the prior equivalent to Uniform(0,1), in a dictionary (as with data, above),\n",
    "# Make the dictionry keys the names of the parameter arguments to \"prior\", so we can pass it **prior_params.\n",
    "prior_params = {'a':1,'b':1}"
   ]
  },
  {
   "cell_type": "markdown",
   "metadata": {},
   "source": [
    "Excellent! Let's now plot the prior with your chosen parameters, to verify that it's the same as a uniform distribution."
   ]
  },
  {
   "cell_type": "code",
   "execution_count": 24,
   "metadata": {},
   "outputs": [
    {
     "data": {
      "image/png": "[encoded data removed]",
      "text/plain": [
       "<Figure size 504x360 with 1 Axes>"
      ]
     },
     "metadata": {
      "needs_background": "light"
     },
     "output_type": "display_data"
    }
   ],
   "source": [
    "fgrid = np.linspace(0.0, 1.0, 500)\n",
    "\n",
    "plt.rcParams['figure.figsize'] = (7.0, 5.0)\n",
    "plt.plot(fgrid, prior(fgrid, **prior_params), 'k-');\n",
    "plt.xlabel('f');\n",
    "plt.ylabel('p(f)');"
   ]
  },
  {
   "cell_type": "markdown",
   "metadata": {},
   "source": [
    "### Likelihood\n",
    "\n",
    "Next, code up the likelihood function. Recall that this is just the sampling distribution evaluated as a function of the model parameters, with the data fixed."
   ]
  },
  {
   "cell_type": "code",
   "execution_count": 25,
   "metadata": {},
   "outputs": [],
   "source": [
    "# here f would be our model paramter, and s and n would be from our data dictionary\n",
    "import scipy\n",
    "def likelihood(f, s, n):\n",
    "    return scipy.special.binom(n, s)*(f**s)*((1-f)**(n-s))"
   ]
  },
  {
   "cell_type": "markdown",
   "metadata": {},
   "source": [
    "Again, let's take a look."
   ]
  },
  {
   "cell_type": "code",
   "execution_count": 26,
   "metadata": {},
   "outputs": [
    {
     "data": {
      "image/png": "[encoded data removed]",
      "text/plain": [
       "<Figure size 504x360 with 1 Axes>"
      ]
     },
     "metadata": {
      "needs_background": "light"
     },
     "output_type": "display_data"
    }
   ],
   "source": [
    "plt.rcParams['figure.figsize'] = (7.0, 5.0)\n",
    "plt.plot(fgrid, prior(fgrid, **prior_params), 'k-', label='p(f)');\n",
    "plt.plot(fgrid, likelihood(fgrid, **data), 'b-', label='P(s|f)');\n",
    "plt.xlabel('f');\n",
    "plt.legend();"
   ]
  },
  {
   "cell_type": "markdown",
   "metadata": {},
   "source": [
    "Hold on! You didn't (necessarily) make a mistake. Remember that the likelihood function is not a PDF - it is not normalized over $f$ for a given $s$. So there is no reason the normalizations of the two curves above should be comparable.\n",
    "\n",
    "In fact, run the cell below to numerically verify that $P(s|f)$ is **not** normalized over $f$."
   ]
  },
  {
   "cell_type": "code",
   "execution_count": 27,
   "metadata": {},
   "outputs": [
    {
     "name": "stdout",
     "output_type": "stream",
     "text": [
      "This does NOT need to be 1.0: 0.0027624309392252377\n"
     ]
    }
   ],
   "source": [
    "fgrid = np.linspace(0.0, 1.0, 500)\n",
    "print('This does NOT need to be 1.0:', np.trapz(likelihood(fgrid, **data), x=fgrid))"
   ]
  },
  {
   "cell_type": "markdown",
   "metadata": {},
   "source": [
    "On the other hand, in its guise as the sampling distribution, it _is_ normalized over $s$ for a given $f$. Verify this for the arbitrary choice of $f$ below, or some other value(s) of your choice."
   ]
  },
  {
   "cell_type": "code",
   "execution_count": 28,
   "metadata": {},
   "outputs": [
    {
     "name": "stdout",
     "output_type": "stream",
     "text": [
      "This had better be exactly 1.0 (to within numerical error): 0.9999999999998627\n"
     ]
    }
   ],
   "source": [
    "sgrid = np.arange(0.0, data['n']+1)\n",
    "\n",
    "test_f = np.pi/10.0\n",
    "print('This had better be exactly 1.0 (to within numerical error):', likelihood(test_f, sgrid, data['n']).sum())"
   ]
  },
  {
   "cell_type": "markdown",
   "metadata": {},
   "source": [
    "Just for fun, here is what $P(s|f)$ looks like as a function of $s$ (i.e. as a sampling distribution) for a few different $f$'s."
   ]
  },
  {
   "cell_type": "code",
   "execution_count": 29,
   "metadata": {},
   "outputs": [
    {
     "data": {
      "image/png": "[encoded data removed]",
      "text/plain": [
       "<Figure size 504x360 with 1 Axes>"
      ]
     },
     "metadata": {
      "needs_background": "light"
     },
     "output_type": "display_data"
    }
   ],
   "source": [
    "plt.rcParams['figure.figsize'] = (7.0, 5.0)\n",
    "plt.plot(sgrid, likelihood(0.01, sgrid, data['n']), 'b.', label='f=0.01');\n",
    "plt.plot(sgrid, likelihood(0.1, sgrid, data['n']), 'r.', label='f=0.1');\n",
    "plt.plot(sgrid, likelihood(0.7, sgrid, data['n']), 'k.', label='f=0.07');\n",
    "plt.xlabel('s');\n",
    "plt.ylabel('P(s|f)');\n",
    "plt.legend();"
   ]
  },
  {
   "cell_type": "markdown",
   "metadata": {},
   "source": [
    "### Posterior\n",
    "\n",
    "Moving on, code up the posterior distribution. Since its functional form is the same as that of the prior, we can go ahead and use the same Python function. Then all we need is a function that determines the posterior distribution's parameters given the prior and data."
   ]
  },
  {
   "cell_type": "code",
   "execution_count": 43,
   "metadata": {},
   "outputs": [],
   "source": [
    "posterior = prior # you can have this one\n",
    "\n",
    "def get_post_params(n,s):\n",
    "    return {'a':s+prior_params['a'],'b':n-s+prior_params['b']}"
   ]
  },
  {
   "cell_type": "markdown",
   "metadata": {},
   "source": [
    "See what this looks like:"
   ]
  },
  {
   "cell_type": "code",
   "execution_count": 44,
   "metadata": {},
   "outputs": [
    {
     "data": {
      "image/png": "[encoded data removed]",
      "text/plain": [
       "<Figure size 504x360 with 1 Axes>"
      ]
     },
     "metadata": {
      "needs_background": "light"
     },
     "output_type": "display_data"
    }
   ],
   "source": [
    "post_params = get_post_params(data['n'],data['s'])\n",
    "\n",
    "plt.rcParams['figure.figsize'] = (7.0, 5.0)\n",
    "plt.plot(fgrid, prior(fgrid, **prior_params), 'k-', label='p(f)');\n",
    "plt.plot(fgrid, likelihood(fgrid, **data), 'b-', label='p(s|f)');\n",
    "plt.plot(fgrid, posterior(fgrid, **post_params), 'r-', label='p(f|s)');\n",
    "plt.xlabel('f');\n",
    "plt.legend();"
   ]
  },
  {
   "cell_type": "markdown",
   "metadata": {},
   "source": [
    "### Comparison with brute force\n",
    "\n",
    "Just to drive the point home, let's imagine we didn't recognize this problem as conjugate. Evaluate the posterior over `fgrid` by brute force (i.e. multiplying the likelihood and prior), and we'll compare. Don't forget to normalize."
   ]
  },
  {
   "cell_type": "code",
   "execution_count": 63,
   "metadata": {},
   "outputs": [],
   "source": [
    "post_fgrid = likelihood(fgrid, **data)*prior(fgrid, **prior_params)*360"
   ]
  },
  {
   "cell_type": "markdown",
   "metadata": {},
   "source": [
    "Plot it along with the conjugate solution:"
   ]
  },
  {
   "cell_type": "code",
   "execution_count": 64,
   "metadata": {},
   "outputs": [
    {
     "data": {
      "image/png": "[encoded data removed]",
      "text/plain": [
       "<Figure size 504x360 with 1 Axes>"
      ]
     },
     "metadata": {
      "needs_background": "light"
     },
     "output_type": "display_data"
    }
   ],
   "source": [
    "plt.rcParams['figure.figsize'] = (7.0, 5.0)\n",
    "plt.plot(fgrid, posterior(fgrid, **post_params), 'r-', label='analytic');\n",
    "plt.plot(fgrid, post_fgrid, 'b.', label='grid');\n",
    "plt.xlabel('f');\n",
    "plt.ylabel('p(f|s)');\n",
    "plt.legend();"
   ]
  },
  {
   "cell_type": "markdown",
   "metadata": {},
   "source": [
    "You might be thinking that all this messing around with conjugacy relations is silly, and in this simple case, which takes very little time to evaluate numerically, that's fair enough. While conjugacy doesn't apply to every problem, there are a few reasons it's worth knowing about for those times that it is a viable strategy:\n",
    "1. Since the posterior has a well known functional form, we instantly know its mean, median, mode, variance, skewness, kurtosis, etc., etc., etc. to arbitrary precision - things that we might be interested in that would be more annoying to estimate numerically. They are simple functions of the distribution's parameters that we can look up.\n",
    "2. When dealing with multi-parameter distributions and/or large amounts of data, leaping straight to the final answer (after, at most, some linear algebra) can sometimes represent a significant speed-up over more brute-force methods. "
   ]
  },
  {
   "cell_type": "markdown",
   "metadata": {},
   "source": [
    "## Summarizing the constraint on $f$\n",
    "\n",
    "While the posterior for $f$, evaluated one of the ways above, in principle is the entire answer, we normally want to summarize the constraint in terms of a best value and an interval. You'll see more about this in the Credible Region [notes](../notes/credible_regions.ipynb) and [tutorial](credible_intervals.ipynb). For now, we'll go ahead and summarize the constraint according to one convention for doing so.\n",
    "\n",
    "Write a function that finds the median, 15.85th percentile and 84.15th percentile of the posterior distribution for $f$. Do this based on the parameters of the conjugate posterior, which will let you take advantage of `scipy` functions (e.g. `scipy.stats.<distribution>.median`)."
   ]
  },
  {
   "cell_type": "code",
   "execution_count": 65,
   "metadata": {},
   "outputs": [],
   "source": [
    "def summarize_posterior(post_params):\n",
    "    # Find the 50th, 15.85th and 84.15th percentiles of the posterior distribution.\n",
    "    # Return these as a numpy array with shape (3,), in that order.\n",
    "    a=scipy.stats.beta.median(post_params['a'],post_params['b'])\n",
    "    b=scipy.stats.beta.ppf(0.1585,post_params['a'],post_params['b'])\n",
    "    c=scipy.stats.beta.ppf(0.8415,post_params['a'],post_params['b'])\n",
    "    result=np.array([a,b,c])\n",
    "    return result"
   ]
  },
  {
   "cell_type": "markdown",
   "metadata": {},
   "source": [
    "Compare what you found with this pre-computed solution."
   ]
  },
  {
   "cell_type": "code",
   "execution_count": 68,
   "metadata": {},
   "outputs": [
    {
     "name": "stdout",
     "output_type": "stream",
     "text": [
      "My best fit and interval: [0.15915445 0.14056871 0.17899446]\n",
      "Should be pretty much zeros: [0.00000000e+00 2.77555756e-17 0.00000000e+00]\n"
     ]
    }
   ],
   "source": [
    "print('My best fit and interval:', summarize_posterior(post_params))\n",
    "print(\"Should be pretty much zeros:\", summarize_posterior(post_params) - np.loadtxt('bayeslaw.dat'))"
   ]
  },
  {
   "cell_type": "markdown",
   "metadata": {},
   "source": [
    "## Updating with new data"
   ]
  },
  {
   "cell_type": "markdown",
   "metadata": {},
   "source": [
    "Suppose we get more data:"
   ]
  },
  {
   "cell_type": "code",
   "execution_count": 69,
   "metadata": {},
   "outputs": [],
   "source": [
    "data2 = {'n':200, 's':40}"
   ]
  },
  {
   "cell_type": "markdown",
   "metadata": {},
   "source": [
    "Use your `get_post_params` function to compute the posterior parameters for\n",
    "1. the second data set combined with the original prior (not using the first data set), and\n",
    "2. the combination of both data sets and the original prior."
   ]
  },
  {
   "cell_type": "code",
   "execution_count": 70,
   "metadata": {},
   "outputs": [],
   "source": [
    "n2,s2=data2['n'],data2['s']\n",
    "n1,s1=data['n'],data['s']\n",
    "post_params_2 = {'a':s2+prior_params['a'],'b':n2-s2+prior_params['b']}\n",
    "post_params_both = {'a':s1+s2+prior_params['a'],'b':n1-s1+n2-s2+prior_params['b']}"
   ]
  },
  {
   "cell_type": "markdown",
   "metadata": {},
   "source": [
    "Here's how the posteriors from the individual data sets compare with the prior:"
   ]
  },
  {
   "cell_type": "code",
   "execution_count": 71,
   "metadata": {},
   "outputs": [
    {
     "data": {
      "image/png": "[encoded data removed]",
      "text/plain": [
       "<Figure size 504x360 with 1 Axes>"
      ]
     },
     "metadata": {
      "needs_background": "light"
     },
     "output_type": "display_data"
    }
   ],
   "source": [
    "plt.rcParams['figure.figsize'] = (7.0, 5.0)\n",
    "plt.plot(fgrid, prior(fgrid, **prior_params), 'k-', label='p(f)');\n",
    "plt.plot(fgrid, posterior(fgrid, **post_params), 'r-', label='p(f|s_1)');\n",
    "plt.plot(fgrid, posterior(fgrid, **post_params_2), 'b-', label='p(f|s_2)');\n",
    "plt.xlabel('f');\n",
    "plt.legend();"
   ]
  },
  {
   "cell_type": "markdown",
   "metadata": {},
   "source": [
    "This visualizes the accumulation of data as we add first one and then the second data set to the prior information:"
   ]
  },
  {
   "cell_type": "code",
   "execution_count": 72,
   "metadata": {
    "scrolled": true
   },
   "outputs": [
    {
     "data": {
      "image/png": "[encoded data removed]",
      "text/plain": [
       "<Figure size 504x360 with 1 Axes>"
      ]
     },
     "metadata": {
      "needs_background": "light"
     },
     "output_type": "display_data"
    }
   ],
   "source": [
    "plt.rcParams['figure.figsize'] = (7.0, 5.0)\n",
    "plt.plot(fgrid, prior(fgrid, **prior_params), 'k-', label=r'$p(f)$');\n",
    "plt.plot(fgrid, posterior(fgrid, **post_params), 'r-', label=r'$p(f|s_1)$');\n",
    "plt.plot(fgrid, posterior(fgrid, **post_params_both), 'b-', label=r'$p(f|s_1,s_2)$');\n",
    "plt.xlabel('f');\n",
    "plt.legend();"
   ]
  },
  {
   "cell_type": "markdown",
   "metadata": {},
   "source": [
    "Finally, compare the constraints:"
   ]
  },
  {
   "cell_type": "code",
   "execution_count": 73,
   "metadata": {},
   "outputs": [
    {
     "name": "stdout",
     "output_type": "stream",
     "text": [
      "Just data1: [0.15915445 0.14056871 0.17899446]\n",
      "Just data2: [0.2019887  0.1747084  0.23124104]\n",
      "Both data1 and data2 [0.1736814  0.15809221 0.19004469]\n"
     ]
    }
   ],
   "source": [
    "print('Just data1:', summarize_posterior(post_params))\n",
    "print('Just data2:', summarize_posterior(post_params_2))\n",
    "print('Both data1 and data2', summarize_posterior(post_params_both))"
   ]
  },
  {
   "cell_type": "markdown",
   "metadata": {},
   "source": [
    "## Check the goodness of fit\n",
    "\n",
    "Because we have absorbed the pointed lessons in the notes so well, we will finish by comparing posterior predictions of the fitted model with the data. That is, we want to make sure that the model, for the posterior distribution we've ended up with, could plausibly have produced the observed data. We'll use the posterior as updated by `data2` above, i.e. parametrized by `post_params_both`. Because the binomial distribution is additive (for the same $f$ parameter), we can compare this with the combined data:"
   ]
  },
  {
   "cell_type": "code",
   "execution_count": 74,
   "metadata": {},
   "outputs": [],
   "source": [
    "data_both = {'n':data['n']+data2['n'], 's':data['s']+data2['s']}"
   ]
  },
  {
   "cell_type": "markdown",
   "metadata": {},
   "source": [
    "What we want to do in this case is predict the distribution of $s'$ marginalized over the posterior distribution of $f$, where $s'$ represents an equivalent measurement to $s$ (i.e. from the same total number $n$, but obviously not actually the same clusters). In other words, we should compute\n",
    "\n",
    "$P(s'|s) = \\int df p(f|s) \\, P(s'|f)$\n",
    "\n",
    "and see how plausible $s$ is compared with this PDF.\n",
    "\n",
    "In conjugate problems, this posterior predictive distribution is often _also_ a standard PDF that can be arrived at analytically (it's on the Wikipedia page above it you want to add a comparison below), but let's instead go through a procedure that will work more generally. Namely, just like in the [Bayes' Law notes](../notes/bayes_law.ipynb), we will use the generative model as, well, a generative model, and produce a list of potential data $s'$ from an equally long list of values of $f$ drawn from the posterior distribution. Fill in the code below (you can use `scipy.stats.<distribution>.rvs` functions to generate random numbers from a PDF)."
   ]
  },
  {
   "cell_type": "code",
   "execution_count": null,
   "metadata": {},
   "outputs": [],
   "source": [
    "Npredict = 10000\n",
    "TBC()\n",
    "# f_from_posterior = ...\n",
    "# s_post_predicted = ..."
   ]
  },
  {
   "cell_type": "markdown",
   "metadata": {},
   "source": [
    "Below we compare this distribution to the measured $s$:"
   ]
  },
  {
   "cell_type": "code",
   "execution_count": null,
   "metadata": {},
   "outputs": [],
   "source": [
    "plt.hist(s_post_predicted, density=True, label='your samples', bins=20);\n",
    "plt.axvline(x=data_both['s'], label='measured s', color='C1')\n",
    "plt.xlabel(r'$s\\prime$', fontsize='x-large');\n",
    "plt.ylabel(r'$P(s\\prime|s)$', fontsize='x-large');\n",
    "plt.legend(fontsize='x-large');"
   ]
  },
  {
   "cell_type": "markdown",
   "metadata": {},
   "source": [
    "It should look very consistent. Of course, this was an extremely simple model - is it even possible for us to get a \"bad fit\" where the distribution of $s'$ does not comfortably include $s$? The only circumstance I can think of where that would happen is if `data` and `data2` had not come from the same model, that is if they had been generated by significantly different values of $f$ somehow. Then we might see the distribution above being less consistent or inconsistent with the value of $s$ in `data_both`, and conclude that our model with a single $f$ doesn't adequately describe all the data. We would hopefully also be able to identify the issue when comparing the two individual posteriors above. We'll cover more quantitative ways to define \"consistency\" later on, but for now we have a simple, visual check of how acceptable the fit is."
   ]
  }
 ],
 "metadata": {
  "kernelspec": {
   "display_name": "Python 3",
   "language": "python",
   "name": "python3"
  },
  "language_info": {
   "codemirror_mode": {
    "name": "ipython",
    "version": 3
   },
   "file_extension": ".py",
   "mimetype": "text/x-python",
   "name": "python",
   "nbconvert_exporter": "python",
   "pygments_lexer": "ipython3",
   "version": "3.8.8"
  }
 },
 "nbformat": 4,
 "nbformat_minor": 2
}
