{
 "cells": [
  {
   "cell_type": "code",
   "execution_count": null,
   "id": "9127f923",
   "metadata": {},
   "outputs": [],
   "source": [
    "import numpy as np\n",
    "import pandas as pd\n",
    "import datetime as dt\n",
    "import yfinance as yf\n",
    "def getData(stocks,start,end):\n",
    "    stockData = yf.download(stocks,start = start, end = end)\n",
    "    return stockData\n",
    "stockList = ['NVDA','MSFT','LRCX','AAPL','AMZN','GOOGL','AMAT','MA','ZM','V']\n",
    "endDate = dt.datetime.now()\n",
    "startDate = endDate - dt.timedelta(days = 1000)"
   ]
  },
  {
   "cell_type": "code",
   "execution_count": 5,
   "id": "2ca0fda4",
   "metadata": {},
   "outputs": [
    {
     "name": "stdout",
     "output_type": "stream",
     "text": [
      "[*********************100%***********************]  10 of 10 completed\n"
     ]
    }
   ],
   "source": [
    "df = getData(stockList,start = startDate, end = endDate)\n",
    "df = df['Adj Close']\n",
    "ret = df.pct_change()"
   ]
  },
  {
   "cell_type": "code",
   "execution_count": 16,
   "id": "50bf311f",
   "metadata": {},
   "outputs": [],
   "source": [
    "mean_ret = ret.mean()\n",
    "std_ret = ret.cov()"
   ]
  },
  {
   "cell_type": "code",
   "execution_count": 19,
   "id": "32c03ee5",
   "metadata": {},
   "outputs": [],
   "source": [
    "def count_trading_days(start_date, end_date):\n",
    "    trading_days = pd.date_range(start=start_date, end=end_date, freq='B')\n",
    "    return len(trading_days)\n",
    "trading = count_trading_days('2020-10-22','2023-07-18')"
   ]
  },
  {
   "cell_type": "code",
   "execution_count": 35,
   "id": "35d5f168",
   "metadata": {},
   "outputs": [],
   "source": [
    "def portfolioPerformance(weights,meanReturns,covMatrix):\n",
    "    returns = np.sum(meanReturns*weights)*trading\n",
    "    std = np.sqrt(np.dot(weights.T,np.dot(covMatrix,weights)))*np.sqrt(trading)\n",
    "    return np.round(returns,3),np.round(std,3)"
   ]
  },
  {
   "cell_type": "code",
   "execution_count": 36,
   "id": "42ba6dc3",
   "metadata": {},
   "outputs": [],
   "source": [
    "weights = np.array([1/len(stockList) for _ in range(len(stockList))])\n",
    "returns,std = portfolioPerformance(weights,mean_ret,std_ret)"
   ]
  },
  {
   "cell_type": "code",
   "execution_count": 208,
   "id": "6cdbbd26",
   "metadata": {},
   "outputs": [],
   "source": [
    "def portfolioVariance(weights, meanReturns, covMatrix):\n",
    "    return portfolioPerformance(weights, meanReturns, covMatrix)[1]\n",
    "def minimizeVariance(meanReturns, covMatrix, riskFreeRate = 0, constraintSet = (0,1)):\n",
    "    numAssets = len(meanReturns)\n",
    "    args = (meanReturns, covMatrix)\n",
    "    constraints = ({'type': 'eq', 'fun':lambda x: np.sum(x)-1})\n",
    "    bound = constraintSet\n",
    "    bounds = tuple(bound for _ in range(numAssets))\n",
    "    ws = [0.1, 0.1, 0.1, 0.1, 0.1, 0.1, 0.1, 0.1, 0.1, 0.1]\n",
    "    result = sc.minimize(portfolioVariance,ws,args = args,\n",
    "                        method = 'SLSQP', bounds = bounds, constraints = constraints)\n",
    "    return result"
   ]
  },
  {
   "cell_type": "code",
   "execution_count": 209,
   "id": "7363c7fd",
   "metadata": {},
   "outputs": [
    {
     "name": "stdout",
     "output_type": "stream",
     "text": [
      "0.503 [0.1 0.1 0.1 0.1 0.1 0.1 0.1 0.1 0.1 0.1]\n"
     ]
    }
   ],
   "source": [
    "minVarResult = minimizeVariance(mean_ret, std_ret)\n",
    "minVar, minVarWeights = minVarResult['fun'],minVarResult['x']\n",
    "print(minVar,minVarWeights)"
   ]
  },
  {
   "cell_type": "code",
   "execution_count": 210,
   "id": "675a9f77",
   "metadata": {},
   "outputs": [
    {
     "name": "stdout",
     "output_type": "stream",
     "text": [
      "Optimized Portfolio Sharpe with L2 Regularization: \n",
      "1.5903776273857453\n",
      "Optimized Portfolio Weights with L2 Regularization: \n",
      "[0.1  0.1  0.1  0.1  0.14 0.01 0.15 0.2  0.1  0.  ]\n"
     ]
    }
   ],
   "source": [
    "# Regularization parameter (lambda)\n",
    "lambda_ = 0.07  # You can adjust this value to control the strength of the regularization\n",
    "maxSRResult = maxSR(mean_ret, std_ret, lambda_)\n",
    "maxSR, maxSRWeights = maxSRResult['fun'],maxSRResult['x']\n",
    "print(\"Optimized Portfolio Sharpe with L2 Regularization: \")\n",
    "print(-maxSR)\n",
    "print(\"Optimized Portfolio Weights with L2 Regularization: \")\n",
    "print(np.round(maxSRWeights,3))"
   ]
  },
  {
   "cell_type": "code",
   "execution_count": 227,
   "id": "f7518033",
   "metadata": {},
   "outputs": [
    {
     "name": "stdout",
     "output_type": "stream",
     "text": [
      "(0.867, 0.542,        allocation\n",
      "AAPL         10.0\n",
      "AMAT         10.0\n",
      "AMZN         10.0\n",
      "GOOGL        10.0\n",
      "LRCX         14.0\n",
      "MA            1.0\n",
      "MSFT         15.0\n",
      "NVDA         20.0\n",
      "V            10.0\n",
      "ZM            0.0, 0.491, 0.503,        allocation\n",
      "AAPL         10.0\n",
      "AMAT         10.0\n",
      "AMZN         10.0\n",
      "GOOGL        10.0\n",
      "LRCX         10.0\n",
      "MA           10.0\n",
      "MSFT         10.0\n",
      "NVDA         10.0\n",
      "V            10.0\n",
      "ZM           10.0, [0.503, 0.503, 0.503, 0.503, 0.503, 0.503, 0.503, 0.503, 0.503, 0.503, 0.503, 0.503, 0.503, 0.503, 0.503, 0.503, 0.503, 0.503, 0.503, 0.503])\n"
     ]
    }
   ],
   "source": [
    "import scipy.optimize as sc\n",
    "riskFreeRate = 0\n",
    "def negativeSR(weights,meanReturns,covMatrix, lambda_=0):\n",
    "    pReturns, pStd = portfolioPerformance(weights,mean_ret,std_ret)\n",
    "    sharpeRatio = (pReturns-riskFreeRate)/pStd\n",
    "    # Add L2 regularization term\n",
    "    l2_reg = lambda_ * np.sum(np.square(weights))\n",
    "    return -sharpeRatio + l2_reg\n",
    "constraintSet = (0,1)\n",
    "def maxSR(meanReturns, covMatrix,lambda_= 0):\n",
    "    numAssets = len(meanReturns)\n",
    "    args = (meanReturns, covMatrix)\n",
    "    constraints = ({'type': 'eq', 'fun':lambda x: np.sum(x)-1})\n",
    "    bound = constraintSet\n",
    "    bounds = tuple(bound for _ in range(numAssets))\n",
    "    ws = [0.1, 0.1, 0.1, 0.1, 0.14, 0.01, 0.15, 0.2, 0.1, 0]\n",
    "    result = sc.minimize(negativeSR, ws, args=(meanReturns, covMatrix, lambda_),\n",
    "                         method='SLSQP', bounds=bounds, constraints=constraints, options={'disp': False})\n",
    "    return result\n",
    "\n",
    "\n",
    "def calculatedResult(meanReturn,covMatrix,riskFreeRate = 0, constraintSet = (0,1),lambda_=0.03):\n",
    "    maxSR_portfolio = maxSR(meanReturn, covMatrix, lambda_)\n",
    "    maxSR_ret,maxSR_std = portfolioPerformance(maxSR_portfolio['x'],meanReturn, covMatrix)\n",
    "    maxSR_allocation = pd.DataFrame(maxSR_portfolio['x'], index = meanReturn.index,\n",
    "                                    columns = ['allocation'])\n",
    "    maxSR_allocation.allocation = [round(i*100,0) for i in maxSR_allocation.allocation]\n",
    "    minVol_portfolio = minimizeVariance(meanReturn, covMatrix)\n",
    "    minVol_ret,minVol_std = portfolioPerformance(minVol_portfolio['x'],meanReturn, covMatrix)\n",
    "    minVol_allocation = pd.DataFrame(minVol_portfolio['x'], index = meanReturn.index,\n",
    "                                    columns = ['allocation'])\n",
    "    minVol_allocation.allocation = [round(i*100,0) for i in minVol_allocation.allocation]\n",
    "    #Efficient frontier\n",
    "    efficientList = []\n",
    "    targetReturns = np.linspace(minVol_ret, maxSR_ret,20)\n",
    "    for target in targetReturns:\n",
    "        efficientList.append(efficientOpt(meanReturn, covMatrix, target)['fun'])\n",
    "    return maxSR_ret, maxSR_std, maxSR_allocation, minVol_ret, minVol_std, minVol_allocation,efficientList\n",
    "print(calculatedResult(mean_ret,std_ret))"
   ]
  },
  {
   "cell_type": "code",
   "execution_count": 222,
   "id": "22565326",
   "metadata": {},
   "outputs": [
    {
     "name": "stdout",
     "output_type": "stream",
     "text": [
      "     fun: 0.503\n",
      "     jac: array([0., 0., 0., 0., 0., 0., 0., 0., 0., 0.])\n",
      " message: 'Singular matrix C in LSQ subproblem'\n",
      "    nfev: 11\n",
      "     nit: 1\n",
      "    njev: 1\n",
      "  status: 6\n",
      " success: False\n",
      "       x: array([0.1, 0.1, 0.1, 0.1, 0.1, 0.1, 0.1, 0.1, 0.1, 0.1])\n"
     ]
    }
   ],
   "source": [
    "def portfolioReturn(weights, meanReturns, covMatrix):\n",
    "    return portfolioPerformance(weights, meanReturns, covMatrix)[0]\n",
    "def efficientOpt(meanReturns, covMatrix, returnTarget, constraintSet = (0,1)):\n",
    "    numAssets = len(meanReturns)\n",
    "    args = (meanReturns,covMatrix)\n",
    "    constraints = ({'type':'eq', 'fun': lambda x: portfolioReturn(x, meanReturns, covMatrix) - returnTarget},\n",
    "                  {'type':'eq', 'fun': lambda x: np.sum(x) - 1})\n",
    "    bounds = tuple(constraintSet for _ in range(numAssets))\n",
    "    effOpt = sc.minimize(portfolioVariance,numAssets*[1./numAssets],args = args,\n",
    "                        method = 'SLSQP', bounds = bounds, constraints = constraints)\n",
    "    return effOpt\n",
    "print(efficientOpt(mean_ret,std_ret,0.4))"
   ]
  },
  {
   "cell_type": "code",
   "execution_count": 221,
   "id": "8e8b71b2",
   "metadata": {},
   "outputs": [],
   "source": [
    "from pypfopt import expected_returns, risk_models, objective_functions, EfficientFrontier, objective_functions, CLA\n",
    "from scipy.optimize import minimize\n",
    "from scipy.stats import norm\n",
    "import matplotlib.pyplot as plt"
   ]
  },
  {
   "cell_type": "code",
   "execution_count": 93,
   "id": "083e9f69",
   "metadata": {},
   "outputs": [
    {
     "data": {
      "text/plain": [
       "array([2.33417949e-16, 2.20235546e-01, 1.23416979e-16, 1.56530380e-16,\n",
       "       1.11022302e-16, 0.00000000e+00, 4.36353133e-16, 7.79764454e-01,\n",
       "       0.00000000e+00, 0.00000000e+00])"
      ]
     },
     "execution_count": 93,
     "metadata": {},
     "output_type": "execute_result"
    }
   ],
   "source": [
    "# Define constraints\n",
    "bounds = [(0,1) for i in range(len(stockList))]\n",
    "# Define optimization constraints\n",
    "constraints = ({'type': 'eq', 'fun': lambda x: np.sum(x) - 1})\n",
    "# Define risk management parameters\n",
    "max_drawdown = 0.4\n",
    "volatility_target = 0.4\n",
    "cvar_alpha = 0.01\n",
    "gamma = 0.01\n",
    "alpha = 0.01\n",
    "from scipy.optimize import minimize\n",
    "# Define optimization problem\n",
    "def objective_function(w, mu, Sigma, gamma, alpha, max_drawdown, volatility_target, cvar_alpha):\n",
    "    # Calculate portfolio returns and risk\n",
    "    portfolio_return = np.dot(w, mu)\n",
    "    portfolio_volatility = np.sqrt(np.dot(w.T, np.dot(Sigma, w)))\n",
    "    # Calculate portfolio drawdown\n",
    "    portfolio_drawdown = max_drawdown - np.max(np.maximum.accumulate(portfolio_return.cumsum()) - portfolio_return.cumsum())\n",
    "    # Calculate portfolio CVaR\n",
    "    def calculate_cvar(weights, mu, Sigma, alpha):\n",
    "    # Calculate the portfolio return and standard deviation\n",
    "        port_return = np.dot(mu.T, weights)\n",
    "        port_std_dev = np.sqrt(np.dot(weights.T, np.dot(Sigma, weights)))\n",
    "    \n",
    "    # Calculate the VaR at the given alpha level\n",
    "        z_alpha = norm.ppf(alpha)\n",
    "        VaR = -(port_return - z_alpha * port_std_dev)\n",
    "    \n",
    "    # Calculate the CVaR at the given alpha level\n",
    "        cvar = -((1 / alpha) * norm.pdf(z_alpha)) * port_std_dev + VaR\n",
    "    \n",
    "        return cvar/8000\n",
    "    portfolio_cvar = calculate_cvar(w, mu, Sigma, cvar_alpha)\n",
    "    # Calculate penalty terms\n",
    "    volatility_penalty = gamma * np.square(portfolio_volatility - volatility_target)\n",
    "    drawdown_penalty = alpha * np.square(portfolio_drawdown)\n",
    "    \n",
    "    # Calculate objective function\n",
    "    obj = -portfolio_return+ volatility_penalty + drawdown_penalty + portfolio_cvar\n",
    "    return obj\n",
    "\n",
    "# Optimize portfolio with risk management\n",
    "result = minimize(objective_function, weights, args=(mean_ret, std_ret, gamma, alpha, max_drawdown, volatility_target, cvar_alpha), \n",
    "                  method='SLSQP', constraints=constraints, bounds=bounds)\n",
    "\n",
    "# Extract optimized portfolio weights\n",
    "optimized_weights = result.x\n",
    "optimized_weights"
   ]
  },
  {
   "cell_type": "code",
   "execution_count": 94,
   "id": "ac448ea7",
   "metadata": {},
   "outputs": [],
   "source": [
    "ret.drop(['portfolio'],axis=1,inplace=True)\n",
    "ret['portfolio'] = (ret * optimized_weights).sum(axis=1)\n",
    "level = (1+ret).cumprod()"
   ]
  },
  {
   "cell_type": "code",
   "execution_count": 95,
   "id": "8cdd956f",
   "metadata": {},
   "outputs": [
    {
     "data": {
      "text/html": [
       "<div>\n",
       "<style scoped>\n",
       "    .dataframe tbody tr th:only-of-type {\n",
       "        vertical-align: middle;\n",
       "    }\n",
       "\n",
       "    .dataframe tbody tr th {\n",
       "        vertical-align: top;\n",
       "    }\n",
       "\n",
       "    .dataframe thead th {\n",
       "        text-align: right;\n",
       "    }\n",
       "</style>\n",
       "<table border=\"1\" class=\"dataframe\">\n",
       "  <thead>\n",
       "    <tr style=\"text-align: right;\">\n",
       "      <th></th>\n",
       "      <th>AAPL</th>\n",
       "      <th>AMAT</th>\n",
       "      <th>AMZN</th>\n",
       "      <th>GOOGL</th>\n",
       "      <th>LRCX</th>\n",
       "      <th>MA</th>\n",
       "      <th>MSFT</th>\n",
       "      <th>NVDA</th>\n",
       "      <th>V</th>\n",
       "      <th>ZM</th>\n",
       "      <th>portfolio</th>\n",
       "    </tr>\n",
       "    <tr>\n",
       "      <th>Date</th>\n",
       "      <th></th>\n",
       "      <th></th>\n",
       "      <th></th>\n",
       "      <th></th>\n",
       "      <th></th>\n",
       "      <th></th>\n",
       "      <th></th>\n",
       "      <th></th>\n",
       "      <th></th>\n",
       "      <th></th>\n",
       "      <th></th>\n",
       "    </tr>\n",
       "  </thead>\n",
       "  <tbody>\n",
       "    <tr>\n",
       "      <th>2023-07-17</th>\n",
       "      <td>1.703932</td>\n",
       "      <td>2.415922</td>\n",
       "      <td>0.840952</td>\n",
       "      <td>1.551666</td>\n",
       "      <td>1.903968</td>\n",
       "      <td>1.224309</td>\n",
       "      <td>1.649555</td>\n",
       "      <td>3.485633</td>\n",
       "      <td>1.256061</td>\n",
       "      <td>0.139932</td>\n",
       "      <td>3.323592</td>\n",
       "    </tr>\n",
       "    <tr>\n",
       "      <th>2023-07-18</th>\n",
       "      <td>1.701648</td>\n",
       "      <td>2.399483</td>\n",
       "      <td>0.836356</td>\n",
       "      <td>1.540587</td>\n",
       "      <td>1.892055</td>\n",
       "      <td>1.212011</td>\n",
       "      <td>1.715207</td>\n",
       "      <td>3.563132</td>\n",
       "      <td>1.239484</td>\n",
       "      <td>0.138856</td>\n",
       "      <td>3.376232</td>\n",
       "    </tr>\n",
       "  </tbody>\n",
       "</table>\n",
       "</div>"
      ],
      "text/plain": [
       "                AAPL      AMAT      AMZN     GOOGL      LRCX        MA   \n",
       "Date                                                                     \n",
       "2023-07-17  1.703932  2.415922  0.840952  1.551666  1.903968  1.224309  \\\n",
       "2023-07-18  1.701648  2.399483  0.836356  1.540587  1.892055  1.212011   \n",
       "\n",
       "                MSFT      NVDA         V        ZM  portfolio  \n",
       "Date                                                           \n",
       "2023-07-17  1.649555  3.485633  1.256061  0.139932   3.323592  \n",
       "2023-07-18  1.715207  3.563132  1.239484  0.138856   3.376232  "
      ]
     },
     "execution_count": 95,
     "metadata": {},
     "output_type": "execute_result"
    }
   ],
   "source": [
    "level.tail(2)"
   ]
  },
  {
   "cell_type": "code",
   "execution_count": 89,
   "id": "5d2654ea",
   "metadata": {},
   "outputs": [
    {
     "data": {
      "image/png": "[encoded data removed]",
      "text/plain": [
       "<Figure size 504x504 with 1 Axes>"
      ]
     },
     "metadata": {
      "needs_background": "light"
     },
     "output_type": "display_data"
    }
   ],
   "source": [
    "fig,axs = plt.subplots(figsize = (7,7))\n",
    "axs.plot(level[['NVDA','MSFT','portfolio']],label = ['NVDA','MSFT','portfolio'])\n",
    "axs.legend()\n",
    "plt.show()"
   ]
  },
  {
   "cell_type": "code",
   "execution_count": null,
   "id": "6d98c284",
   "metadata": {},
   "outputs": [],
   "source": []
  }
 ],
 "metadata": {
  "kernelspec": {
   "display_name": "Python 3 (ipykernel)",
   "language": "python",
   "name": "python3"
  },
  "language_info": {
   "codemirror_mode": {
    "name": "ipython",
    "version": 3
   },
   "file_extension": ".py",
   "mimetype": "text/x-python",
   "name": "python",
   "nbconvert_exporter": "python",
   "pygments_lexer": "ipython3",
   "version": "3.10.6"
  }
 },
 "nbformat": 4,
 "nbformat_minor": 5
}
