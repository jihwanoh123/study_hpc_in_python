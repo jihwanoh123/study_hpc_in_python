{
 "cells": [
  {
   "cell_type": "code",
   "execution_count": 47,
   "id": "aaef3f49",
   "metadata": {},
   "outputs": [
    {
     "name": "stdout",
     "output_type": "stream",
     "text": [
      "[*********************100%***********************]  1 of 1 completed\n",
      "Best look-back period: 50\n",
      "Best holding period: 1\n",
      "Best Sharpe ratio: 6.522808002739007\n"
     ]
    },
    {
     "data": {
      "text/plain": [
       "<AxesSubplot:xlabel='Date'>"
      ]
     },
     "execution_count": 47,
     "metadata": {},
     "output_type": "execute_result"
    },
    {
     "data": {
      "image/png": "[encoded data removed]",
      "text/plain": [
       "<Figure size 432x288 with 1 Axes>"
      ]
     },
     "metadata": {
      "needs_background": "light"
     },
     "output_type": "display_data"
    }
   ],
   "source": [
    "import pandas as pd\n",
    "import numpy as np\n",
    "import yfinance as yf\n",
    "\n",
    "# set initial balance and load data\n",
    "\n",
    "ticker = 'NVDA'\n",
    "data = yf.download(ticker, start='2022-10-15', end='2023-04-05')\n",
    "prices = data['Adj Close']\n",
    "returns = prices.pct_change().fillna(0)\n",
    "\n",
    "# set up look-back and holding periods\n",
    "look_back_periods = [1, 3, 7, 20, 50]\n",
    "holding_periods = [1, 3, 7, 20, 50, 100]\n",
    "\n",
    "# initialize sharpe ratio and best parameters\n",
    "sharpe_ratio = -np.inf\n",
    "best_lb = None\n",
    "best_hp = None\n",
    "best_history=[]\n",
    "# iterate through all combinations of look-back and holding periods\n",
    "for lb in look_back_periods:\n",
    "    for hp in holding_periods:\n",
    "        balance = 100000\n",
    "        # initialize variables for tracking trades and P&L\n",
    "        trades = []\n",
    "        position = 0\n",
    "        pnl = []\n",
    "        temp=np.inf\n",
    "        # iterate through the price data\n",
    "        liquidation=[]\n",
    "        for i in range(len(prices)):\n",
    "            \n",
    "            # calculate momentum indicator\n",
    "            momentum = returns.iloc[max(0, i-lb):i+1].mean()\n",
    "            # check if we need to sell\n",
    "            if position > 0 and i - temp >= hp:\n",
    "                trades.append((prices.index[i], prices.iloc[i], 'SELL'))\n",
    "                balance += prices.iloc[i] * position\n",
    "                position = 0\n",
    "                pnl.append(balance - 100000)\n",
    "                \n",
    "            # check if we need to buy\n",
    "            elif balance>0 and momentum > 0:\n",
    "                temp=i\n",
    "                position = balance // prices.iloc[i]\n",
    "                trades.append((prices.index[i], prices.iloc[i], 'BUY'))\n",
    "                balance -= prices.iloc[i] * position\n",
    "            liquidation.append(balance+position*prices.iloc[i])\n",
    "        #print(liquidation)\n",
    "        # calculate sharpe ratio for this combination of look-back and holding periods\n",
    "        daily_returns = pd.Series(liquidation).pct_change().fillna(0)\n",
    "        annualized_return = (1 + daily_returns.mean())**252 - 1\n",
    "        annualized_volatility = daily_returns.std() * np.sqrt(252)\n",
    "        sharpe = annualized_return / annualized_volatility\n",
    "        # update best parameters if this sharpe ratio is higher\n",
    "        if sharpe > sharpe_ratio:\n",
    "            #print(liquidation)\n",
    "            sharpe_ratio = sharpe\n",
    "            best_lb = lb\n",
    "            best_hp = hp\n",
    "            best_history = liquidation\n",
    "            \n",
    "# print results\n",
    "print('Best look-back period:', best_lb)\n",
    "print('Best holding period:', best_hp)\n",
    "print('Best Sharpe ratio:', sharpe_ratio)\n",
    "\n",
    "# visualize historical return of the strategy\n",
    "best_history=pd.DataFrame(np.array(best_history),index=prices.index)\n",
    "best_history.plot()\n"
   ]
  },
  {
   "cell_type": "code",
   "execution_count": null,
   "id": "a0ad38ff",
   "metadata": {},
   "outputs": [],
   "source": []
  }
 ],
 "metadata": {
  "kernelspec": {
   "display_name": "Python 3 (ipykernel)",
   "language": "python",
   "name": "python3"
  },
  "language_info": {
   "codemirror_mode": {
    "name": "ipython",
    "version": 3
   },
   "file_extension": ".py",
   "mimetype": "text/x-python",
   "name": "python",
   "nbconvert_exporter": "python",
   "pygments_lexer": "ipython3",
   "version": "3.10.6"
  }
 },
 "nbformat": 4,
 "nbformat_minor": 5
}
