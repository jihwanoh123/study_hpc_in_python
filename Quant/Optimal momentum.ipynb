{
 "cells": [
  {
   "cell_type": "code",
   "execution_count": 1,
   "id": "ef273bad",
   "metadata": {},
   "outputs": [
    {
     "name": "stdout",
     "output_type": "stream",
     "text": [
      "[*********************100%***********************]  1 of 1 completed\n",
      "Best look-back period: 20\n",
      "Best holding period: 100\n",
      "Max Sharpe ratio: 16.71\n"
     ]
    },
    {
     "data": {
      "text/plain": [
       "<AxesSubplot:title={'center':'Optimal Momentum Strategy'}, xlabel='Date'>"
      ]
     },
     "execution_count": 1,
     "metadata": {},
     "output_type": "execute_result"
    },
    {
     "data": {
      "image/png": "[encoded data removed]",
      "text/plain": [
       "<Figure size 720x432 with 1 Axes>"
      ]
     },
     "metadata": {
      "needs_background": "light"
     },
     "output_type": "display_data"
    }
   ],
   "source": [
    "import pandas as pd\n",
    "import numpy as np\n",
    "import yfinance as yf\n",
    "\n",
    "# Load NVDA price data\n",
    "start_date = '2022-10-15'\n",
    "end_date = '2023-04-05'\n",
    "ticker = 'NVDA'\n",
    "data = yf.download(ticker, start=start_date, end=end_date)\n",
    "\n",
    "# Define parameters\n",
    "balance = 100000\n",
    "look_back_periods = [1, 3, 7, 20, 50]\n",
    "holding_periods = [1, 3, 7, 20, 50, 100]\n",
    "max_sharpe = -np.inf\n",
    "best_lb = 0\n",
    "best_hp = 0\n",
    "\n",
    "# Compute historical returns for each combination of parameters\n",
    "for lb in look_back_periods:\n",
    "    for hp in holding_periods:\n",
    "        # Compute momentum indicator\n",
    "        data['return'] = data['Adj Close'].pct_change(periods=lb)\n",
    "        # Compute signal\n",
    "        data['signal'] = np.where(data['return']>0, 1, -1)\n",
    "        # Compute portfolio returns\n",
    "        data['strategy_return'] = data['signal'].shift(1) * data['Adj Close'].pct_change(periods=hp)\n",
    "        # Compute portfolio balance\n",
    "        data['balance'] = (1 + data['strategy_return']).cumprod() * balance\n",
    "        # Compute Sharpe ratio\n",
    "        sharpe_ratio = data['strategy_return'].mean() / data['strategy_return'].std()\n",
    "        # Update max Sharpe ratio and best parameters if applicable\n",
    "        if sharpe_ratio > max_sharpe:\n",
    "            max_sharpe = sharpe_ratio\n",
    "            best_lb = lb\n",
    "            best_hp = hp\n",
    "\n",
    "# Compute optimal strategy using best parameters\n",
    "data['return'] = data['Adj Close'].pct_change(periods=best_lb)\n",
    "data['signal'] = np.where(data['return']>0, 1, -1)\n",
    "data['strategy_return'] = data['signal'].shift(1) * data['Adj Close'].pct_change(periods=best_hp)\n",
    "data['balance'] = (1 + data['strategy_return']).cumprod() * balance\n",
    "\n",
    "# Print best parameters and max Sharpe ratio\n",
    "print(f'Best look-back period: {best_lb}')\n",
    "print(f'Best holding period: {best_hp}')\n",
    "print(f'Max Sharpe ratio: {max_sharpe:.2f}')\n",
    "\n",
    "# Plot historical returns of the optimal strategy\n",
    "data[['Adj Close', 'balance']].plot(figsize=(10,6), title='Optimal Momentum Strategy')\n"
   ]
  },
  {
   "cell_type": "code",
   "execution_count": 6,
   "id": "c70bfd0f",
   "metadata": {},
   "outputs": [
    {
     "name": "stdout",
     "output_type": "stream",
     "text": [
      "[*********************100%***********************]  1 of 1 completed\n",
      "Annualized return:  3642.7397990290187\n",
      "Daily volatility:  0.09193191325168089\n",
      "Annualized Volatility return:  1.1951148722718516\n"
     ]
    }
   ],
   "source": [
    "import pandas as pd\n",
    "import numpy as np\n",
    "import yfinance as yf\n",
    "import matplotlib.pyplot as plt\n",
    "\n",
    "# Set initial balance\n",
    "balance = 100000\n",
    "\n",
    "# Load NVDA price data\n",
    "ticker = \"NVDA\"\n",
    "start_date = \"2022-10-15\"\n",
    "end_date = \"2023-04-05\"\n",
    "prices = yf.download(ticker, start=start_date, end=end_date)[\"Adj Close\"]\n",
    "\n",
    "# Set up look-back periods and holding periods\n",
    "lookback_periods = [1, 3, 7, 20, 50]\n",
    "holding_periods = [1, 3, 7, 20, 50, 100]\n",
    "\n",
    "# Create a DataFrame to store the results\n",
    "results = pd.DataFrame(columns=[\"lookback_period\", \"holding_period\", \"return\", \"sharpe_ratio\"])\n",
    "\n",
    "# Loop over all possible combinations of look-back periods and holding periods\n",
    "for lookback_period in lookback_periods:\n",
    "    for holding_period in holding_periods:\n",
    "        \n",
    "        # Compute the momentum signal\n",
    "        momentum = prices.pct_change(periods=lookback_period).shift(-lookback_period)\n",
    "        \n",
    "        # Buy and hold positions based on the momentum signal\n",
    "        signal = np.sign(momentum)\n",
    "        position = signal.shift(1)\n",
    "        \n",
    "        # Calculate the daily returns of the strategy\n",
    "        daily_returns = position * prices.pct_change(periods=holding_period)\n",
    "        \n",
    "        # Calculate the cumulative returns and the final balance\n",
    "        cum_returns = (1 + daily_returns).cumprod()\n",
    "        final_balance = balance * cum_returns[-1]\n",
    "        \n",
    "        # Calculate the annualized return and the annualized volatility\n",
    "        years = (cum_returns.index[-1] - cum_returns.index[0]).days / 365\n",
    "        total_return = (final_balance / balance) - 1\n",
    "        annualized_return = (1 + total_return) ** (1 / years) - 1\n",
    "        daily_volatility = daily_returns.std()\n",
    "        annualized_volatility = daily_volatility * np.sqrt(252)\n",
    "        \n",
    "        # Calculate the Sharpe ratio\n",
    "        sharpe_ratio = annualized_return / annualized_volatility\n",
    "        \n",
    "        # Add the results to the DataFrame\n",
    "        results = results.append({\n",
    "            \"lookback_period\": lookback_period,\n",
    "            \"holding_period\": holding_period,\n",
    "            \"return\": total_return,\n",
    "            \"sharpe_ratio\": sharpe_ratio\n",
    "        }, ignore_index=True)\n",
    "\n",
    "# Find the combination with the highest Sharpe ratio\n",
    "best_combination = results.iloc[results[\"sharpe_ratio\"].idxmax()]\n",
    "\n",
    "# Compute the momentum signal for the best combination\n",
    "momentum = prices.pct_change(periods=int(best_combination[\"lookback_period\"])).shift(-int(best_combination[\"lookback_period\"]))\n",
    "\n",
    "# Buy and hold positions based on the momentum signal\n",
    "signal = np.sign(momentum)\n",
    "position = signal.shift(1)\n",
    "\n",
    "# Calculate the daily returns of the strategy\n",
    "daily_returns = position * prices.pct_change(periods=int(best_combination[\"holding_period\"]))\n",
    "\n",
    "# Calculate the cumulative returns and the final balance\n",
    "cum_returns = (1 + daily_returns).cumprod()\n",
    "final_balance = balance * cum_returns[-1]\n",
    "\n",
    "# Calculate the annualized return and the annualized volatility\n",
    "years = (cum_returns.index[-1] - cum_returns.index[0]).days / 365\n",
    "total_return = (final_balance / balance) - 1\n",
    "annualized_return = (1 + total_return) ** (1 / years) - 1\n",
    "daily_volatility = daily_returns.std()\n",
    "annualized_volatility = daily_volatility * np.sqrt(365*years)\n",
    "print('Annualized return: ',annualized_return)\n",
    "print('Daily volatility: ',daily_volatility)\n",
    "print('Annualized Volatility return: ',annualized_volatility)"
   ]
  },
  {
   "cell_type": "code",
   "execution_count": 7,
   "id": "af4c4ec8",
   "metadata": {},
   "outputs": [
    {
     "name": "stdout",
     "output_type": "stream",
     "text": [
      "Initial Balance:  100000\n",
      "Final Balance:  4457026.479507787\n"
     ]
    }
   ],
   "source": [
    "print('Initial Balance: ',100000)\n",
    "print('Final Balance: ',final_balance)"
   ]
  },
  {
   "cell_type": "code",
   "execution_count": 12,
   "id": "05e2639f",
   "metadata": {},
   "outputs": [
    {
     "data": {
      "text/html": [
       "<div>\n",
       "<style scoped>\n",
       "    .dataframe tbody tr th:only-of-type {\n",
       "        vertical-align: middle;\n",
       "    }\n",
       "\n",
       "    .dataframe tbody tr th {\n",
       "        vertical-align: top;\n",
       "    }\n",
       "\n",
       "    .dataframe thead th {\n",
       "        text-align: right;\n",
       "    }\n",
       "</style>\n",
       "<table border=\"1\" class=\"dataframe\">\n",
       "  <thead>\n",
       "    <tr style=\"text-align: right;\">\n",
       "      <th></th>\n",
       "      <th>lookback_period</th>\n",
       "      <th>holding_period</th>\n",
       "      <th>return</th>\n",
       "      <th>sharpe_ratio</th>\n",
       "    </tr>\n",
       "  </thead>\n",
       "  <tbody>\n",
       "    <tr>\n",
       "      <th>2</th>\n",
       "      <td>1.0</td>\n",
       "      <td>7.0</td>\n",
       "      <td>43.570265</td>\n",
       "      <td>2496.097709</td>\n",
       "    </tr>\n",
       "  </tbody>\n",
       "</table>\n",
       "</div>"
      ],
      "text/plain": [
       "   lookback_period  holding_period     return  sharpe_ratio\n",
       "2              1.0             7.0  43.570265   2496.097709"
      ]
     },
     "execution_count": 12,
     "metadata": {},
     "output_type": "execute_result"
    }
   ],
   "source": [
    "# Find the combination of look-back and holding periods that maximize the Sharpe ratio\n",
    "max_sharpe_ratio = results[\"sharpe_ratio\"].max()\n",
    "best_combination = results.loc[results[\"sharpe_ratio\"] == max_sharpe_ratio]\n",
    "best_combination"
   ]
  },
  {
   "cell_type": "code",
   "execution_count": 13,
   "id": "c5c5a77b",
   "metadata": {},
   "outputs": [
    {
     "name": "stdout",
     "output_type": "stream",
     "text": [
      "Historical return of the strategy:\n"
     ]
    },
    {
     "data": {
      "text/plain": [
       "<AxesSubplot:xlabel='Date'>"
      ]
     },
     "execution_count": 13,
     "metadata": {},
     "output_type": "execute_result"
    },
    {
     "data": {
      "image/png": "[encoded data removed]",
      "text/plain": [
       "<Figure size 720x432 with 1 Axes>"
      ]
     },
     "metadata": {
      "needs_background": "light"
     },
     "output_type": "display_data"
    }
   ],
   "source": [
    "\n",
    "# Print the results\n",
    "print(\"Historical return of the strategy:\")\n",
    "cum_returns.plot(figsize=(10, 6))"
   ]
  },
  {
   "cell_type": "code",
   "execution_count": 47,
   "id": "25bb7a6e",
   "metadata": {},
   "outputs": [
    {
     "name": "stdout",
     "output_type": "stream",
     "text": [
      "[*********************100%***********************]  1 of 1 completed\n",
      "Best look-back period: 50\n",
      "Best holding period: 1\n",
      "Best Sharpe ratio: 6.522808002739007\n"
     ]
    },
    {
     "data": {
      "text/plain": [
       "<AxesSubplot:xlabel='Date'>"
      ]
     },
     "execution_count": 47,
     "metadata": {},
     "output_type": "execute_result"
    },
    {
     "data": {
      "image/png": "[encoded data removed]",
      "text/plain": [
       "<Figure size 432x288 with 1 Axes>"
      ]
     },
     "metadata": {
      "needs_background": "light"
     },
     "output_type": "display_data"
    }
   ],
   "source": [
    "import pandas as pd\n",
    "import numpy as np\n",
    "import yfinance as yf\n",
    "\n",
    "# set initial balance and load data\n",
    "\n",
    "ticker = 'NVDA'\n",
    "data = yf.download(ticker, start='2022-10-15', end='2023-04-05')\n",
    "prices = data['Adj Close']\n",
    "returns = prices.pct_change().fillna(0)\n",
    "\n",
    "# set up look-back and holding periods\n",
    "look_back_periods = [1, 3, 7, 20, 50]\n",
    "holding_periods = [1, 3, 7, 20, 50, 100]\n",
    "\n",
    "# initialize sharpe ratio and best parameters\n",
    "sharpe_ratio = -np.inf\n",
    "best_lb = None\n",
    "best_hp = None\n",
    "best_history=[]\n",
    "# iterate through all combinations of look-back and holding periods\n",
    "for lb in look_back_periods:\n",
    "    for hp in holding_periods:\n",
    "        balance = 100000\n",
    "        # initialize variables for tracking trades and P&L\n",
    "        trades = []\n",
    "        position = 0\n",
    "        pnl = []\n",
    "        temp=np.inf\n",
    "        # iterate through the price data\n",
    "        liquidation=[]\n",
    "        for i in range(len(prices)):\n",
    "            \n",
    "            # calculate momentum indicator\n",
    "            momentum = returns.iloc[max(0, i-lb):i+1].mean()\n",
    "            # check if we need to sell\n",
    "            if position > 0 and i - temp >= hp:\n",
    "                trades.append((prices.index[i], prices.iloc[i], 'SELL'))\n",
    "                balance += prices.iloc[i] * position\n",
    "                position = 0\n",
    "                pnl.append(balance - 100000)\n",
    "                \n",
    "            # check if we need to buy\n",
    "            elif balance>0 and momentum > 0:\n",
    "                temp=i\n",
    "                position = balance // prices.iloc[i]\n",
    "                trades.append((prices.index[i], prices.iloc[i], 'BUY'))\n",
    "                balance -= prices.iloc[i] * position\n",
    "            liquidation.append(balance+position*prices.iloc[i])\n",
    "        #print(liquidation)\n",
    "        # calculate sharpe ratio for this combination of look-back and holding periods\n",
    "        daily_returns = pd.Series(liquidation).pct_change().fillna(0)\n",
    "        annualized_return = (1 + daily_returns.mean())**252 - 1\n",
    "        annualized_volatility = daily_returns.std() * np.sqrt(252)\n",
    "        sharpe = annualized_return / annualized_volatility\n",
    "        # update best parameters if this sharpe ratio is higher\n",
    "        if sharpe > sharpe_ratio:\n",
    "            #print(liquidation)\n",
    "            sharpe_ratio = sharpe\n",
    "            best_lb = lb\n",
    "            best_hp = hp\n",
    "            best_history = liquidation\n",
    "            \n",
    "# print results\n",
    "print('Best look-back period:', best_lb)\n",
    "print('Best holding period:', best_hp)\n",
    "print('Best Sharpe ratio:', sharpe_ratio)\n",
    "\n",
    "# visualize historical return of the strategy\n",
    "best_history=pd.DataFrame(np.array(best_history),index=prices.index)\n",
    "best_history.plot()\n"
   ]
  },
  {
   "cell_type": "code",
   "execution_count": null,
   "id": "21ff6af2",
   "metadata": {},
   "outputs": [],
   "source": []
  }
 ],
 "metadata": {
  "kernelspec": {
   "display_name": "Python 3 (ipykernel)",
   "language": "python",
   "name": "python3"
  },
  "language_info": {
   "codemirror_mode": {
    "name": "ipython",
    "version": 3
   },
   "file_extension": ".py",
   "mimetype": "text/x-python",
   "name": "python",
   "nbconvert_exporter": "python",
   "pygments_lexer": "ipython3",
   "version": "3.10.6"
  }
 },
 "nbformat": 4,
 "nbformat_minor": 5
}
