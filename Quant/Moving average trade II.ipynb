{
 "cells": [
  {
   "cell_type": "code",
   "execution_count": null,
   "id": "31b66bce",
   "metadata": {},
   "outputs": [],
   "source": [
    "import pandas as pd\n",
    "import yfinance as yf\n",
    "import numpy as np\n",
    "import matplotlib.pyplot as plt\n",
    "import warnings\n",
    "#Optimization\n",
    "from scipy.optimize import minimize\n",
    "start_date='2015-04-01'\n",
    "end_date='2023-4-23'\n",
    "df_nv=yf.download('NVDA',start=start_date,end=end_date)\n",
    "df_ap=yf.download('AAPL',start=start_date,end=end_date)\n",
    "df_ms=yf.download('MSFT',start=start_date,end=end_date)\n",
    "df_goo=yf.download('GOOGL',start=start_date,end=end_date)\n",
    "\n",
    "df_amz=yf.download('AMZN',start=start_date,end=end_date)\n",
    "df_lr=yf.download('LRCX',start=start_date,end=end_date)"
   ]
  },
  {
   "cell_type": "code",
   "execution_count": null,
   "id": "9a6df80d",
   "metadata": {},
   "outputs": [],
   "source": [
    "def rolling_above(df,ma):\n",
    "    # suppress all warnings\n",
    "    warnings.filterwarnings(\"ignore\")\n",
    "    price=df[['Adj Close']]\n",
    "    MA='MA{}'.format(str(ma))\n",
    "    price[MA]=price['Adj Close'].rolling(window=int(ma)).mean()\n",
    "    price=price.dropna()\n",
    "    price['Position']=np.where(price[MA]<price['Adj Close'],1,-1)\n",
    "    detect=price['Position'].diff()\n",
    "    price['Return']=np.log(price['Adj Close']/\n",
    "                           price['Adj Close'].shift(1))\n",
    "    price['Strategy']=price['Return'].shift(1)*price['Position']\n",
    "    price.dropna(inplace=True)\n",
    "    ret=np.exp(price[['Strategy']].sum())\n",
    "    warnings.filterwarnings(\"default\")\n",
    "    return ret\n",
    "# define the initial guess\n",
    "x0 = [200]\n",
    "# define the bounds for the input variables\n",
    "bound = [(180, 230)]\n",
    "# integer constraint\n",
    "def integer_constraint(x):\n",
    "    # custom constraint function that checks if the input variable is an integer\n",
    "    return np.round(x) - x\n",
    "constraints = [{'type': 'ineq', 'fun': integer_constraint}]"
   ]
  },
  {
   "cell_type": "code",
   "execution_count": null,
   "id": "f02b47ec",
   "metadata": {},
   "outputs": [],
   "source": [
    "res_ms2 = minimize(lambda x: rolling_above(df_ms,x),x0, method='SLSQP',\n",
    "               bounds=bound, constraints=constraints)\n",
    "\n",
    "print(\"MSFT Optimized values:\", res_ms2.x)\n",
    "print(\"Function value:\", res_ms2.fun)"
   ]
  },
  {
   "cell_type": "code",
   "execution_count": null,
   "id": "9a779702",
   "metadata": {},
   "outputs": [],
   "source": [
    "res_nv2 = minimize(lambda x: rolling_above(df_nv,x),x0, method='SLSQP',\n",
    "               bounds=bound, constraints=constraints)\n",
    "\n",
    "print(\"NVDA Optimized values:\", res_nv2.x)\n",
    "print(\"Function value:\", res_nv2.fun)"
   ]
  },
  {
   "cell_type": "code",
   "execution_count": null,
   "id": "130f6162",
   "metadata": {},
   "outputs": [],
   "source": [
    "def rolling_above_strat_order_num(df,tic,ma):\n",
    "    # suppress all warnings\n",
    "    warnings.filterwarnings(\"ignore\")\n",
    "    price=df[['Adj Close']]\n",
    "    price=price.rename(columns={'Adj Close':tic})\n",
    "    MA='MA{}'.format(str(ma))\n",
    "    price[MA]=price[tic].rolling(window=int(ma)).mean()\n",
    "    price=price.dropna()\n",
    "    price['Position']=np.where(price[MA]<price[tic],1,0)\n",
    "    detect=price['Position'].diff()\n",
    "    buy_indices=price.index[detect>0].to_list()\n",
    "    price['Return']=np.log(price[tic]/price[tic].shift(1))\n",
    "    price['Strategy']=price['Return'].shift(1)*price['Position']\n",
    "    price.dropna(inplace=True)\n",
    "    ret=np.exp(price[['Strategy']].sum())[0]\n",
    "    no_strat=np.exp(price[['Return']].sum())[0]\n",
    "    return len(buy_indices),ret,no_strat\n",
    "    warnings.filterwarnings(\"default\")\n",
    "days=np.arange(150,240,10)\n",
    "for df,tic in zip(dfs,tics):\n",
    "    best_ct=1000\n",
    "    best_ret=0\n",
    "    best_day_ct=0\n",
    "    best_ret_ct=0\n",
    "    best_day_ret=0\n",
    "    no_strat_ret=0\n",
    "    print('Here we go ',tic)\n",
    "    for day in days:\n",
    "        cnt,ret,no_strat=rolling_above_strat_order_num(df,tic,day)\n",
    "        if cnt<best_ct:\n",
    "            best_ct=cnt\n",
    "            best_day_ct=day\n",
    "            best_ret_ct=ret\n",
    "        if ret>best_ret:\n",
    "            best_ret=ret\n",
    "            best_day_ret=day\n",
    "            no_strat_ret=no_strat\n",
    "    print('Best MA to choose for ',tic,' to minimize order number is ',best_day_ct)\n",
    "    print('Its order number is ',best_ct,' and its return is ',best_ret_ct)\n",
    "    print('Best MA to choose for ',tic,' to maximize return is ',best_day_ret)\n",
    "    print('Its return is ',best_ret,'. Comare it with ',no_strat_ret)"
   ]
  },
  {
   "cell_type": "code",
   "execution_count": null,
   "id": "4a40a937",
   "metadata": {},
   "outputs": [],
   "source": [
    "def rolling_above_plot(df,tic,ma):\n",
    "    # suppress all warnings\n",
    "    warnings.filterwarnings(\"ignore\")\n",
    "    price=df[['Adj Close']]\n",
    "    price=price.rename(columns={'Adj Close':tic})\n",
    "    MA='MA{}'.format(str(ma))\n",
    "    price[MA]=price[tic].rolling(window=int(ma)).mean()\n",
    "    price=price.dropna()\n",
    "    price['Position']=np.where(price[MA]<price[tic],1,0)\n",
    "    detect=price['Position'].diff()\n",
    "    buy_indices=price.index[detect>0].to_list()\n",
    "    print('Buy at ',buy_indices)\n",
    "    sell_indices=price.index[detect<0].to_list()\n",
    "    print('Total number of orders made ',len(sell_indices))\n",
    "    ax = price.plot(secondary_y='Position', figsize=(10, 6))\n",
    "    ax.get_legend().set_bbox_to_anchor((0.25, 0.85))\n",
    "    price['Return']=np.log(price[tic]/price[tic].shift(1))\n",
    "    price['Strategy']=price['Return'].shift(1)*price['Position']\n",
    "    price.dropna(inplace=True)\n",
    "    ret=np.exp(price[['Return','Strategy']].sum())\n",
    "    print(ret)\n",
    "    warnings.filterwarnings(\"default\")"
   ]
  },
  {
   "cell_type": "code",
   "execution_count": null,
   "id": "c9c0eb55",
   "metadata": {},
   "outputs": [],
   "source": [
    "dfs=[df_nv,df_ap,df_ms,df_goo,df_amz,df_lr]\n",
    "tics=['NVDA','AAPL','MSFT','GOOGL','AMZN','LRCX']"
   ]
  },
  {
   "cell_type": "code",
   "execution_count": null,
   "id": "53d9a024",
   "metadata": {},
   "outputs": [],
   "source": [
    "for df,tic in zip(dfs,tics):\n",
    "    print('Here we go ',tic)\n",
    "    rolling_above_plot(df,tic,230)"
   ]
  }
 ],
 "metadata": {
  "kernelspec": {
   "display_name": "Python 3 (ipykernel)",
   "language": "python",
   "name": "python3"
  },
  "language_info": {
   "codemirror_mode": {
    "name": "ipython",
    "version": 3
   },
   "file_extension": ".py",
   "mimetype": "text/x-python",
   "name": "python",
   "nbconvert_exporter": "python",
   "pygments_lexer": "ipython3",
   "version": "3.10.6"
  }
 },
 "nbformat": 4,
 "nbformat_minor": 5
}
