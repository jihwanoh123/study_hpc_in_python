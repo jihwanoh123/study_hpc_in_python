{
 "cells": [
  {
   "cell_type": "code",
   "execution_count": null,
   "id": "6f46631d",
   "metadata": {},
   "outputs": [],
   "source": [
    "import pandas as pd\n",
    "import numpy as np\n",
    "import yfinance as yf\n",
    "import scipy.stats as stats\n",
    "import matplotlib.pyplot as plt\n",
    "\n",
    "# Step 0: Web scrap price data\n",
    "symbols = ['MSFT', 'AAPL', 'NVDA', 'LRCX', 'AMZN', 'GOOGL', 'TSLA']\n",
    "start_date = '2015-03-21'\n",
    "end_date = '2022-02-01'\n",
    "\n",
    "prices_df = pd.DataFrame()\n",
    "for symbol in symbols:\n",
    "    ticker = yf.Ticker(symbol)\n",
    "    df = ticker.history(start=start_date, end=end_date)\n",
    "    prices_df[symbol] = df['Close']\n",
    "\n",
    "# Step 1: Construct a portfolio of equal weights\n",
    "weights = np.array([1/len(symbols)]*len(symbols))\n",
    "portfolio_df = prices_df.dot(weights)\n",
    "\n",
    "# Step 2: Compute daily return of the portfolio\n",
    "returns_df = portfolio_df.pct_change().dropna()\n",
    "\n",
    "# Step 3: Prepare inputs for the Pearson system\n",
    "mean = np.mean(returns_df)\n",
    "std_dev = np.std(returns_df)\n",
    "skewness = stats.skew(returns_df)\n",
    "kurtosis = stats.kurtosis(returns_df)\n",
    "\n",
    "# Step 4: Model the portfolio return PDF by the Pearson system\n",
    "pearson_params = stats.pearson3.fit(returns_df)\n",
    "\n",
    "# Step 5: Generate 1000 samples from the model\n",
    "samples = stats.pearson3.rvs(*pearson_params, size=1000)"
   ]
  },
  {
   "cell_type": "code",
   "execution_count": 31,
   "id": "fa1efd19",
   "metadata": {},
   "outputs": [
    {
     "name": "stderr",
     "output_type": "stream",
     "text": [
      "/tmp/ipykernel_3572068/3340363911.py:7: RuntimeWarning: invalid value encountered in log\n",
      "  g = np.sum(np.log(1 + f*samples))/len(samples)\n"
     ]
    },
    {
     "data": {
      "image/png": "[encoded data removed]",
      "text/plain": [
       "<Figure size 432x288 with 1 Axes>"
      ]
     },
     "metadata": {
      "needs_background": "light"
     },
     "output_type": "display_data"
    },
    {
     "name": "stdout",
     "output_type": "stream",
     "text": [
      "The optimal leverage:  5.13\n"
     ]
    }
   ],
   "source": [
    "# Step 6: Plot g(f)\n",
    "f_values = np.arange(0, 21, 0.01)\n",
    "g_values = []\n",
    "g_max=float('-inf')\n",
    "f_max=-1\n",
    "for f in f_values:\n",
    "    g = np.sum(np.log(1 + f*samples))/len(samples)\n",
    "    if g>g_max:\n",
    "        g_max=g\n",
    "        f_max=f\n",
    "    g_values.append(g)\n",
    "\n",
    "plt.plot(f_values, g_values)\n",
    "plt.xlabel('f')\n",
    "plt.ylabel('g(f)')\n",
    "plt.show()\n",
    "print('The optimal leverage: ',f_max)"
   ]
  },
  {
   "cell_type": "code",
   "execution_count": null,
   "id": "f0a6733e",
   "metadata": {},
   "outputs": [],
   "source": []
  }
 ],
 "metadata": {
  "kernelspec": {
   "display_name": "Python 3 (ipykernel)",
   "language": "python",
   "name": "python3"
  },
  "language_info": {
   "codemirror_mode": {
    "name": "ipython",
    "version": 3
   },
   "file_extension": ".py",
   "mimetype": "text/x-python",
   "name": "python",
   "nbconvert_exporter": "python",
   "pygments_lexer": "ipython3",
   "version": "3.10.6"
  }
 },
 "nbformat": 4,
 "nbformat_minor": 5
}
