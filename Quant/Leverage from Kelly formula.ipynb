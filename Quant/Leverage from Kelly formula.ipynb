{
 "cells": [
  {
   "cell_type": "code",
   "execution_count": 44,
   "id": "7a2faf40",
   "metadata": {},
   "outputs": [
    {
     "name": "stdout",
     "output_type": "stream",
     "text": [
      "Optimized weights for the portfolio that consists of\n",
      "MSFT, AAPL, NVDA, LRCX, AMZN, GOOGL, TSLA are\n",
      "[2.20456601e-01 0.00000000e+00 3.99232985e-01 4.33680869e-17\n",
      " 1.90550435e-01 0.00000000e+00 1.89759979e-01]\n"
     ]
    }
   ],
   "source": [
    "import pandas as pd\n",
    "import numpy as np\n",
    "import yfinance as yf\n",
    "import scipy.stats as stats\n",
    "import matplotlib.pyplot as plt\n",
    "import scipy.optimize as optimize\n",
    "\n",
    "# Step 0: Web scrap price data\n",
    "symbols = ['MSFT', 'AAPL', 'NVDA', 'LRCX', 'AMZN', 'GOOGL', 'TSLA']\n",
    "start_date = '2015-03-21'\n",
    "end_date = '2022-02-01'\n",
    "\n",
    "prices_df = pd.DataFrame()\n",
    "for symbol in symbols:\n",
    "    ticker = yf.Ticker(symbol)\n",
    "    df = ticker.history(start=start_date, end=end_date)\n",
    "    prices_df[symbol] = df['Close']\n",
    "\n",
    "# Step 1: Optimize portfolio weights\n",
    "def sharpe_ratio(weights, returns, risk_free_rate):\n",
    "    portfolio_return = np.sum(returns.mean() * weights) * 252\n",
    "    portfolio_std_dev = np.sqrt(np.dot(weights.T, np.dot(returns.cov() * 252, weights)))\n",
    "    sharpe_ratio = (portfolio_return - risk_free_rate) / portfolio_std_dev\n",
    "    return -sharpe_ratio\n",
    "\n",
    "def m_drawdown(weights, returns, max_drawdown):\n",
    "    portfolio_returns = np.dot(returns, weights)\n",
    "    cum_returns = np.cumprod(portfolio_returns + 1)\n",
    "    max_drawdown_value = np.max(np.maximum.accumulate(cum_returns) - cum_returns) / np.max(cum_returns)\n",
    "    return max_drawdown_value - max_drawdown\n",
    "\n",
    "def optimize_weights(returns, risk_free_rate, max_drawdown):\n",
    "    num_assets = returns.shape[1]\n",
    "    initial_weights = np.array([1/num_assets]*num_assets)\n",
    "    bounds = tuple((0, 1) for i in range(num_assets))\n",
    "    constraints = ({'type': 'eq', 'fun': lambda x: np.sum(x) - 1},\n",
    "                   {'type': 'ineq', 'fun': lambda x: m_drawdown(x, returns, max_drawdown)})\n",
    "    result = optimize.minimize(sharpe_ratio, initial_weights, args=(returns, risk_free_rate), bounds=bounds, constraints=constraints)\n",
    "    return result.x\n",
    "\n",
    "risk_free_rate = 0.02 # assuming a constant risk-free rate of 2%\n",
    "max_drawdown_constraint = 0.2 # max drawdown constraint of 20%\n",
    "\n",
    "returns_df = prices_df.pct_change().dropna()\n",
    "optimized_weights = optimize_weights(returns_df, risk_free_rate, max_drawdown_constraint)\n",
    "print('Optimized weights for the portfolio that consists of')\n",
    "print('MSFT, AAPL, NVDA, LRCX, AMZN, GOOGL, TSLA are')\n",
    "print(optimized_weights)\n",
    "\n",
    "portfolio_df = prices_df.dot(optimized_weights)"
   ]
  },
  {
   "cell_type": "code",
   "execution_count": 45,
   "id": "9a3cfe5f",
   "metadata": {},
   "outputs": [],
   "source": [
    "# Step 2: Compute daily return of the portfolio\n",
    "returns_df = portfolio_df.pct_change().dropna()\n",
    "\n",
    "# Step 3: Model the portfolio return PDF by the Pearson system\n",
    "pearson_params = stats.pearson3.fit(returns_df)\n",
    "\n",
    "# Step 4: Generate 1000 samples from the model\n",
    "samples = stats.pearson3.rvs(*pearson_params, size=1000)"
   ]
  },
  {
   "cell_type": "code",
   "execution_count": 46,
   "id": "2d179593",
   "metadata": {},
   "outputs": [
    {
     "name": "stderr",
     "output_type": "stream",
     "text": [
      "/tmp/ipykernel_3572068/1734225667.py:7: RuntimeWarning: invalid value encountered in log\n",
      "  g = np.sum(np.log(1 + f*samples))/len(samples)\n"
     ]
    },
    {
     "data": {
      "image/png": "[encoded data removed]",
      "text/plain": [
       "<Figure size 432x288 with 1 Axes>"
      ]
     },
     "metadata": {
      "needs_background": "light"
     },
     "output_type": "display_data"
    },
    {
     "name": "stdout",
     "output_type": "stream",
     "text": [
      "The optimal leverage:  4.04\n"
     ]
    }
   ],
   "source": [
    "# Step 5: Plot g(f)\n",
    "f_values = np.arange(0, 21, 0.01)\n",
    "g_values = []\n",
    "g_max=float('-inf')\n",
    "f_max=-1\n",
    "for f in f_values:\n",
    "    g = np.sum(np.log(1 + f*samples))/len(samples)\n",
    "    if g>g_max:\n",
    "        g_max=g\n",
    "        f_max=f\n",
    "    g_values.append(g)\n",
    "\n",
    "plt.plot(f_values, g_values)\n",
    "plt.xlabel('f')\n",
    "plt.ylabel('g(f)')\n",
    "plt.show()\n",
    "print('The optimal leverage: ',f_max)"
   ]
  }
 ],
 "metadata": {
  "kernelspec": {
   "display_name": "Python 3 (ipykernel)",
   "language": "python",
   "name": "python3"
  },
  "language_info": {
   "codemirror_mode": {
    "name": "ipython",
    "version": 3
   },
   "file_extension": ".py",
   "mimetype": "text/x-python",
   "name": "python",
   "nbconvert_exporter": "python",
   "pygments_lexer": "ipython3",
   "version": "3.10.6"
  }
 },
 "nbformat": 4,
 "nbformat_minor": 5
}
