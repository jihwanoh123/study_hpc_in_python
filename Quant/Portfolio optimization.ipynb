{
 "cells": [
  {
   "cell_type": "code",
   "execution_count": 51,
   "id": "67466786",
   "metadata": {
    "scrolled": true
   },
   "outputs": [
    {
     "name": "stdout",
     "output_type": "stream",
     "text": [
      "[*********************100%***********************]  4 of 4 completed\n"
     ]
    },
    {
     "data": {
      "text/plain": [
       "array([1.00000000e+00, 4.48252546e-15, 0.00000000e+00, 9.35362898e-15])"
      ]
     },
     "execution_count": 51,
     "metadata": {},
     "output_type": "execute_result"
    }
   ],
   "source": [
    "# Import necessary libraries\n",
    "import numpy as np\n",
    "import pandas as pd\n",
    "import yfinance as yf\n",
    "from pypfopt import expected_returns, risk_models, objective_functions, EfficientFrontier, objective_functions, CLA\n",
    "from scipy.optimize import minimize\n",
    "from scipy.stats import norm\n",
    "\n",
    "# Define portfolio weights from ensemble learning algorithm\n",
    "weights = np.array([0.25, 0.3, 0.15, 0.3])\n",
    "\n",
    "# Define assets and risk-free rate\n",
    "tickers = ['AAPL', 'AMZN', 'GOOG', 'NFLX']\n",
    "start_date = '2020-03-31'\n",
    "end_date = '2022-02-15'\n",
    "data = yf.download(tickers, start=start_date, end=end_date)\n",
    "mu = expected_returns.mean_historical_return(data)\n",
    "mu=mu['Adj Close'].values\n",
    "Sigma = risk_models.sample_cov(data)\n",
    "Sigma=Sigma.loc['Adj Close','Adj Close'].values\n",
    "# Define constraints\n",
    "bounds = [(0,1) for i in range(len(tickers))]\n",
    "# Define optimization constraints\n",
    "constraints = ({'type': 'eq', 'fun': lambda x: np.sum(x) - 1})\n",
    "# Define risk management parameters\n",
    "max_drawdown = 0.1\n",
    "volatility_target = 0.15\n",
    "cvar_alpha = 0.05\n",
    "gamma = 1\n",
    "alpha = 1\n",
    "# Define optimization problem\n",
    "def objective_function(w, mu, Sigma, gamma, alpha, max_drawdown, volatility_target, cvar_alpha):\n",
    "    # Calculate portfolio returns and risk\n",
    "    portfolio_return = np.dot(w, mu)\n",
    "    portfolio_volatility = np.sqrt(np.dot(w.T, np.dot(Sigma, w)))\n",
    "    # Calculate portfolio drawdown\n",
    "    portfolio_drawdown = max_drawdown - np.max(np.maximum.accumulate(portfolio_return.cumsum()) - portfolio_return.cumsum())\n",
    "    # Calculate portfolio CVaR\n",
    "    def calculate_cvar(weights, mu, Sigma, alpha):\n",
    "    # Calculate the portfolio return and standard deviation\n",
    "        port_return = np.dot(mu.T, weights)\n",
    "        port_std_dev = np.sqrt(np.dot(weights.T, np.dot(Sigma, weights)))\n",
    "    \n",
    "    # Calculate the VaR at the given alpha level\n",
    "        z_alpha = norm.ppf(alpha)\n",
    "        VaR = -(port_return - z_alpha * port_std_dev)\n",
    "    \n",
    "    # Calculate the CVaR at the given alpha level\n",
    "        cvar = -((1 / alpha) * norm.pdf(z_alpha)) * port_std_dev + VaR\n",
    "    \n",
    "        return cvar\n",
    "    portfolio_cvar = calculate_cvar(w, mu, Sigma, cvar_alpha)\n",
    "    # Calculate penalty terms\n",
    "    volatility_penalty = gamma * np.square(portfolio_volatility - volatility_target)\n",
    "    drawdown_penalty = alpha * np.square(portfolio_drawdown)\n",
    "    \n",
    "    # Calculate objective function\n",
    "    obj = -portfolio_return + volatility_penalty + drawdown_penalty + portfolio_cvar\n",
    "    return obj\n",
    "\n",
    "# Optimize portfolio with risk management\n",
    "result = minimize(objective_function, weights, args=(mu, Sigma, gamma, alpha, max_drawdown, volatility_target, cvar_alpha), \n",
    "                  method='SLSQP', constraints=constraints, bounds=bounds)\n",
    "\n",
    "# Extract optimized portfolio weights\n",
    "optimized_weights = result.x\n",
    "optimized_weights"
   ]
  },
  {
   "cell_type": "code",
   "execution_count": 36,
   "id": "0260057b",
   "metadata": {},
   "outputs": [
    {
     "data": {
      "text/plain": [
       "array([10.95269454, 10.54230465, 10.38160408, ..., 93.10324379,\n",
       "       94.40224075, 93.34798054])"
      ]
     },
     "execution_count": 36,
     "metadata": {},
     "output_type": "execute_result"
    }
   ],
   "source": []
  },
  {
   "cell_type": "code",
   "execution_count": 37,
   "id": "448cbeca",
   "metadata": {},
   "outputs": [
    {
     "data": {
      "text/plain": [
       "array([10.95269454, 10.95269454, 10.95269454, ..., 98.76653151,\n",
       "       98.76653151, 98.76653151])"
      ]
     },
     "execution_count": 37,
     "metadata": {},
     "output_type": "execute_result"
    }
   ],
   "source": [
    "np.dot(weights.reshape(1,4), \n",
    "       np.maximum.accumulate(data['Adj Close']).T)[0]"
   ]
  },
  {
   "cell_type": "code",
   "execution_count": 23,
   "id": "a8db1aa8",
   "metadata": {},
   "outputs": [
    {
     "data": {
      "text/plain": [
       "252.69425354003906"
      ]
     },
     "execution_count": 23,
     "metadata": {},
     "output_type": "execute_result"
    }
   ],
   "source": [
    "current_value = np.dot(weights, data['Adj Close'].iloc[-1])\n",
    "current_value"
   ]
  },
  {
   "cell_type": "code",
   "execution_count": null,
   "id": "134a41e0",
   "metadata": {},
   "outputs": [],
   "source": []
  }
 ],
 "metadata": {
  "kernelspec": {
   "display_name": "Python 3 (ipykernel)",
   "language": "python",
   "name": "python3"
  },
  "language_info": {
   "codemirror_mode": {
    "name": "ipython",
    "version": 3
   },
   "file_extension": ".py",
   "mimetype": "text/x-python",
   "name": "python",
   "nbconvert_exporter": "python",
   "pygments_lexer": "ipython3",
   "version": "3.10.6"
  }
 },
 "nbformat": 4,
 "nbformat_minor": 5
}
