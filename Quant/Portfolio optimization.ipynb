{
 "cells": [
  {
   "cell_type": "code",
   "execution_count": 53,
   "id": "f66b27ac",
   "metadata": {
    "scrolled": true
   },
   "outputs": [
    {
     "name": "stdout",
     "output_type": "stream",
     "text": [
      "[*********************100%***********************]  4 of 4 completed\n"
     ]
    },
    {
     "data": {
      "text/plain": [
       "array([1.00000000e+00, 2.77555756e-17, 0.00000000e+00, 0.00000000e+00])"
      ]
     },
     "execution_count": 53,
     "metadata": {},
     "output_type": "execute_result"
    }
   ],
   "source": [
    "# Import necessary libraries\n",
    "import numpy as np\n",
    "import pandas as pd\n",
    "import yfinance as yf\n",
    "from pypfopt import expected_returns, risk_models, objective_functions, EfficientFrontier, objective_functions, CLA\n",
    "from scipy.optimize import minimize\n",
    "from scipy.stats import norm\n",
    "\n",
    "# Define portfolio weights from ensemble learning algorithm\n",
    "weights = np.array([0.25, 0.3, 0.15, 0.3])\n",
    "\n",
    "# Define assets and risk-free rate\n",
    "tickers = ['AAPL', 'AMZN', 'GOOG', 'NFLX']\n",
    "start_date = '2018-03-31'\n",
    "end_date = '2022-02-15'\n",
    "data = yf.download(tickers, start=start_date, end=end_date)\n",
    "mu = expected_returns.mean_historical_return(data)\n",
    "mu=mu['Adj Close'].values\n",
    "Sigma = risk_models.sample_cov(data)\n",
    "Sigma=Sigma.loc['Adj Close','Adj Close'].values\n",
    "# Define constraints\n",
    "bounds = [(0,1) for i in range(len(tickers))]\n",
    "# Define optimization constraints\n",
    "constraints = ({'type': 'eq', 'fun': lambda x: np.sum(x) - 1})\n",
    "# Define risk management parameters\n",
    "max_drawdown = 0.1\n",
    "volatility_target = 0.15\n",
    "cvar_alpha = 0.05\n",
    "gamma = 1\n",
    "alpha = 1\n",
    "# Define optimization problem\n",
    "def objective_function(w, mu, Sigma, gamma, alpha, max_drawdown, volatility_target, cvar_alpha):\n",
    "    # Calculate portfolio returns and risk\n",
    "    portfolio_return = np.dot(w, mu)\n",
    "    portfolio_volatility = np.sqrt(np.dot(w.T, np.dot(Sigma, w)))\n",
    "    # Calculate portfolio drawdown\n",
    "    portfolio_drawdown = max_drawdown - np.max(np.maximum.accumulate(portfolio_return.cumsum()) - portfolio_return.cumsum())\n",
    "    # Calculate portfolio CVaR\n",
    "    def calculate_cvar(weights, mu, Sigma, alpha):\n",
    "    # Calculate the portfolio return and standard deviation\n",
    "        port_return = np.dot(mu.T, weights)\n",
    "        port_std_dev = np.sqrt(np.dot(weights.T, np.dot(Sigma, weights)))\n",
    "    \n",
    "    # Calculate the VaR at the given alpha level\n",
    "        z_alpha = norm.ppf(alpha)\n",
    "        VaR = -(port_return - z_alpha * port_std_dev)\n",
    "    \n",
    "    # Calculate the CVaR at the given alpha level\n",
    "        cvar = -((1 / alpha) * norm.pdf(z_alpha)) * port_std_dev + VaR\n",
    "    \n",
    "        return cvar\n",
    "    portfolio_cvar = calculate_cvar(w, mu, Sigma, cvar_alpha)\n",
    "    # Calculate penalty terms\n",
    "    volatility_penalty = gamma * np.square(portfolio_volatility - volatility_target)\n",
    "    drawdown_penalty = alpha * np.square(portfolio_drawdown)\n",
    "    \n",
    "    # Calculate objective function\n",
    "    obj = -portfolio_return + volatility_penalty + drawdown_penalty + portfolio_cvar\n",
    "    return obj\n",
    "\n",
    "# Optimize portfolio with risk management\n",
    "result = minimize(objective_function, weights, args=(mu, Sigma, gamma, alpha, max_drawdown, volatility_target, cvar_alpha), \n",
    "                  method='SLSQP', constraints=constraints, bounds=bounds)\n",
    "\n",
    "# Extract optimized portfolio weights\n",
    "optimized_weights = result.x\n",
    "optimized_weights"
   ]
  },
  {
   "cell_type": "code",
   "execution_count": 59,
   "id": "41be19e7",
   "metadata": {},
   "outputs": [
    {
     "name": "stdout",
     "output_type": "stream",
     "text": [
      "odict_values([0.909565529052391, 0.0, 0.0904344709476089, 0.0])\n"
     ]
    }
   ],
   "source": [
    "# Create EfficientFrontier object\n",
    "ef = EfficientFrontier(mu, Sigma, weight_bounds=bounds)\n",
    "\n",
    "# Optimize for maximum Sharpe ratio\n",
    "weights = ef.max_sharpe()\n",
    "\n",
    "# Print final portfolio weights\n",
    "print(weights.values())"
   ]
  },
  {
   "cell_type": "code",
   "execution_count": null,
   "id": "e9602ae9",
   "metadata": {},
   "outputs": [],
   "source": []
  }
 ],
 "metadata": {
  "kernelspec": {
   "display_name": "Python 3 (ipykernel)",
   "language": "python",
   "name": "python3"
  },
  "language_info": {
   "codemirror_mode": {
    "name": "ipython",
    "version": 3
   },
   "file_extension": ".py",
   "mimetype": "text/x-python",
   "name": "python",
   "nbconvert_exporter": "python",
   "pygments_lexer": "ipython3",
   "version": "3.10.6"
  }
 },
 "nbformat": 4,
 "nbformat_minor": 5
}
