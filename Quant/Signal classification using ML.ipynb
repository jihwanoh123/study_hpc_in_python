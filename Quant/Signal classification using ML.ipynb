{
 "cells": [
  {
   "cell_type": "code",
   "execution_count": 3,
   "id": "7448bbfe",
   "metadata": {},
   "outputs": [
    {
     "name": "stdout",
     "output_type": "stream",
     "text": [
      "[*********************100%***********************]  1 of 1 completed\n"
     ]
    },
    {
     "name": "stderr",
     "output_type": "stream",
     "text": [
      "/tmp/ipykernel_764838/618291228.py:11: SettingWithCopyWarning: \n",
      "A value is trying to be set on a copy of a slice from a DataFrame.\n",
      "Try using .loc[row_indexer,col_indexer] = value instead\n",
      "\n",
      "See the caveats in the documentation: https://pandas.pydata.org/pandas-docs/stable/user_guide/indexing.html#returning-a-view-versus-a-copy\n",
      "  price2['Return']=np.log(price2/price2.shift(1))\n",
      "/usr/lib/python3/dist-packages/pandas/util/_decorators.py:311: SettingWithCopyWarning: \n",
      "A value is trying to be set on a copy of a slice from a DataFrame\n",
      "\n",
      "See the caveats in the documentation: https://pandas.pydata.org/pandas-docs/stable/user_guide/indexing.html#returning-a-view-versus-a-copy\n",
      "  return func(*args, **kwargs)\n",
      "/tmp/ipykernel_764838/618291228.py:13: SettingWithCopyWarning: \n",
      "A value is trying to be set on a copy of a slice from a DataFrame.\n",
      "Try using .loc[row_indexer,col_indexer] = value instead\n",
      "\n",
      "See the caveats in the documentation: https://pandas.pydata.org/pandas-docs/stable/user_guide/indexing.html#returning-a-view-versus-a-copy\n",
      "  price2['direction']=np.sign(price2['Return']).astype(int)\n"
     ]
    }
   ],
   "source": [
    "import pandas as pd\n",
    "import yfinance as yf\n",
    "import numpy as np\n",
    "import matplotlib.pyplot as plt\n",
    "import warnings\n",
    "start_date='2015-04-01'\n",
    "end_date='2023-4-23'\n",
    "ticker='NVDA'\n",
    "df=yf.download(ticker,start=start_date,end=end_date)\n",
    "price2=df[['Adj Close']]\n",
    "price2['Return']=np.log(price2/price2.shift(1))\n",
    "price2.dropna(inplace=True)\n",
    "price2['direction']=np.sign(price2['Return']).astype(int)"
   ]
  },
  {
   "cell_type": "code",
   "execution_count": 5,
   "id": "85a4dfd4",
   "metadata": {},
   "outputs": [
    {
     "name": "stderr",
     "output_type": "stream",
     "text": [
      "/tmp/ipykernel_764838/65954140.py:6: SettingWithCopyWarning: \n",
      "A value is trying to be set on a copy of a slice from a DataFrame.\n",
      "Try using .loc[row_indexer,col_indexer] = value instead\n",
      "\n",
      "See the caveats in the documentation: https://pandas.pydata.org/pandas-docs/stable/user_guide/indexing.html#returning-a-view-versus-a-copy\n",
      "  df[col]=df['Return'].shift(lag)\n"
     ]
    },
    {
     "data": {
      "text/html": [
       "<div>\n",
       "<style scoped>\n",
       "    .dataframe tbody tr th:only-of-type {\n",
       "        vertical-align: middle;\n",
       "    }\n",
       "\n",
       "    .dataframe tbody tr th {\n",
       "        vertical-align: top;\n",
       "    }\n",
       "\n",
       "    .dataframe thead th {\n",
       "        text-align: right;\n",
       "    }\n",
       "</style>\n",
       "<table border=\"1\" class=\"dataframe\">\n",
       "  <thead>\n",
       "    <tr style=\"text-align: right;\">\n",
       "      <th></th>\n",
       "      <th>Adj Close</th>\n",
       "      <th>Return</th>\n",
       "      <th>direction</th>\n",
       "      <th>lag_1</th>\n",
       "      <th>lag_2</th>\n",
       "    </tr>\n",
       "    <tr>\n",
       "      <th>Date</th>\n",
       "      <th></th>\n",
       "      <th></th>\n",
       "      <th></th>\n",
       "      <th></th>\n",
       "      <th></th>\n",
       "    </tr>\n",
       "  </thead>\n",
       "  <tbody>\n",
       "    <tr>\n",
       "      <th>2015-04-07</th>\n",
       "      <td>5.269795</td>\n",
       "      <td>0.008730</td>\n",
       "      <td>1</td>\n",
       "      <td>0.028553</td>\n",
       "      <td>0.002377</td>\n",
       "    </tr>\n",
       "    <tr>\n",
       "      <th>2015-04-08</th>\n",
       "      <td>5.308365</td>\n",
       "      <td>0.007292</td>\n",
       "      <td>1</td>\n",
       "      <td>0.008730</td>\n",
       "      <td>0.028553</td>\n",
       "    </tr>\n",
       "    <tr>\n",
       "      <th>2015-04-09</th>\n",
       "      <td>5.431311</td>\n",
       "      <td>0.022897</td>\n",
       "      <td>1</td>\n",
       "      <td>0.007292</td>\n",
       "      <td>0.008730</td>\n",
       "    </tr>\n",
       "    <tr>\n",
       "      <th>2015-04-10</th>\n",
       "      <td>5.486756</td>\n",
       "      <td>0.010157</td>\n",
       "      <td>1</td>\n",
       "      <td>0.022897</td>\n",
       "      <td>0.007292</td>\n",
       "    </tr>\n",
       "    <tr>\n",
       "      <th>2015-04-13</th>\n",
       "      <td>5.436131</td>\n",
       "      <td>-0.009270</td>\n",
       "      <td>-1</td>\n",
       "      <td>0.010157</td>\n",
       "      <td>0.022897</td>\n",
       "    </tr>\n",
       "    <tr>\n",
       "      <th>...</th>\n",
       "      <td>...</td>\n",
       "      <td>...</td>\n",
       "      <td>...</td>\n",
       "      <td>...</td>\n",
       "      <td>...</td>\n",
       "    </tr>\n",
       "    <tr>\n",
       "      <th>2023-04-17</th>\n",
       "      <td>270.019989</td>\n",
       "      <td>0.009077</td>\n",
       "      <td>1</td>\n",
       "      <td>0.011086</td>\n",
       "      <td>-0.001209</td>\n",
       "    </tr>\n",
       "    <tr>\n",
       "      <th>2023-04-18</th>\n",
       "      <td>276.670013</td>\n",
       "      <td>0.024330</td>\n",
       "      <td>1</td>\n",
       "      <td>0.009077</td>\n",
       "      <td>0.011086</td>\n",
       "    </tr>\n",
       "    <tr>\n",
       "      <th>2023-04-19</th>\n",
       "      <td>279.309998</td>\n",
       "      <td>0.009497</td>\n",
       "      <td>1</td>\n",
       "      <td>0.024330</td>\n",
       "      <td>0.009077</td>\n",
       "    </tr>\n",
       "    <tr>\n",
       "      <th>2023-04-20</th>\n",
       "      <td>271.040009</td>\n",
       "      <td>-0.030056</td>\n",
       "      <td>-1</td>\n",
       "      <td>0.009497</td>\n",
       "      <td>0.024330</td>\n",
       "    </tr>\n",
       "    <tr>\n",
       "      <th>2023-04-21</th>\n",
       "      <td>271.190002</td>\n",
       "      <td>0.000553</td>\n",
       "      <td>1</td>\n",
       "      <td>-0.030056</td>\n",
       "      <td>0.009497</td>\n",
       "    </tr>\n",
       "  </tbody>\n",
       "</table>\n",
       "<p>2026 rows × 5 columns</p>\n",
       "</div>"
      ],
      "text/plain": [
       "             Adj Close    Return  direction     lag_1     lag_2\n",
       "Date                                                           \n",
       "2015-04-07    5.269795  0.008730          1  0.028553  0.002377\n",
       "2015-04-08    5.308365  0.007292          1  0.008730  0.028553\n",
       "2015-04-09    5.431311  0.022897          1  0.007292  0.008730\n",
       "2015-04-10    5.486756  0.010157          1  0.022897  0.007292\n",
       "2015-04-13    5.436131 -0.009270         -1  0.010157  0.022897\n",
       "...                ...       ...        ...       ...       ...\n",
       "2023-04-17  270.019989  0.009077          1  0.011086 -0.001209\n",
       "2023-04-18  276.670013  0.024330          1  0.009077  0.011086\n",
       "2023-04-19  279.309998  0.009497          1  0.024330  0.009077\n",
       "2023-04-20  271.040009 -0.030056         -1  0.009497  0.024330\n",
       "2023-04-21  271.190002  0.000553          1 -0.030056  0.009497\n",
       "\n",
       "[2026 rows x 5 columns]"
      ]
     },
     "execution_count": 5,
     "metadata": {},
     "output_type": "execute_result"
    }
   ],
   "source": [
    "def create_lags(df,lags):\n",
    "    global cols\n",
    "    cols=[]\n",
    "    for lag in range(1,1+lags):\n",
    "        col='lag_{}'.format(lag)\n",
    "        df[col]=df['Return'].shift(lag)\n",
    "        cols.append(col)\n",
    "    df.dropna(inplace=True)\n",
    "    return df\n",
    "create_lags(price2,2)"
   ]
  },
  {
   "cell_type": "code",
   "execution_count": 6,
   "id": "82332f37",
   "metadata": {},
   "outputs": [
    {
     "name": "stderr",
     "output_type": "stream",
     "text": [
      "/tmp/ipykernel_764838/3167866647.py:6: SettingWithCopyWarning: \n",
      "A value is trying to be set on a copy of a slice from a DataFrame.\n",
      "Try using .loc[row_indexer,col_indexer] = value instead\n",
      "\n",
      "See the caveats in the documentation: https://pandas.pydata.org/pandas-docs/stable/user_guide/indexing.html#returning-a-view-versus-a-copy\n",
      "  df[col_bin]=np.digitize(df[col],bins=bins)\n"
     ]
    },
    {
     "data": {
      "text/html": [
       "<div>\n",
       "<style scoped>\n",
       "    .dataframe tbody tr th:only-of-type {\n",
       "        vertical-align: middle;\n",
       "    }\n",
       "\n",
       "    .dataframe tbody tr th {\n",
       "        vertical-align: top;\n",
       "    }\n",
       "\n",
       "    .dataframe thead th {\n",
       "        text-align: right;\n",
       "    }\n",
       "</style>\n",
       "<table border=\"1\" class=\"dataframe\">\n",
       "  <thead>\n",
       "    <tr style=\"text-align: right;\">\n",
       "      <th></th>\n",
       "      <th>lag_1_bin</th>\n",
       "      <th>lag_2_bin</th>\n",
       "      <th>direction</th>\n",
       "    </tr>\n",
       "    <tr>\n",
       "      <th>Date</th>\n",
       "      <th></th>\n",
       "      <th></th>\n",
       "      <th></th>\n",
       "    </tr>\n",
       "  </thead>\n",
       "  <tbody>\n",
       "    <tr>\n",
       "      <th>2015-04-07</th>\n",
       "      <td>1</td>\n",
       "      <td>1</td>\n",
       "      <td>1</td>\n",
       "    </tr>\n",
       "    <tr>\n",
       "      <th>2015-04-08</th>\n",
       "      <td>1</td>\n",
       "      <td>1</td>\n",
       "      <td>1</td>\n",
       "    </tr>\n",
       "    <tr>\n",
       "      <th>2015-04-09</th>\n",
       "      <td>1</td>\n",
       "      <td>1</td>\n",
       "      <td>1</td>\n",
       "    </tr>\n",
       "  </tbody>\n",
       "</table>\n",
       "</div>"
      ],
      "text/plain": [
       "            lag_1_bin  lag_2_bin  direction\n",
       "Date                                       \n",
       "2015-04-07          1          1          1\n",
       "2015-04-08          1          1          1\n",
       "2015-04-09          1          1          1"
      ]
     },
     "execution_count": 6,
     "metadata": {},
     "output_type": "execute_result"
    }
   ],
   "source": [
    "def create_bins(df,bins=[0]):\n",
    "    global cols_bin\n",
    "    cols_bin=[]\n",
    "    for col in cols:\n",
    "        col_bin=col+'_bin'\n",
    "        df[col_bin]=np.digitize(df[col],bins=bins)\n",
    "        cols_bin.append(col_bin)\n",
    "create_bins(price2)\n",
    "price2[cols_bin+['direction']].head(3)"
   ]
  },
  {
   "cell_type": "code",
   "execution_count": 7,
   "id": "a121420d",
   "metadata": {},
   "outputs": [
    {
     "data": {
      "text/plain": [
       "lag_1_bin  lag_2_bin  direction\n",
       "0          0          -1           173\n",
       "                       0             1\n",
       "                       1           227\n",
       "           1          -1           228\n",
       "                       1           291\n",
       "1          0          -1           253\n",
       "                       0             3\n",
       "                       1           262\n",
       "           1          -1           266\n",
       "                       1           322\n",
       "dtype: int64"
      ]
     },
     "execution_count": 7,
     "metadata": {},
     "output_type": "execute_result"
    }
   ],
   "source": [
    "grouped=price2.groupby(cols_bin+['direction'])\n",
    "grouped.size()"
   ]
  },
  {
   "cell_type": "code",
   "execution_count": 8,
   "id": "f7085b0b",
   "metadata": {},
   "outputs": [
    {
     "name": "stderr",
     "output_type": "stream",
     "text": [
      "/tmp/ipykernel_764838/1663386227.py:1: SettingWithCopyWarning: \n",
      "A value is trying to be set on a copy of a slice from a DataFrame.\n",
      "Try using .loc[row_indexer,col_indexer] = value instead\n",
      "\n",
      "See the caveats in the documentation: https://pandas.pydata.org/pandas-docs/stable/user_guide/indexing.html#returning-a-view-versus-a-copy\n",
      "  price2['freq']=np.where(price2[cols_bin].sum(axis=1)==2,-1,1)\n"
     ]
    },
    {
     "data": {
      "text/plain": [
       "True     1046\n",
       "False     980\n",
       "dtype: int64"
      ]
     },
     "execution_count": 8,
     "metadata": {},
     "output_type": "execute_result"
    }
   ],
   "source": [
    "price2['freq']=np.where(price2[cols_bin].sum(axis=1)==2,-1,1)\n",
    "(price2['freq']==price2['direction']).value_counts()"
   ]
  },
  {
   "cell_type": "code",
   "execution_count": 9,
   "id": "910029a4",
   "metadata": {},
   "outputs": [
    {
     "name": "stderr",
     "output_type": "stream",
     "text": [
      "/tmp/ipykernel_764838/2772046244.py:1: SettingWithCopyWarning: \n",
      "A value is trying to be set on a copy of a slice from a DataFrame.\n",
      "Try using .loc[row_indexer,col_indexer] = value instead\n",
      "\n",
      "See the caveats in the documentation: https://pandas.pydata.org/pandas-docs/stable/user_guide/indexing.html#returning-a-view-versus-a-copy\n",
      "  price2['strat_freq']=price2['freq']*price2['Return']\n"
     ]
    }
   ],
   "source": [
    "price2['strat_freq']=price2['freq']*price2['Return']"
   ]
  },
  {
   "cell_type": "code",
   "execution_count": 10,
   "id": "c6322b9f",
   "metadata": {},
   "outputs": [
    {
     "data": {
      "text/plain": [
       "Return        51.912418\n",
       "strat_freq    12.384996\n",
       "dtype: float64"
      ]
     },
     "execution_count": 10,
     "metadata": {},
     "output_type": "execute_result"
    }
   ],
   "source": [
    "price2[['Return','strat_freq']].sum().apply(np.exp)"
   ]
  },
  {
   "cell_type": "code",
   "execution_count": 11,
   "id": "7b997e04",
   "metadata": {},
   "outputs": [
    {
     "data": {
      "text/plain": [
       "<AxesSubplot:xlabel='Date'>"
      ]
     },
     "execution_count": 11,
     "metadata": {},
     "output_type": "execute_result"
    },
    {
     "data": {
      "image/png": "[encoded data removed]",
      "text/plain": [
       "<Figure size 432x288 with 1 Axes>"
      ]
     },
     "metadata": {
      "needs_background": "light"
     },
     "output_type": "display_data"
    }
   ],
   "source": [
    "price2[['Return','strat_freq']].cumsum().apply(np.exp).plot()"
   ]
  },
  {
   "cell_type": "code",
   "execution_count": 12,
   "id": "3a9df34f",
   "metadata": {},
   "outputs": [
    {
     "name": "stdout",
     "output_type": "stream",
     "text": [
      "Compare Sharpe ratios: buy-and-hold:  0.07885969964147578  strategy:  0.05556147666509002\n"
     ]
    }
   ],
   "source": [
    "def sharpe(series):\n",
    "    mu = (series.apply(np.exp)-1).mean()\n",
    "    std = (series.apply(np.exp)-1).std()\n",
    "    return mu/std\n",
    "print('Compare Sharpe ratios: buy-and-hold: ',sharpe(price2['Return'])\n",
    "      ,' strategy: ',sharpe(price2['strat_freq']))"
   ]
  },
  {
   "cell_type": "code",
   "execution_count": 13,
   "id": "b6b7d6ca",
   "metadata": {},
   "outputs": [],
   "source": [
    "from sklearn import linear_model\n",
    "from sklearn.naive_bayes import GaussianNB\n",
    "from sklearn.svm import SVC\n",
    "C=1\n",
    "models={'log_reg' : linear_model.LogisticRegression(),\n",
    "       'gauss_nb' : GaussianNB(),\n",
    "       'svm' : SVC(C=C)}"
   ]
  },
  {
   "cell_type": "code",
   "execution_count": 14,
   "id": "a2271001",
   "metadata": {},
   "outputs": [],
   "source": [
    "def fit_models(models):\n",
    "    mfit = {model: models[model].fit(price2[cols_bin],\n",
    "                                    price2['direction'])\n",
    "            for model in models.keys()}\n",
    "fit_models(models)"
   ]
  },
  {
   "cell_type": "code",
   "execution_count": 16,
   "id": "742ef6c2",
   "metadata": {},
   "outputs": [],
   "source": [
    "warnings.filterwarnings(\"ignore\")\n",
    "def derive_positions(data):\n",
    "    for model in models.keys():\n",
    "        data['pos_'+model]=models[model].predict(data[cols_bin])\n",
    "derive_positions(price2)\n",
    "warnings.filterwarnings(\"default\")"
   ]
  },
  {
   "cell_type": "code",
   "execution_count": 17,
   "id": "93ffce5e",
   "metadata": {},
   "outputs": [
    {
     "data": {
      "text/plain": [
       "<AxesSubplot:xlabel='Date'>"
      ]
     },
     "execution_count": 17,
     "metadata": {},
     "output_type": "execute_result"
    },
    {
     "data": {
      "image/png": "[encoded data removed]",
      "text/plain": [
       "<Figure size 720x432 with 1 Axes>"
      ]
     },
     "metadata": {
      "needs_background": "light"
     },
     "output_type": "display_data"
    }
   ],
   "source": [
    "def evaluate_strat(df):\n",
    "    global strats\n",
    "    strats=[]\n",
    "    for model in models.keys():\n",
    "        name='strat_'+model\n",
    "        df[name]=df['Return']*df['pos_'+model]\n",
    "        strats.append(name)\n",
    "    strats.append('Return')\n",
    "warnings.filterwarnings(\"ignore\")\n",
    "evaluate_strat(price2)\n",
    "warnings.filterwarnings(\"default\")\n",
    "strats.append('strat_freq')\n",
    "price2[strats].cumsum().apply(np.exp).plot(figsize=(10,6))"
   ]
  },
  {
   "cell_type": "code",
   "execution_count": 19,
   "id": "e01efb2c",
   "metadata": {},
   "outputs": [
    {
     "data": {
      "text/plain": [
       "strat_log_reg     51.912418\n",
       "strat_gauss_nb     8.628578\n",
       "strat_svm         51.912418\n",
       "Return            51.912418\n",
       "strat_freq        12.384996\n",
       "dtype: float64"
      ]
     },
     "execution_count": 19,
     "metadata": {},
     "output_type": "execute_result"
    }
   ],
   "source": [
    "price2[strats].sum().apply(np.exp)"
   ]
  },
  {
   "cell_type": "code",
   "execution_count": 22,
   "id": "c47a50a3",
   "metadata": {},
   "outputs": [
    {
     "name": "stdout",
     "output_type": "stream",
     "text": [
      "[*********************100%***********************]  1 of 1 completed\n"
     ]
    },
    {
     "name": "stderr",
     "output_type": "stream",
     "text": [
      "/usr/lib/python3/dist-packages/pandas/core/frame.py:5039: SettingWithCopyWarning: \n",
      "A value is trying to be set on a copy of a slice from a DataFrame\n",
      "\n",
      "See the caveats in the documentation: https://pandas.pydata.org/pandas-docs/stable/user_guide/indexing.html#returning-a-view-versus-a-copy\n",
      "  return super().rename(\n",
      "/tmp/ipykernel_764838/1398433113.py:4: SettingWithCopyWarning: \n",
      "A value is trying to be set on a copy of a slice from a DataFrame.\n",
      "Try using .loc[row_indexer,col_indexer] = value instead\n",
      "\n",
      "See the caveats in the documentation: https://pandas.pydata.org/pandas-docs/stable/user_guide/indexing.html#returning-a-view-versus-a-copy\n",
      "  df['Return']=np.log(df/df.shift(1))\n",
      "/tmp/ipykernel_764838/1398433113.py:5: SettingWithCopyWarning: \n",
      "A value is trying to be set on a copy of a slice from a DataFrame.\n",
      "Try using .loc[row_indexer,col_indexer] = value instead\n",
      "\n",
      "See the caveats in the documentation: https://pandas.pydata.org/pandas-docs/stable/user_guide/indexing.html#returning-a-view-versus-a-copy\n",
      "  df['directions']=np.sign(df['Return'])\n",
      "/usr/lib/python3/dist-packages/pandas/util/_decorators.py:311: SettingWithCopyWarning: \n",
      "A value is trying to be set on a copy of a slice from a DataFrame\n",
      "\n",
      "See the caveats in the documentation: https://pandas.pydata.org/pandas-docs/stable/user_guide/indexing.html#returning-a-view-versus-a-copy\n",
      "  return func(*args, **kwargs)\n",
      "/usr/lib/python3/dist-packages/pandas/util/_decorators.py:311: SettingWithCopyWarning: \n",
      "A value is trying to be set on a copy of a slice from a DataFrame\n",
      "\n",
      "See the caveats in the documentation: https://pandas.pydata.org/pandas-docs/stable/user_guide/indexing.html#returning-a-view-versus-a-copy\n",
      "  return func(*args, **kwargs)\n"
     ]
    },
    {
     "data": {
      "text/html": [
       "<div>\n",
       "<style scoped>\n",
       "    .dataframe tbody tr th:only-of-type {\n",
       "        vertical-align: middle;\n",
       "    }\n",
       "\n",
       "    .dataframe tbody tr th {\n",
       "        vertical-align: top;\n",
       "    }\n",
       "\n",
       "    .dataframe thead th {\n",
       "        text-align: right;\n",
       "    }\n",
       "</style>\n",
       "<table border=\"1\" class=\"dataframe\">\n",
       "  <thead>\n",
       "    <tr style=\"text-align: right;\">\n",
       "      <th></th>\n",
       "      <th>AAPL</th>\n",
       "      <th>Return</th>\n",
       "      <th>directions</th>\n",
       "      <th>lag_1</th>\n",
       "      <th>lag_2</th>\n",
       "      <th>lag_3</th>\n",
       "      <th>lag_4</th>\n",
       "      <th>lag_5</th>\n",
       "    </tr>\n",
       "    <tr>\n",
       "      <th>Date</th>\n",
       "      <th></th>\n",
       "      <th></th>\n",
       "      <th></th>\n",
       "      <th></th>\n",
       "      <th></th>\n",
       "      <th></th>\n",
       "      <th></th>\n",
       "      <th></th>\n",
       "    </tr>\n",
       "  </thead>\n",
       "  <tbody>\n",
       "    <tr>\n",
       "      <th>2015-01-12</th>\n",
       "      <td>24.547716</td>\n",
       "      <td>-0.024950</td>\n",
       "      <td>-1.0</td>\n",
       "      <td>0.001072</td>\n",
       "      <td>0.037702</td>\n",
       "      <td>0.013925</td>\n",
       "      <td>0.000094</td>\n",
       "      <td>-0.028576</td>\n",
       "    </tr>\n",
       "    <tr>\n",
       "      <th>2015-01-13</th>\n",
       "      <td>24.765671</td>\n",
       "      <td>0.008840</td>\n",
       "      <td>1.0</td>\n",
       "      <td>-0.024950</td>\n",
       "      <td>0.001072</td>\n",
       "      <td>0.037702</td>\n",
       "      <td>0.013925</td>\n",
       "      <td>0.000094</td>\n",
       "    </tr>\n",
       "    <tr>\n",
       "      <th>2015-01-14</th>\n",
       "      <td>24.671307</td>\n",
       "      <td>-0.003818</td>\n",
       "      <td>-1.0</td>\n",
       "      <td>0.008840</td>\n",
       "      <td>-0.024950</td>\n",
       "      <td>0.001072</td>\n",
       "      <td>0.037702</td>\n",
       "      <td>0.013925</td>\n",
       "    </tr>\n",
       "  </tbody>\n",
       "</table>\n",
       "</div>"
      ],
      "text/plain": [
       "                 AAPL    Return  directions     lag_1     lag_2     lag_3  \\\n",
       "Date                                                                        \n",
       "2015-01-12  24.547716 -0.024950        -1.0  0.001072  0.037702  0.013925   \n",
       "2015-01-13  24.765671  0.008840         1.0 -0.024950  0.001072  0.037702   \n",
       "2015-01-14  24.671307 -0.003818        -1.0  0.008840 -0.024950  0.001072   \n",
       "\n",
       "               lag_4     lag_5  \n",
       "Date                            \n",
       "2015-01-12  0.000094 -0.028576  \n",
       "2015-01-13  0.013925  0.000094  \n",
       "2015-01-14  0.037702  0.013925  "
      ]
     },
     "execution_count": 22,
     "metadata": {},
     "output_type": "execute_result"
    }
   ],
   "source": [
    "df_aapl=yf.download('AAPL','2015-01-01','2023-04-23')\n",
    "df=df_aapl[['Adj Close']]\n",
    "df.rename(columns={'Adj Close':'AAPL'},inplace=True)\n",
    "df['Return']=np.log(df/df.shift(1))\n",
    "df['directions']=np.sign(df['Return'])\n",
    "df.dropna(inplace=True)\n",
    "lags=5\n",
    "warnings.filterwarnings(\"ignore\")\n",
    "create_lags(df,lags)\n",
    "warnings.filterwarnings(\"default\")\n",
    "df.dropna(inplace=True)\n",
    "df.head(3)"
   ]
  },
  {
   "cell_type": "code",
   "execution_count": 23,
   "id": "8979e7b8",
   "metadata": {},
   "outputs": [
    {
     "name": "stderr",
     "output_type": "stream",
     "text": [
      "/tmp/ipykernel_764838/3167866647.py:6: SettingWithCopyWarning: \n",
      "A value is trying to be set on a copy of a slice from a DataFrame.\n",
      "Try using .loc[row_indexer,col_indexer] = value instead\n",
      "\n",
      "See the caveats in the documentation: https://pandas.pydata.org/pandas-docs/stable/user_guide/indexing.html#returning-a-view-versus-a-copy\n",
      "  df[col_bin]=np.digitize(df[col],bins=bins)\n"
     ]
    },
    {
     "data": {
      "text/plain": [
       "['lag_1_bin', 'lag_2_bin', 'lag_3_bin', 'lag_4_bin', 'lag_5_bin']"
      ]
     },
     "execution_count": 23,
     "metadata": {},
     "output_type": "execute_result"
    }
   ],
   "source": [
    "create_bins(df)\n",
    "cols_bin"
   ]
  },
  {
   "cell_type": "code",
   "execution_count": 24,
   "id": "ba5a373b",
   "metadata": {},
   "outputs": [
    {
     "data": {
      "text/html": [
       "<div>\n",
       "<style scoped>\n",
       "    .dataframe tbody tr th:only-of-type {\n",
       "        vertical-align: middle;\n",
       "    }\n",
       "\n",
       "    .dataframe tbody tr th {\n",
       "        vertical-align: top;\n",
       "    }\n",
       "\n",
       "    .dataframe thead th {\n",
       "        text-align: right;\n",
       "    }\n",
       "</style>\n",
       "<table border=\"1\" class=\"dataframe\">\n",
       "  <thead>\n",
       "    <tr style=\"text-align: right;\">\n",
       "      <th></th>\n",
       "      <th>lag_1_bin</th>\n",
       "      <th>lag_2_bin</th>\n",
       "      <th>lag_3_bin</th>\n",
       "      <th>lag_4_bin</th>\n",
       "      <th>lag_5_bin</th>\n",
       "    </tr>\n",
       "    <tr>\n",
       "      <th>Date</th>\n",
       "      <th></th>\n",
       "      <th></th>\n",
       "      <th></th>\n",
       "      <th></th>\n",
       "      <th></th>\n",
       "    </tr>\n",
       "  </thead>\n",
       "  <tbody>\n",
       "    <tr>\n",
       "      <th>2015-01-12</th>\n",
       "      <td>1</td>\n",
       "      <td>1</td>\n",
       "      <td>1</td>\n",
       "      <td>1</td>\n",
       "      <td>0</td>\n",
       "    </tr>\n",
       "    <tr>\n",
       "      <th>2015-01-13</th>\n",
       "      <td>0</td>\n",
       "      <td>1</td>\n",
       "      <td>1</td>\n",
       "      <td>1</td>\n",
       "      <td>1</td>\n",
       "    </tr>\n",
       "    <tr>\n",
       "      <th>2015-01-14</th>\n",
       "      <td>1</td>\n",
       "      <td>0</td>\n",
       "      <td>1</td>\n",
       "      <td>1</td>\n",
       "      <td>1</td>\n",
       "    </tr>\n",
       "  </tbody>\n",
       "</table>\n",
       "</div>"
      ],
      "text/plain": [
       "            lag_1_bin  lag_2_bin  lag_3_bin  lag_4_bin  lag_5_bin\n",
       "Date                                                             \n",
       "2015-01-12          1          1          1          1          0\n",
       "2015-01-13          0          1          1          1          1\n",
       "2015-01-14          1          0          1          1          1"
      ]
     },
     "execution_count": 24,
     "metadata": {},
     "output_type": "execute_result"
    }
   ],
   "source": [
    "df[cols_bin].head(3)"
   ]
  },
  {
   "cell_type": "code",
   "execution_count": 25,
   "id": "ebcb008e",
   "metadata": {},
   "outputs": [
    {
     "name": "stderr",
     "output_type": "stream",
     "text": [
      "/usr/lib/python3/dist-packages/pandas/util/_decorators.py:311: SettingWithCopyWarning: \n",
      "A value is trying to be set on a copy of a slice from a DataFrame\n",
      "\n",
      "See the caveats in the documentation: https://pandas.pydata.org/pandas-docs/stable/user_guide/indexing.html#returning-a-view-versus-a-copy\n",
      "  return func(*args, **kwargs)\n"
     ]
    }
   ],
   "source": [
    "df.dropna(inplace=True)"
   ]
  },
  {
   "cell_type": "code",
   "execution_count": 27,
   "id": "20a64712",
   "metadata": {},
   "outputs": [],
   "source": [
    "def fit_models(models):\n",
    "    mfit = {model: models[model].fit(df[cols_bin],\n",
    "                                    df['directions'])\n",
    "            for model in models.keys()}\n",
    "warnings.filterwarnings(\"ignore\")\n",
    "fit_models(models)\n",
    "derive_positions(df)\n",
    "evaluate_strat(df)\n",
    "warnings.filterwarnings(\"default\")"
   ]
  },
  {
   "cell_type": "code",
   "execution_count": 28,
   "id": "f0b1f665",
   "metadata": {},
   "outputs": [
    {
     "data": {
      "text/plain": [
       "strat_log_reg      8.158807\n",
       "strat_gauss_nb     1.720165\n",
       "strat_svm         21.471871\n",
       "Return             6.556771\n",
       "dtype: float64"
      ]
     },
     "execution_count": 28,
     "metadata": {},
     "output_type": "execute_result"
    }
   ],
   "source": [
    "df[strats].sum().apply(np.exp)"
   ]
  },
  {
   "cell_type": "code",
   "execution_count": 29,
   "id": "62b1c4c0",
   "metadata": {},
   "outputs": [
    {
     "data": {
      "text/plain": [
       "<AxesSubplot:xlabel='Date'>"
      ]
     },
     "execution_count": 29,
     "metadata": {},
     "output_type": "execute_result"
    },
    {
     "data": {
      "image/png": "[encoded data removed]",
      "text/plain": [
       "<Figure size 720x432 with 1 Axes>"
      ]
     },
     "metadata": {
      "needs_background": "light"
     },
     "output_type": "display_data"
    }
   ],
   "source": [
    "df[strats].cumsum().apply(np.exp).plot(figsize=(10,6))"
   ]
  },
  {
   "cell_type": "code",
   "execution_count": null,
   "id": "41bdc64c",
   "metadata": {},
   "outputs": [],
   "source": [
    "#Above suffers from data snooping. Need to split train and test\n",
    "#for more accurate simulation."
   ]
  },
  {
   "cell_type": "code",
   "execution_count": 30,
   "id": "f5478354",
   "metadata": {},
   "outputs": [],
   "source": [
    "split=len(df)//2\n",
    "train=df.iloc[:split].copy()\n",
    "def fit_models(models,dfr):\n",
    "    mfit = {model: models[model].fit(dfr[cols_bin],\n",
    "                                    dfr['directions'])\n",
    "            for model in models.keys()}\n",
    "warnings.filterwarnings(\"ignore\")\n",
    "fit_models(models,train)\n",
    "test=df.iloc[split:].copy()\n",
    "derive_positions(test)\n",
    "evaluate_strat(test)\n",
    "warnings.filterwarnings(\"default\")"
   ]
  },
  {
   "cell_type": "code",
   "execution_count": 31,
   "id": "8aea734e",
   "metadata": {},
   "outputs": [
    {
     "data": {
      "text/plain": [
       "strat_log_reg     3.746440\n",
       "strat_gauss_nb    4.335675\n",
       "strat_svm         5.494759\n",
       "Return            3.878394\n",
       "dtype: float64"
      ]
     },
     "execution_count": 31,
     "metadata": {},
     "output_type": "execute_result"
    }
   ],
   "source": [
    "test[strats].sum().apply(np.exp)"
   ]
  },
  {
   "cell_type": "code",
   "execution_count": 32,
   "id": "cfb67a27",
   "metadata": {},
   "outputs": [
    {
     "data": {
      "text/plain": [
       "<AxesSubplot:xlabel='Date'>"
      ]
     },
     "execution_count": 32,
     "metadata": {},
     "output_type": "execute_result"
    },
    {
     "data": {
      "image/png": "[encoded data removed]",
      "text/plain": [
       "<Figure size 720x432 with 1 Axes>"
      ]
     },
     "metadata": {
      "needs_background": "light"
     },
     "output_type": "display_data"
    }
   ],
   "source": [
    "test[strats].cumsum().apply(np.exp).plot(figsize=(10,6))"
   ]
  },
  {
   "cell_type": "code",
   "execution_count": null,
   "id": "695606f0",
   "metadata": {},
   "outputs": [],
   "source": []
  }
 ],
 "metadata": {
  "kernelspec": {
   "display_name": "Python 3 (ipykernel)",
   "language": "python",
   "name": "python3"
  },
  "language_info": {
   "codemirror_mode": {
    "name": "ipython",
    "version": 3
   },
   "file_extension": ".py",
   "mimetype": "text/x-python",
   "name": "python",
   "nbconvert_exporter": "python",
   "pygments_lexer": "ipython3",
   "version": "3.10.6"
  }
 },
 "nbformat": 4,
 "nbformat_minor": 5
}
