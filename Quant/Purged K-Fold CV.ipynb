{
 "cells": [
  {
   "cell_type": "code",
   "execution_count": 1,
   "id": "93dc132c",
   "metadata": {},
   "outputs": [
    {
     "name": "stdout",
     "output_type": "stream",
     "text": [
      "[*********************100%***********************]  1 of 1 completed\n"
     ]
    }
   ],
   "source": [
    "import numpy as np\n",
    "import pandas as pd\n",
    "import yfinance as yf\n",
    "df=yf.download('NVDA','2021-01-01','2021-12-31')\n",
    "df=df[['Adj Close']]"
   ]
  },
  {
   "cell_type": "code",
   "execution_count": 2,
   "id": "a27ea61f",
   "metadata": {},
   "outputs": [],
   "source": [
    "#Prepare purged test dataset to prevent data leakage.\n",
    "def getTrainTimes(trainObs,testTimes):\n",
    "    trn=trainObs.copy(deep=True)\n",
    "    #trn.index = time when the observation started\n",
    "    #trn.values = time when the observation ended\n",
    "    #testTimes = times of testing observations\n",
    "    for i,j in testTimes.items():\n",
    "        df0=trn[(i<=trn.index)&(trn.index<=j)].index\n",
    "        df1=trn[(i<=trn)&(trn<=j)].index\n",
    "        df2=trn[(trn.index<=i)&(j<=trn.index)].index\n",
    "        trn=trn.drop(df0.union(df1).union(df2))\n",
    "    return trn"
   ]
  },
  {
   "cell_type": "code",
   "execution_count": null,
   "id": "cffbe32b",
   "metadata": {},
   "outputs": [],
   "source": [
    "#Embargo on training observations\n",
    "def getEmbargo(trn, pctEmbargo):\n",
    "    step=int(trn.shape[0]*pctEmbargo)\n",
    "    if step==0:\n",
    "        mbrg=pd.Series(trn,index=trn)\n",
    "    else:\n",
    "        mbrg=pd.Series(trn[step:],index=trn[:-step])\n",
    "        mbrg=mbrg.append(pd.Series(trn[-1],index=trn[-step:]))\n",
    "    return mbrg"
   ]
  },
  {
   "cell_type": "code",
   "execution_count": null,
   "id": "98dc9ce2",
   "metadata": {},
   "outputs": [],
   "source": [
    "#Cross validation class when observations overlap\n",
    "class PurgedKFold(_BaseKFold):\n",
    "    def __init__(self,n_splits=3,t1=None,pctEmbargo=0.):\n",
    "        if not isinstance(t1,pd.Series):\n",
    "            raise ValueError('Label Through Dates must be a pandas series.')\n",
    "        super(PurgedKFold,self).__init__(n_splits,shuffle=False,random_state=None)\n",
    "        self.t1=t1 #data set\n",
    "        self.pctEmbargo=pctEmbargo\n",
    "    def split(self,X,y=None,groups=None):\n",
    "        if (X.index==self.t1.index).sum()!=len(self.t1):\n",
    "            raise ValueError('X and ThruDateValues must have the same index')\n",
    "        indices=np.arange(X.shape[0])\n",
    "        mbrg=int(X.shape[0]*self.pctEmbargo)\n",
    "        test_starts=[(arr[0],arr[-1]+1) for arr in np.array_split(\n",
    "        np.arange(X.shape[0]),self.n_splits)]\n",
    "        for i,j in test_starts:\n",
    "            t0=self.t1.index[i] #start of test set\n",
    "            test_indices=indices[i:j]\n",
    "            maxT1Idx=self.t1.index.searchsorted(\n",
    "                self.t1[test_indices].max())\n",
    "            train_indices=self.t1.index.searchsorted(\n",
    "                self.t1[self.t1<=t0].index)\n",
    "            train_indices=np.concatenate((train_indices,\n",
    "                                          indices[maxT1Idx+mbrg:]))\n",
    "            yield train_indices, test_indices"
   ]
  },
  {
   "cell_type": "code",
   "execution_count": 5,
   "id": "50915915",
   "metadata": {},
   "outputs": [],
   "source": [
    "def cvScore(clf,X,y,sample_weight,scoring='neg_log_loss',t1=None,\n",
    "           cv=None,cvGen=None,pctEmbargo=None):\n",
    "    if scoring not in ['neg_log_loss','accuracy']:\n",
    "        raise Exception('wrong scoring method.')\n",
    "    from sklearn.metrics import log_loss,accuracy_score\n",
    "    from clfSequential import PurgedKFold\n",
    "    if cvGen is None:\n",
    "        cvGen=PurgedKFold(n_splits=cv,t1=t1,pctEmbargo=pctEmbargo)\n",
    "    score=[]\n",
    "    for train,test in cvGen.split(X=X):\n",
    "        fit=clf.fit(X=X.iloc[train,:],y=y.iloc[train],\n",
    "                   sample_weight=sample_weight.iloc[train].values)\n",
    "        if scoring=='neg_log_loss':\n",
    "            prob=fit.predict_proba(X.iloc[test,:])\n",
    "            score_=-log_loss(y.iloc[test],prob,\n",
    "                            sample_weight=sample_weight.iloc[test].values,\n",
    "                            labels=clf.classes_)\n",
    "        else:\n",
    "            pred=fit.predict(X.iloc[test,:])\n",
    "            score_=accuracy_score(y.iloc[test],pred,\n",
    "                                 sample_weight=sample_weight.iloc[test].values)\n",
    "        score.append(score_)\n",
    "    return np.array(score)"
   ]
  }
 ],
 "metadata": {
  "kernelspec": {
   "display_name": "Python 3 (ipykernel)",
   "language": "python",
   "name": "python3"
  },
  "language_info": {
   "codemirror_mode": {
    "name": "ipython",
    "version": 3
   },
   "file_extension": ".py",
   "mimetype": "text/x-python",
   "name": "python",
   "nbconvert_exporter": "python",
   "pygments_lexer": "ipython3",
   "version": "3.10.6"
  }
 },
 "nbformat": 4,
 "nbformat_minor": 5
}
