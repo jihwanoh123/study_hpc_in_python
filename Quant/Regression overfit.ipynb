{
 "cells": [
  {
   "cell_type": "code",
   "execution_count": 1,
   "id": "efc8a460",
   "metadata": {},
   "outputs": [],
   "source": [
    "import pandas as pd\n",
    "import yfinance as yf\n",
    "import numpy as np\n",
    "import matplotlib.pyplot as plt\n",
    "import warnings\n",
    "start_date='2015-04-01'\n",
    "end_date='2023-4-23'\n",
    "ticker='NVDA'"
   ]
  },
  {
   "cell_type": "code",
   "execution_count": 3,
   "id": "8861f957",
   "metadata": {},
   "outputs": [
    {
     "name": "stdout",
     "output_type": "stream",
     "text": [
      "[*********************100%***********************]  1 of 1 completed\n"
     ]
    }
   ],
   "source": [
    "#warnings.filterwarnings(\"ignore\")\n",
    "df=yf.download(ticker,start=start_date,end=end_date)\n",
    "price=df[['Adj Close']]\n",
    "lags=5\n",
    "for lag in range(1,1+lags):\n",
    "    name='lag_{}'.format(lag)\n",
    "    price[name]=price['Adj Close'].shift(lag)\n",
    "#warnings.filterwarnings(\"default\")"
   ]
  },
  {
   "cell_type": "code",
   "execution_count": 5,
   "id": "55dac164",
   "metadata": {},
   "outputs": [],
   "source": [
    "price.dropna(inplace=True)"
   ]
  },
  {
   "cell_type": "code",
   "execution_count": 6,
   "id": "36cbd2a3",
   "metadata": {},
   "outputs": [
    {
     "data": {
      "text/html": [
       "<div>\n",
       "<style scoped>\n",
       "    .dataframe tbody tr th:only-of-type {\n",
       "        vertical-align: middle;\n",
       "    }\n",
       "\n",
       "    .dataframe tbody tr th {\n",
       "        vertical-align: top;\n",
       "    }\n",
       "\n",
       "    .dataframe thead th {\n",
       "        text-align: right;\n",
       "    }\n",
       "</style>\n",
       "<table border=\"1\" class=\"dataframe\">\n",
       "  <thead>\n",
       "    <tr style=\"text-align: right;\">\n",
       "      <th></th>\n",
       "      <th>Adj Close</th>\n",
       "      <th>lag_1</th>\n",
       "      <th>lag_2</th>\n",
       "      <th>lag_3</th>\n",
       "      <th>lag_4</th>\n",
       "      <th>lag_5</th>\n",
       "    </tr>\n",
       "    <tr>\n",
       "      <th>Date</th>\n",
       "      <th></th>\n",
       "      <th></th>\n",
       "      <th></th>\n",
       "      <th></th>\n",
       "      <th></th>\n",
       "      <th></th>\n",
       "    </tr>\n",
       "  </thead>\n",
       "  <tbody>\n",
       "    <tr>\n",
       "      <th>2015-04-09</th>\n",
       "      <td>5.431311</td>\n",
       "      <td>5.308363</td>\n",
       "      <td>5.269793</td>\n",
       "      <td>5.223990</td>\n",
       "      <td>5.076937</td>\n",
       "      <td>5.064883</td>\n",
       "    </tr>\n",
       "    <tr>\n",
       "      <th>2015-04-10</th>\n",
       "      <td>5.486756</td>\n",
       "      <td>5.431311</td>\n",
       "      <td>5.308363</td>\n",
       "      <td>5.269793</td>\n",
       "      <td>5.223990</td>\n",
       "      <td>5.076937</td>\n",
       "    </tr>\n",
       "    <tr>\n",
       "      <th>2015-04-13</th>\n",
       "      <td>5.436131</td>\n",
       "      <td>5.486756</td>\n",
       "      <td>5.431311</td>\n",
       "      <td>5.308363</td>\n",
       "      <td>5.269793</td>\n",
       "      <td>5.223990</td>\n",
       "    </tr>\n",
       "  </tbody>\n",
       "</table>\n",
       "</div>"
      ],
      "text/plain": [
       "            Adj Close     lag_1     lag_2     lag_3     lag_4     lag_5\n",
       "Date                                                                   \n",
       "2015-04-09   5.431311  5.308363  5.269793  5.223990  5.076937  5.064883\n",
       "2015-04-10   5.486756  5.431311  5.308363  5.269793  5.223990  5.076937\n",
       "2015-04-13   5.436131  5.486756  5.431311  5.308363  5.269793  5.223990"
      ]
     },
     "execution_count": 6,
     "metadata": {},
     "output_type": "execute_result"
    }
   ],
   "source": [
    "price.head(3)"
   ]
  },
  {
   "cell_type": "code",
   "execution_count": 15,
   "id": "d9a610d6",
   "metadata": {},
   "outputs": [
    {
     "data": {
      "text/html": [
       "<div>\n",
       "<style scoped>\n",
       "    .dataframe tbody tr th:only-of-type {\n",
       "        vertical-align: middle;\n",
       "    }\n",
       "\n",
       "    .dataframe tbody tr th {\n",
       "        vertical-align: top;\n",
       "    }\n",
       "\n",
       "    .dataframe thead th {\n",
       "        text-align: right;\n",
       "    }\n",
       "</style>\n",
       "<table border=\"1\" class=\"dataframe\">\n",
       "  <thead>\n",
       "    <tr style=\"text-align: right;\">\n",
       "      <th></th>\n",
       "      <th>Adj Close</th>\n",
       "      <th>Return</th>\n",
       "      <th>direction</th>\n",
       "    </tr>\n",
       "    <tr>\n",
       "      <th>Date</th>\n",
       "      <th></th>\n",
       "      <th></th>\n",
       "      <th></th>\n",
       "    </tr>\n",
       "  </thead>\n",
       "  <tbody>\n",
       "    <tr>\n",
       "      <th>2015-04-02</th>\n",
       "      <td>5.076937</td>\n",
       "      <td>0.002377</td>\n",
       "      <td>1</td>\n",
       "    </tr>\n",
       "    <tr>\n",
       "      <th>2015-04-06</th>\n",
       "      <td>5.223990</td>\n",
       "      <td>0.028553</td>\n",
       "      <td>1</td>\n",
       "    </tr>\n",
       "    <tr>\n",
       "      <th>2015-04-07</th>\n",
       "      <td>5.269793</td>\n",
       "      <td>0.008730</td>\n",
       "      <td>1</td>\n",
       "    </tr>\n",
       "  </tbody>\n",
       "</table>\n",
       "</div>"
      ],
      "text/plain": [
       "            Adj Close    Return  direction\n",
       "Date                                      \n",
       "2015-04-02   5.076937  0.002377          1\n",
       "2015-04-06   5.223990  0.028553          1\n",
       "2015-04-07   5.269793  0.008730          1"
      ]
     },
     "execution_count": 15,
     "metadata": {},
     "output_type": "execute_result"
    }
   ],
   "source": [
    "warnings.filterwarnings(\"ignore\")\n",
    "price2=df[['Adj Close']]\n",
    "price2.rename(columns={'Adj Close':'NVDA'})\n",
    "price2['Return']=np.log(price2/price2.shift(1))\n",
    "price2.dropna(inplace=True)\n",
    "price2['direction']=np.sign(price2['Return']).astype(int)\n",
    "warnings.filterwarnings(\"default\")\n",
    "price2.head(3)"
   ]
  },
  {
   "cell_type": "code",
   "execution_count": 16,
   "id": "454f39c5",
   "metadata": {},
   "outputs": [
    {
     "data": {
      "image/png": "[encoded data removed]",
      "text/plain": [
       "<Figure size 576x432 with 1 Axes>"
      ]
     },
     "metadata": {
      "needs_background": "light"
     },
     "output_type": "display_data"
    }
   ],
   "source": [
    "warnings.filterwarnings(\"ignore\")\n",
    "price2['Return'].hist(bins=35,figsize=(8,6))\n",
    "warnings.filterwarnings(\"default\")"
   ]
  },
  {
   "cell_type": "code",
   "execution_count": 17,
   "id": "0b616f2f",
   "metadata": {},
   "outputs": [
    {
     "name": "stderr",
     "output_type": "stream",
     "text": [
      "/tmp/ipykernel_329017/3679026393.py:6: SettingWithCopyWarning: \n",
      "A value is trying to be set on a copy of a slice from a DataFrame.\n",
      "Try using .loc[row_indexer,col_indexer] = value instead\n",
      "\n",
      "See the caveats in the documentation: https://pandas.pydata.org/pandas-docs/stable/user_guide/indexing.html#returning-a-view-versus-a-copy\n",
      "  df[col]=df['Return'].shift(lag)\n"
     ]
    },
    {
     "data": {
      "text/html": [
       "<div>\n",
       "<style scoped>\n",
       "    .dataframe tbody tr th:only-of-type {\n",
       "        vertical-align: middle;\n",
       "    }\n",
       "\n",
       "    .dataframe tbody tr th {\n",
       "        vertical-align: top;\n",
       "    }\n",
       "\n",
       "    .dataframe thead th {\n",
       "        text-align: right;\n",
       "    }\n",
       "</style>\n",
       "<table border=\"1\" class=\"dataframe\">\n",
       "  <thead>\n",
       "    <tr style=\"text-align: right;\">\n",
       "      <th></th>\n",
       "      <th>Adj Close</th>\n",
       "      <th>Return</th>\n",
       "      <th>direction</th>\n",
       "      <th>lag_1</th>\n",
       "      <th>lag_2</th>\n",
       "    </tr>\n",
       "    <tr>\n",
       "      <th>Date</th>\n",
       "      <th></th>\n",
       "      <th></th>\n",
       "      <th></th>\n",
       "      <th></th>\n",
       "      <th></th>\n",
       "    </tr>\n",
       "  </thead>\n",
       "  <tbody>\n",
       "    <tr>\n",
       "      <th>2015-04-02</th>\n",
       "      <td>5.076937</td>\n",
       "      <td>0.002377</td>\n",
       "      <td>1</td>\n",
       "      <td>NaN</td>\n",
       "      <td>NaN</td>\n",
       "    </tr>\n",
       "    <tr>\n",
       "      <th>2015-04-06</th>\n",
       "      <td>5.223990</td>\n",
       "      <td>0.028553</td>\n",
       "      <td>1</td>\n",
       "      <td>0.002377</td>\n",
       "      <td>NaN</td>\n",
       "    </tr>\n",
       "    <tr>\n",
       "      <th>2015-04-07</th>\n",
       "      <td>5.269793</td>\n",
       "      <td>0.008730</td>\n",
       "      <td>1</td>\n",
       "      <td>0.028553</td>\n",
       "      <td>0.002377</td>\n",
       "    </tr>\n",
       "    <tr>\n",
       "      <th>2015-04-08</th>\n",
       "      <td>5.308363</td>\n",
       "      <td>0.007292</td>\n",
       "      <td>1</td>\n",
       "      <td>0.008730</td>\n",
       "      <td>0.028553</td>\n",
       "    </tr>\n",
       "    <tr>\n",
       "      <th>2015-04-09</th>\n",
       "      <td>5.431311</td>\n",
       "      <td>0.022897</td>\n",
       "      <td>1</td>\n",
       "      <td>0.007292</td>\n",
       "      <td>0.008730</td>\n",
       "    </tr>\n",
       "    <tr>\n",
       "      <th>...</th>\n",
       "      <td>...</td>\n",
       "      <td>...</td>\n",
       "      <td>...</td>\n",
       "      <td>...</td>\n",
       "      <td>...</td>\n",
       "    </tr>\n",
       "    <tr>\n",
       "      <th>2023-04-17</th>\n",
       "      <td>270.019989</td>\n",
       "      <td>0.009077</td>\n",
       "      <td>1</td>\n",
       "      <td>0.011086</td>\n",
       "      <td>-0.001209</td>\n",
       "    </tr>\n",
       "    <tr>\n",
       "      <th>2023-04-18</th>\n",
       "      <td>276.670013</td>\n",
       "      <td>0.024330</td>\n",
       "      <td>1</td>\n",
       "      <td>0.009077</td>\n",
       "      <td>0.011086</td>\n",
       "    </tr>\n",
       "    <tr>\n",
       "      <th>2023-04-19</th>\n",
       "      <td>279.309998</td>\n",
       "      <td>0.009497</td>\n",
       "      <td>1</td>\n",
       "      <td>0.024330</td>\n",
       "      <td>0.009077</td>\n",
       "    </tr>\n",
       "    <tr>\n",
       "      <th>2023-04-20</th>\n",
       "      <td>271.040009</td>\n",
       "      <td>-0.030056</td>\n",
       "      <td>-1</td>\n",
       "      <td>0.009497</td>\n",
       "      <td>0.024330</td>\n",
       "    </tr>\n",
       "    <tr>\n",
       "      <th>2023-04-21</th>\n",
       "      <td>271.190002</td>\n",
       "      <td>0.000553</td>\n",
       "      <td>1</td>\n",
       "      <td>-0.030056</td>\n",
       "      <td>0.009497</td>\n",
       "    </tr>\n",
       "  </tbody>\n",
       "</table>\n",
       "<p>2028 rows × 5 columns</p>\n",
       "</div>"
      ],
      "text/plain": [
       "             Adj Close    Return  direction     lag_1     lag_2\n",
       "Date                                                           \n",
       "2015-04-02    5.076937  0.002377          1       NaN       NaN\n",
       "2015-04-06    5.223990  0.028553          1  0.002377       NaN\n",
       "2015-04-07    5.269793  0.008730          1  0.028553  0.002377\n",
       "2015-04-08    5.308363  0.007292          1  0.008730  0.028553\n",
       "2015-04-09    5.431311  0.022897          1  0.007292  0.008730\n",
       "...                ...       ...        ...       ...       ...\n",
       "2023-04-17  270.019989  0.009077          1  0.011086 -0.001209\n",
       "2023-04-18  276.670013  0.024330          1  0.009077  0.011086\n",
       "2023-04-19  279.309998  0.009497          1  0.024330  0.009077\n",
       "2023-04-20  271.040009 -0.030056         -1  0.009497  0.024330\n",
       "2023-04-21  271.190002  0.000553          1 -0.030056  0.009497\n",
       "\n",
       "[2028 rows x 5 columns]"
      ]
     },
     "execution_count": 17,
     "metadata": {},
     "output_type": "execute_result"
    }
   ],
   "source": [
    "def create_lags(df,lags):\n",
    "    global cols\n",
    "    cols=[]\n",
    "    for lag in range(1,1+lags):\n",
    "        col='lag_{}'.format(lag)\n",
    "        df[col]=df['Return'].shift(lag)\n",
    "        cols.append(col)\n",
    "    df.dropna(inplace=True)\n",
    "    return df\n",
    "create_lags(price2,2)"
   ]
  },
  {
   "cell_type": "code",
   "execution_count": 45,
   "id": "34ba2215",
   "metadata": {},
   "outputs": [
    {
     "data": {
      "text/plain": [
       "(1867, 2)"
      ]
     },
     "execution_count": 45,
     "metadata": {},
     "output_type": "execute_result"
    }
   ],
   "source": [
    "train_x.shape"
   ]
  },
  {
   "cell_type": "code",
   "execution_count": 51,
   "id": "657ace21",
   "metadata": {},
   "outputs": [
    {
     "name": "stderr",
     "output_type": "stream",
     "text": [
      "/usr/lib/python3/dist-packages/pandas/util/_decorators.py:311: SettingWithCopyWarning: \n",
      "A value is trying to be set on a copy of a slice from a DataFrame\n",
      "\n",
      "See the caveats in the documentation: https://pandas.pydata.org/pandas-docs/stable/user_guide/indexing.html#returning-a-view-versus-a-copy\n",
      "  return func(*args, **kwargs)\n"
     ]
    }
   ],
   "source": [
    "price2.dropna(inplace=True)\n",
    "from sklearn.linear_model import LinearRegression\n",
    "model=LinearRegression()\n",
    "train_x=price2.loc['2015-04-07':'2022-09-01',cols]\n",
    "train_y1=price2.loc['2015-04-07':'2022-09-01','Return']\n",
    "train_y2=price2.loc['2015-04-07':'2022-09-01','direction']\n",
    "\n",
    "test_x=price2.loc['2022-09-02':'2023-04-04',cols]\n",
    "test_y1=price2.loc['2022-09-02':'2023-04-04','Return']\n",
    "test_y2=price2.loc['2022-09-02':'2023-04-04','direction']\n",
    "model1=model.fit(train_x,train_y1)\n",
    "model2=model.fit(train_x,train_y2)\n",
    "#price2['ols_1']=model1.predict(test_x)\n",
    "#price2['ols_2']=model2.predict(test_x)\n",
    "#price2[['ols_1','ols_2']].head(3)\n",
    "predicted=pd.DataFrame(columns=['ols_1','ols_2'],\n",
    "                       index=test_x.index)\n",
    "predicted['ols_1']=model1.predict(test_x)\n",
    "predicted['ols_2']=model2.predict(test_x)"
   ]
  },
  {
   "cell_type": "code",
   "execution_count": 53,
   "id": "bf0a6b1f",
   "metadata": {},
   "outputs": [
    {
     "data": {
      "text/html": [
       "<div>\n",
       "<style scoped>\n",
       "    .dataframe tbody tr th:only-of-type {\n",
       "        vertical-align: middle;\n",
       "    }\n",
       "\n",
       "    .dataframe tbody tr th {\n",
       "        vertical-align: top;\n",
       "    }\n",
       "\n",
       "    .dataframe thead th {\n",
       "        text-align: right;\n",
       "    }\n",
       "</style>\n",
       "<table border=\"1\" class=\"dataframe\">\n",
       "  <thead>\n",
       "    <tr style=\"text-align: right;\">\n",
       "      <th></th>\n",
       "      <th>ols_1</th>\n",
       "      <th>ols_2</th>\n",
       "    </tr>\n",
       "    <tr>\n",
       "      <th>Date</th>\n",
       "      <th></th>\n",
       "      <th></th>\n",
       "    </tr>\n",
       "  </thead>\n",
       "  <tbody>\n",
       "    <tr>\n",
       "      <th>2022-09-02</th>\n",
       "      <td>1</td>\n",
       "      <td>1</td>\n",
       "    </tr>\n",
       "    <tr>\n",
       "      <th>2022-09-06</th>\n",
       "      <td>1</td>\n",
       "      <td>1</td>\n",
       "    </tr>\n",
       "    <tr>\n",
       "      <th>2022-09-07</th>\n",
       "      <td>1</td>\n",
       "      <td>1</td>\n",
       "    </tr>\n",
       "  </tbody>\n",
       "</table>\n",
       "</div>"
      ],
      "text/plain": [
       "            ols_1  ols_2\n",
       "Date                    \n",
       "2022-09-02      1      1\n",
       "2022-09-06      1      1\n",
       "2022-09-07      1      1"
      ]
     },
     "execution_count": 53,
     "metadata": {},
     "output_type": "execute_result"
    }
   ],
   "source": [
    "new_price=pd.DataFrame(np.where(predicted[['ols_1','ols_2']]>0,1,-1),index=test_x.index)\n",
    "new_price.columns=['ols_1','ols_2']\n",
    "#new_price.rename(columns={'0':'ols1','1':'ols2'},inplace=True)\n",
    "new_price.head(3)"
   ]
  },
  {
   "cell_type": "code",
   "execution_count": 54,
   "id": "5327d0cf",
   "metadata": {},
   "outputs": [
    {
     "data": {
      "text/plain": [
       " 1    127\n",
       "-1     20\n",
       "Name: ols_1, dtype: int64"
      ]
     },
     "execution_count": 54,
     "metadata": {},
     "output_type": "execute_result"
    }
   ],
   "source": [
    "new_price['ols_1'].value_counts()"
   ]
  },
  {
   "cell_type": "code",
   "execution_count": 55,
   "id": "5b6a1a65",
   "metadata": {},
   "outputs": [
    {
     "data": {
      "text/plain": [
       " 1    127\n",
       "-1     20\n",
       "Name: ols_2, dtype: int64"
      ]
     },
     "execution_count": 55,
     "metadata": {},
     "output_type": "execute_result"
    }
   ],
   "source": [
    "new_price['ols_2'].value_counts()"
   ]
  },
  {
   "cell_type": "code",
   "execution_count": 56,
   "id": "f953373d",
   "metadata": {},
   "outputs": [
    {
     "data": {
      "text/plain": [
       "0.22015660972174955"
      ]
     },
     "execution_count": 56,
     "metadata": {},
     "output_type": "execute_result"
    }
   ],
   "source": [
    "new_price['strat_ols1']=new_price['ols_1']*price2.loc['2022-09-02':'2023-04-04','Return']\n",
    "new_price['strat_ols2']=new_price['ols_2']*price2.loc['2022-09-02':'2023-04-04','Return']\n",
    "new_price['strat_ols1'].sum()"
   ]
  },
  {
   "cell_type": "code",
   "execution_count": 57,
   "id": "160571a5",
   "metadata": {},
   "outputs": [
    {
     "data": {
      "text/plain": [
       "0.22015660972174955"
      ]
     },
     "execution_count": 57,
     "metadata": {},
     "output_type": "execute_result"
    }
   ],
   "source": [
    "new_price['strat_ols2'].sum()"
   ]
  },
  {
   "cell_type": "code",
   "execution_count": 59,
   "id": "1e9f6d01",
   "metadata": {},
   "outputs": [
    {
     "data": {
      "text/plain": [
       "0.6786510543003845"
      ]
     },
     "execution_count": 59,
     "metadata": {},
     "output_type": "execute_result"
    }
   ],
   "source": [
    "test_y1.sum()"
   ]
  },
  {
   "cell_type": "code",
   "execution_count": 63,
   "id": "de8f1e2f",
   "metadata": {},
   "outputs": [
    {
     "data": {
      "text/plain": [
       "True     74\n",
       "False    73\n",
       "dtype: int64"
      ]
     },
     "execution_count": 63,
     "metadata": {},
     "output_type": "execute_result"
    }
   ],
   "source": [
    "(test_y2==new_price['ols_1']).value_counts()"
   ]
  },
  {
   "cell_type": "code",
   "execution_count": 64,
   "id": "5cda41f7",
   "metadata": {},
   "outputs": [
    {
     "data": {
      "text/plain": [
       "True     74\n",
       "False    73\n",
       "dtype: int64"
      ]
     },
     "execution_count": 64,
     "metadata": {},
     "output_type": "execute_result"
    }
   ],
   "source": [
    "(test_y2==new_price['ols_2']).value_counts()"
   ]
  },
  {
   "cell_type": "code",
   "execution_count": 65,
   "id": "e6336091",
   "metadata": {},
   "outputs": [
    {
     "name": "stderr",
     "output_type": "stream",
     "text": [
      "/tmp/ipykernel_329017/186989330.py:1: SettingWithCopyWarning: \n",
      "A value is trying to be set on a copy of a slice from a DataFrame.\n",
      "Try using .loc[row_indexer,col_indexer] = value instead\n",
      "\n",
      "See the caveats in the documentation: https://pandas.pydata.org/pandas-docs/stable/user_guide/indexing.html#returning-a-view-versus-a-copy\n",
      "  price2['strat_ols1']=new_price['strat_ols1']\n",
      "/tmp/ipykernel_329017/186989330.py:2: SettingWithCopyWarning: \n",
      "A value is trying to be set on a copy of a slice from a DataFrame.\n",
      "Try using .loc[row_indexer,col_indexer] = value instead\n",
      "\n",
      "See the caveats in the documentation: https://pandas.pydata.org/pandas-docs/stable/user_guide/indexing.html#returning-a-view-versus-a-copy\n",
      "  price2['strat_ols2']=new_price['strat_ols2']\n"
     ]
    },
    {
     "data": {
      "text/plain": [
       "<AxesSubplot:xlabel='Date'>"
      ]
     },
     "execution_count": 65,
     "metadata": {},
     "output_type": "execute_result"
    },
    {
     "data": {
      "image/png": "[encoded data removed]",
      "text/plain": [
       "<Figure size 720x432 with 1 Axes>"
      ]
     },
     "metadata": {
      "needs_background": "light"
     },
     "output_type": "display_data"
    }
   ],
   "source": [
    "price2['strat_ols1']=new_price['strat_ols1']\n",
    "price2['strat_ols2']=new_price['strat_ols2']\n",
    "price2.loc['':'',['Return', 'strat_ols1', 'strat_ols2']].cumsum().apply(np.exp).plot(figsize=(10, 6))"
   ]
  },
  {
   "cell_type": "code",
   "execution_count": null,
   "id": "188b67c4",
   "metadata": {},
   "outputs": [],
   "source": []
  }
 ],
 "metadata": {
  "kernelspec": {
   "display_name": "Python 3 (ipykernel)",
   "language": "python",
   "name": "python3"
  },
  "language_info": {
   "codemirror_mode": {
    "name": "ipython",
    "version": 3
   },
   "file_extension": ".py",
   "mimetype": "text/x-python",
   "name": "python",
   "nbconvert_exporter": "python",
   "pygments_lexer": "ipython3",
   "version": "3.10.6"
  }
 },
 "nbformat": 4,
 "nbformat_minor": 5
}
