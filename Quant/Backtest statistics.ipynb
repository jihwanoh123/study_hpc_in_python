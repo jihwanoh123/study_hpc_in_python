{
 "cells": [
  {
   "cell_type": "code",
   "execution_count": null,
   "id": "4554a614",
   "metadata": {},
   "outputs": [],
   "source": [
    "#Timing of bets from position dataframe\n",
    "df0=tPos[tPos==0].index\n",
    "df1=tPos.shift(1)\n",
    "df1=df1[df1!=0].index\n",
    "bets=df0.intersection(df1)\n",
    "df0=tPos.iloc[1:]*tPos.iloc[:-1].values\n",
    "bets=bets.union(df0[df0<0].index).sort_values()"
   ]
  },
  {
   "cell_type": "code",
   "execution_count": null,
   "id": "d6f20285",
   "metadata": {},
   "outputs": [],
   "source": [
    "#Estimate average holding period of a strategy, given a pandas\n",
    "#series of position: tPos\n",
    "def getHoldingPeriod(Pos):\n",
    "    HoldPeriod=pd.DataFrame(columns=['dT','w'])\n",
    "    timeEntry=0\n",
    "    posDiff=Pos.diff()\n",
    "    timeDiff=(Pos.index-Pos.index[0])/np.timedelta64(1,'D')\n",
    "    for i in range(1,Pos.shape[0]):\n",
    "        if posDiff.iloc[i]*Pos.iloc[i-1]>=0: #Increased position\n",
    "            if Pos.iloc[i]!=0:\n",
    "                timeEntry=(timeEntry*Pos[i-1]+timeDiff[i]*posDiff.iloc[i])/Pos.iloc[i]\n",
    "                #Update average entry time, weighting positions\n",
    "        else:#Decreased position\n",
    "            if Pos.iloc[i]*Pos.iloc[i-1]<0: #Long to short\n",
    "                HoldPeriod.loc[Pos.index[i],['dT','w']]=(\n",
    "                    timeDiff[i]-timeEntry,abs(Pos.iloc[i-1]))\n",
    "                timeEntry=timeDiff[i] #Reset entry time\n",
    "            else:#Long to Long but decreased\n",
    "                HoldPeriod.loc[Pos.index[i],['dT','w']]=(timeDiff[i]-tEntry,abs(posDiff.iloc[i]))\n",
    "    if HoldPeriod['w'].sum()>0:\n",
    "        HoldPeriod=(HoldPeriod['dT']*HoldPeriod['w']).sum()/HoldPeriod['w'].sum()\n",
    "    else:\n",
    "        HoldPeriod=np.nan\n",
    "    return HoldPeriod"
   ]
  },
  {
   "cell_type": "code",
   "execution_count": null,
   "id": "a992a0b2",
   "metadata": {},
   "outputs": [],
   "source": [
    "#Returns concentration\n",
    "def getHHI(betRet):\n",
    "    if betRet.shape[0]<=2: return np.nan\n",
    "    weight=betRet/betRet.sum()\n",
    "    HHI=((weight**2).sum()-1/betRet.shape[0])/(1.-1/betRet.shape[0])\n",
    "    return HHI\n",
    "HHIPos=getHHI(ret[ret>=0])\n",
    "HHINeg=getHHI(ret[ret<0])\n",
    "MFreqHHI=getHHI(ret.groupby(pd.TimeGrouper(freq='M')).count())"
   ]
  },
  {
   "cell_type": "code",
   "execution_count": 17,
   "id": "5e187a74",
   "metadata": {},
   "outputs": [
    {
     "name": "stdout",
     "output_type": "stream",
     "text": [
      "[*********************100%***********************]  1 of 1 completed\n"
     ]
    }
   ],
   "source": [
    "import pandas as pd\n",
    "import numpy as np\n",
    "import yfinance as yf\n",
    "df=yf.download('NVDA','2015-01-01','2023-05-10')\n",
    "df=df[['Adj Close']]\n",
    "#DrawDown and Time under Water\n",
    "def computeDD_TuW(series,dollars=False):\n",
    "    df0=series.to_frame('pnl')\n",
    "    df0['HWM']=series.expanding().max() #?\n",
    "    df1=df0.groupby('HWM').min().reset_index() #?\n",
    "    df1.columns=['HWM','MIN']\n",
    "    df1.index=df0['HWM'].drop_duplicates(keep='first').index #Time of High water marks\n",
    "    df1=df1[df1['HWM']>df1['MIN']] #High water mark followed by a Draw down\n",
    "    if dollars:\n",
    "        dd=df1['HWM']-df1['MIN']\n",
    "    else:\n",
    "        dd=1-df1['MIN']/df1['HWM']\n",
    "    TuW=((df1.index[1:]-df1.index[:-1])/np.timedelta64(1,'D')).values\n",
    "    TuW=pd.Series(TuW,index=df1.index[:-1])\n",
    "    return dd,TuW"
   ]
  },
  {
   "cell_type": "code",
   "execution_count": 18,
   "id": "a75f68bd",
   "metadata": {},
   "outputs": [],
   "source": [
    "nvda_series=df['Adj Close']\n",
    "dd,TuW=computeDD_TuW(nvda_series)"
   ]
  },
  {
   "cell_type": "code",
   "execution_count": 19,
   "id": "5897373c",
   "metadata": {},
   "outputs": [
    {
     "data": {
      "text/plain": [
       "Date\n",
       "2015-01-02    0.049180\n",
       "2015-01-23    0.072912\n",
       "2015-02-10    0.006683\n",
       "2015-02-17    0.011618\n",
       "2015-02-24    0.011206\n",
       "                ...   \n",
       "2021-10-26    0.010762\n",
       "2021-11-04    0.001644\n",
       "2021-11-08    0.050091\n",
       "2021-11-19    0.044930\n",
       "2021-11-29    0.663351\n",
       "Length: 113, dtype: float64"
      ]
     },
     "execution_count": 19,
     "metadata": {},
     "output_type": "execute_result"
    }
   ],
   "source": [
    "dd"
   ]
  },
  {
   "cell_type": "code",
   "execution_count": 20,
   "id": "02881c0a",
   "metadata": {},
   "outputs": [
    {
     "data": {
      "text/plain": [
       "Date\n",
       "2015-01-02    21.0\n",
       "2015-01-23    18.0\n",
       "2015-02-10     7.0\n",
       "2015-02-17     7.0\n",
       "2015-02-24     6.0\n",
       "              ... \n",
       "2021-09-03    53.0\n",
       "2021-10-26     9.0\n",
       "2021-11-04     4.0\n",
       "2021-11-08    11.0\n",
       "2021-11-19    10.0\n",
       "Length: 112, dtype: float64"
      ]
     },
     "execution_count": 20,
     "metadata": {},
     "output_type": "execute_result"
    }
   ],
   "source": [
    "TuW"
   ]
  },
  {
   "cell_type": "code",
   "execution_count": null,
   "id": "e3bd0b2c",
   "metadata": {},
   "outputs": [],
   "source": []
  }
 ],
 "metadata": {
  "kernelspec": {
   "display_name": "Python 3 (ipykernel)",
   "language": "python",
   "name": "python3"
  },
  "language_info": {
   "codemirror_mode": {
    "name": "ipython",
    "version": 3
   },
   "file_extension": ".py",
   "mimetype": "text/x-python",
   "name": "python",
   "nbconvert_exporter": "python",
   "pygments_lexer": "ipython3",
   "version": "3.10.6"
  }
 },
 "nbformat": 4,
 "nbformat_minor": 5
}
