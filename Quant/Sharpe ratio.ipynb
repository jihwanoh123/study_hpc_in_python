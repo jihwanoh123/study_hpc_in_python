{
 "cells": [
  {
   "cell_type": "code",
   "execution_count": 1,
   "id": "41d2b49c",
   "metadata": {},
   "outputs": [],
   "source": [
    "import numpy as np\n",
    "import pandas as pd\n",
    "import statsmodels\n",
    "import statsmodels.api as sm\n",
    "from statsmodels.tsa.stattools import coint\n",
    "np.random.seed(107)\n",
    "import matplotlib.pyplot as plt"
   ]
  },
  {
   "cell_type": "code",
   "execution_count": 2,
   "id": "84690b92",
   "metadata": {},
   "outputs": [
    {
     "name": "stderr",
     "output_type": "stream",
     "text": [
      "/home/ohj/.local/lib/python3.10/site-packages/pandas_datareader/tiingo.py:234: FutureWarning: In a future version of pandas all arguments of concat except for the argument 'objs' will be keyword-only\n",
      "  return pd.concat(dfs, self._concat_axis)\n"
     ]
    },
    {
     "data": {
      "text/html": [
       "<div>\n",
       "<style scoped>\n",
       "    .dataframe tbody tr th:only-of-type {\n",
       "        vertical-align: middle;\n",
       "    }\n",
       "\n",
       "    .dataframe tbody tr th {\n",
       "        vertical-align: top;\n",
       "    }\n",
       "\n",
       "    .dataframe thead th {\n",
       "        text-align: right;\n",
       "    }\n",
       "</style>\n",
       "<table border=\"1\" class=\"dataframe\">\n",
       "  <thead>\n",
       "    <tr style=\"text-align: right;\">\n",
       "      <th></th>\n",
       "      <th>symbol</th>\n",
       "      <th>date</th>\n",
       "      <th>close</th>\n",
       "      <th>high</th>\n",
       "      <th>low</th>\n",
       "      <th>open</th>\n",
       "      <th>volume</th>\n",
       "      <th>adjClose</th>\n",
       "      <th>adjHigh</th>\n",
       "      <th>adjLow</th>\n",
       "      <th>adjOpen</th>\n",
       "      <th>adjVolume</th>\n",
       "      <th>divCash</th>\n",
       "      <th>splitFactor</th>\n",
       "    </tr>\n",
       "  </thead>\n",
       "  <tbody>\n",
       "    <tr>\n",
       "      <th>1252</th>\n",
       "      <td>AAPL</td>\n",
       "      <td>2023-03-21 00:00:00+00:00</td>\n",
       "      <td>159.28</td>\n",
       "      <td>159.4000</td>\n",
       "      <td>156.54</td>\n",
       "      <td>157.32</td>\n",
       "      <td>73938285</td>\n",
       "      <td>159.28</td>\n",
       "      <td>159.4000</td>\n",
       "      <td>156.54</td>\n",
       "      <td>157.32</td>\n",
       "      <td>73938285</td>\n",
       "      <td>0.0</td>\n",
       "      <td>1.0</td>\n",
       "    </tr>\n",
       "    <tr>\n",
       "      <th>1253</th>\n",
       "      <td>AAPL</td>\n",
       "      <td>2023-03-22 00:00:00+00:00</td>\n",
       "      <td>157.83</td>\n",
       "      <td>162.1400</td>\n",
       "      <td>157.81</td>\n",
       "      <td>159.30</td>\n",
       "      <td>75701811</td>\n",
       "      <td>157.83</td>\n",
       "      <td>162.1400</td>\n",
       "      <td>157.81</td>\n",
       "      <td>159.30</td>\n",
       "      <td>75701811</td>\n",
       "      <td>0.0</td>\n",
       "      <td>1.0</td>\n",
       "    </tr>\n",
       "    <tr>\n",
       "      <th>1254</th>\n",
       "      <td>AAPL</td>\n",
       "      <td>2023-03-23 00:00:00+00:00</td>\n",
       "      <td>158.93</td>\n",
       "      <td>161.5501</td>\n",
       "      <td>157.68</td>\n",
       "      <td>158.83</td>\n",
       "      <td>67622060</td>\n",
       "      <td>158.93</td>\n",
       "      <td>161.5501</td>\n",
       "      <td>157.68</td>\n",
       "      <td>158.83</td>\n",
       "      <td>67622060</td>\n",
       "      <td>0.0</td>\n",
       "      <td>1.0</td>\n",
       "    </tr>\n",
       "    <tr>\n",
       "      <th>1255</th>\n",
       "      <td>AAPL</td>\n",
       "      <td>2023-03-24 00:00:00+00:00</td>\n",
       "      <td>160.25</td>\n",
       "      <td>160.3400</td>\n",
       "      <td>157.85</td>\n",
       "      <td>158.86</td>\n",
       "      <td>59256343</td>\n",
       "      <td>160.25</td>\n",
       "      <td>160.3400</td>\n",
       "      <td>157.85</td>\n",
       "      <td>158.86</td>\n",
       "      <td>59256343</td>\n",
       "      <td>0.0</td>\n",
       "      <td>1.0</td>\n",
       "    </tr>\n",
       "    <tr>\n",
       "      <th>1256</th>\n",
       "      <td>AAPL</td>\n",
       "      <td>2023-03-27 00:00:00+00:00</td>\n",
       "      <td>158.28</td>\n",
       "      <td>160.7700</td>\n",
       "      <td>157.87</td>\n",
       "      <td>159.94</td>\n",
       "      <td>52390266</td>\n",
       "      <td>158.28</td>\n",
       "      <td>160.7700</td>\n",
       "      <td>157.87</td>\n",
       "      <td>159.94</td>\n",
       "      <td>52390266</td>\n",
       "      <td>0.0</td>\n",
       "      <td>1.0</td>\n",
       "    </tr>\n",
       "  </tbody>\n",
       "</table>\n",
       "</div>"
      ],
      "text/plain": [
       "     symbol                       date   close      high     low    open  \\\n",
       "1252   AAPL  2023-03-21 00:00:00+00:00  159.28  159.4000  156.54  157.32   \n",
       "1253   AAPL  2023-03-22 00:00:00+00:00  157.83  162.1400  157.81  159.30   \n",
       "1254   AAPL  2023-03-23 00:00:00+00:00  158.93  161.5501  157.68  158.83   \n",
       "1255   AAPL  2023-03-24 00:00:00+00:00  160.25  160.3400  157.85  158.86   \n",
       "1256   AAPL  2023-03-27 00:00:00+00:00  158.28  160.7700  157.87  159.94   \n",
       "\n",
       "        volume  adjClose   adjHigh  adjLow  adjOpen  adjVolume  divCash  \\\n",
       "1252  73938285    159.28  159.4000  156.54   157.32   73938285      0.0   \n",
       "1253  75701811    157.83  162.1400  157.81   159.30   75701811      0.0   \n",
       "1254  67622060    158.93  161.5501  157.68   158.83   67622060      0.0   \n",
       "1255  59256343    160.25  160.3400  157.85   158.86   59256343      0.0   \n",
       "1256  52390266    158.28  160.7700  157.87   159.94   52390266      0.0   \n",
       "\n",
       "      splitFactor  \n",
       "1252          1.0  \n",
       "1253          1.0  \n",
       "1254          1.0  \n",
       "1255          1.0  \n",
       "1256          1.0  "
      ]
     },
     "execution_count": 2,
     "metadata": {},
     "output_type": "execute_result"
    }
   ],
   "source": [
    "import pandas_datareader as pdr\n",
    "key='bfefa72b58ce16638e4384eb6beea09403def336'\n",
    "df_a = pdr.get_data_tiingo('AAPL', api_key=key)\n",
    "df_a.to_csv('aapl.csv')\n",
    "df_a=pd.read_csv('aapl.csv')\n",
    "df_a.tail()"
   ]
  },
  {
   "cell_type": "code",
   "execution_count": 5,
   "id": "fb048fec",
   "metadata": {},
   "outputs": [
    {
     "data": {
      "text/html": [
       "<div>\n",
       "<style scoped>\n",
       "    .dataframe tbody tr th:only-of-type {\n",
       "        vertical-align: middle;\n",
       "    }\n",
       "\n",
       "    .dataframe tbody tr th {\n",
       "        vertical-align: top;\n",
       "    }\n",
       "\n",
       "    .dataframe thead th {\n",
       "        text-align: right;\n",
       "    }\n",
       "</style>\n",
       "<table border=\"1\" class=\"dataframe\">\n",
       "  <thead>\n",
       "    <tr style=\"text-align: right;\">\n",
       "      <th></th>\n",
       "      <th>symbol</th>\n",
       "      <th>close</th>\n",
       "      <th>high</th>\n",
       "      <th>low</th>\n",
       "      <th>open</th>\n",
       "      <th>volume</th>\n",
       "      <th>adjClose</th>\n",
       "      <th>adjHigh</th>\n",
       "      <th>adjLow</th>\n",
       "      <th>adjOpen</th>\n",
       "      <th>adjVolume</th>\n",
       "      <th>divCash</th>\n",
       "      <th>splitFactor</th>\n",
       "    </tr>\n",
       "    <tr>\n",
       "      <th>date</th>\n",
       "      <th></th>\n",
       "      <th></th>\n",
       "      <th></th>\n",
       "      <th></th>\n",
       "      <th></th>\n",
       "      <th></th>\n",
       "      <th></th>\n",
       "      <th></th>\n",
       "      <th></th>\n",
       "      <th></th>\n",
       "      <th></th>\n",
       "      <th></th>\n",
       "      <th></th>\n",
       "    </tr>\n",
       "  </thead>\n",
       "  <tbody>\n",
       "    <tr>\n",
       "      <th>2018-03-29 00:00:00+00:00</th>\n",
       "      <td>AAPL</td>\n",
       "      <td>167.78</td>\n",
       "      <td>171.75</td>\n",
       "      <td>166.90</td>\n",
       "      <td>167.81</td>\n",
       "      <td>38398505</td>\n",
       "      <td>39.932914</td>\n",
       "      <td>40.877804</td>\n",
       "      <td>39.723467</td>\n",
       "      <td>39.940054</td>\n",
       "      <td>153594020</td>\n",
       "      <td>0.0</td>\n",
       "      <td>1.0</td>\n",
       "    </tr>\n",
       "    <tr>\n",
       "      <th>2018-04-02 00:00:00+00:00</th>\n",
       "      <td>AAPL</td>\n",
       "      <td>166.68</td>\n",
       "      <td>168.94</td>\n",
       "      <td>164.47</td>\n",
       "      <td>166.64</td>\n",
       "      <td>37586791</td>\n",
       "      <td>39.671106</td>\n",
       "      <td>40.209003</td>\n",
       "      <td>39.145109</td>\n",
       "      <td>39.661585</td>\n",
       "      <td>150347164</td>\n",
       "      <td>0.0</td>\n",
       "      <td>1.0</td>\n",
       "    </tr>\n",
       "    <tr>\n",
       "      <th>2018-04-03 00:00:00+00:00</th>\n",
       "      <td>AAPL</td>\n",
       "      <td>168.39</td>\n",
       "      <td>168.75</td>\n",
       "      <td>164.88</td>\n",
       "      <td>167.64</td>\n",
       "      <td>30278046</td>\n",
       "      <td>40.078099</td>\n",
       "      <td>40.163781</td>\n",
       "      <td>39.242692</td>\n",
       "      <td>39.899593</td>\n",
       "      <td>121112184</td>\n",
       "      <td>0.0</td>\n",
       "      <td>1.0</td>\n",
       "    </tr>\n",
       "    <tr>\n",
       "      <th>2018-04-04 00:00:00+00:00</th>\n",
       "      <td>AAPL</td>\n",
       "      <td>171.61</td>\n",
       "      <td>172.01</td>\n",
       "      <td>164.77</td>\n",
       "      <td>164.88</td>\n",
       "      <td>34605489</td>\n",
       "      <td>40.844483</td>\n",
       "      <td>40.939686</td>\n",
       "      <td>39.216511</td>\n",
       "      <td>39.242692</td>\n",
       "      <td>138421956</td>\n",
       "      <td>0.0</td>\n",
       "      <td>1.0</td>\n",
       "    </tr>\n",
       "    <tr>\n",
       "      <th>2018-04-05 00:00:00+00:00</th>\n",
       "      <td>AAPL</td>\n",
       "      <td>172.80</td>\n",
       "      <td>174.23</td>\n",
       "      <td>172.08</td>\n",
       "      <td>172.58</td>\n",
       "      <td>26933197</td>\n",
       "      <td>41.127712</td>\n",
       "      <td>41.468063</td>\n",
       "      <td>40.956347</td>\n",
       "      <td>41.075350</td>\n",
       "      <td>107732788</td>\n",
       "      <td>0.0</td>\n",
       "      <td>1.0</td>\n",
       "    </tr>\n",
       "  </tbody>\n",
       "</table>\n",
       "</div>"
      ],
      "text/plain": [
       "                          symbol   close    high     low    open    volume  \\\n",
       "date                                                                         \n",
       "2018-03-29 00:00:00+00:00   AAPL  167.78  171.75  166.90  167.81  38398505   \n",
       "2018-04-02 00:00:00+00:00   AAPL  166.68  168.94  164.47  166.64  37586791   \n",
       "2018-04-03 00:00:00+00:00   AAPL  168.39  168.75  164.88  167.64  30278046   \n",
       "2018-04-04 00:00:00+00:00   AAPL  171.61  172.01  164.77  164.88  34605489   \n",
       "2018-04-05 00:00:00+00:00   AAPL  172.80  174.23  172.08  172.58  26933197   \n",
       "\n",
       "                            adjClose    adjHigh     adjLow    adjOpen  \\\n",
       "date                                                                    \n",
       "2018-03-29 00:00:00+00:00  39.932914  40.877804  39.723467  39.940054   \n",
       "2018-04-02 00:00:00+00:00  39.671106  40.209003  39.145109  39.661585   \n",
       "2018-04-03 00:00:00+00:00  40.078099  40.163781  39.242692  39.899593   \n",
       "2018-04-04 00:00:00+00:00  40.844483  40.939686  39.216511  39.242692   \n",
       "2018-04-05 00:00:00+00:00  41.127712  41.468063  40.956347  41.075350   \n",
       "\n",
       "                           adjVolume  divCash  splitFactor  \n",
       "date                                                        \n",
       "2018-03-29 00:00:00+00:00  153594020      0.0          1.0  \n",
       "2018-04-02 00:00:00+00:00  150347164      0.0          1.0  \n",
       "2018-04-03 00:00:00+00:00  121112184      0.0          1.0  \n",
       "2018-04-04 00:00:00+00:00  138421956      0.0          1.0  \n",
       "2018-04-05 00:00:00+00:00  107732788      0.0          1.0  "
      ]
     },
     "execution_count": 5,
     "metadata": {},
     "output_type": "execute_result"
    }
   ],
   "source": [
    "df_a=df_a.set_index(['date'])\n",
    "df_a.head()"
   ]
  },
  {
   "cell_type": "code",
   "execution_count": 90,
   "id": "37e806f6",
   "metadata": {},
   "outputs": [],
   "source": [
    "symbol_list=['GOOGL','MSFT','AMZN','NVDA','LRCX','AMAT']\n",
    "def generate_df(symbols):\n",
    "    final_df=df_a[['close']].rename(columns={'open':'AAPL'})\n",
    "    for sym in symbols:\n",
    "        df=pd.read_csv('{}.csv'.format(sym))\n",
    "        df_price=df[['close']]\n",
    "        df_price=df_price.rename(columns={'close':sym})\n",
    "        final_df=pd.concat([final_df,df_price],axis=1)\n",
    "    return final_df\n",
    "def get_data(symbols):\n",
    "    for sym in symbols:\n",
    "        df=pdr.get_data_tiingo(sym,api_key=key)\n",
    "        df.to_csv('{}.csv'.format(sym))\n",
    "def get_pricing(sym, fields, start_date, end_date):\n",
    "    df=pdr.get_data_tiingo(sym,api_key=key)\n",
    "    df.to_csv('{}.csv'.format(sym))\n",
    "    df=pd.read_csv('{}.csv'.format(sym))\n",
    "    df=df.set_index(['date'])\n",
    "    return pd.DataFrame(df_a.loc[start_date:end_date,fields]).rename(columns={'close':sym})\n",
    "def draw_portfolio(symbols,start,end):\n",
    "    _, ax1 = plt.subplots()\n",
    "    for sym in symbols:\n",
    "        df=get_pricing(sym,'close',start,end)\n",
    "        ax1.plot(df)\n",
    "def build_portfolio(symbols,start,end,weights):\n",
    "    portfolio=weights[0]*get_pricing(symbols[0],'close', start, end\n",
    "                                    ).pct_change()[1:]\n",
    "    for i,sym in enumerate(symbols[1:]):\n",
    "        added=weights[i]*get_pricing(sym, 'close', start, end\n",
    "                                    ).pct_change()[1:]\n",
    "        portfolio=pd.concat([portfolio,added],axis=1)\n",
    "    portfolio['weighted_sum']=sum([portfolio[col] \n",
    "                                   for col in portfolio.columns])\n",
    "    return portfolio\n",
    "def sharp_ratio(risk_free,asset):\n",
    "    return np.mean(asset-risk_free)/np.std(asset-risk_free)"
   ]
  },
  {
   "cell_type": "code",
   "execution_count": 91,
   "id": "04d3ab65",
   "metadata": {},
   "outputs": [
    {
     "name": "stderr",
     "output_type": "stream",
     "text": [
      "/home/ohj/.local/lib/python3.10/site-packages/pandas_datareader/tiingo.py:234: FutureWarning: In a future version of pandas all arguments of concat except for the argument 'objs' will be keyword-only\n",
      "  return pd.concat(dfs, self._concat_axis)\n",
      "/home/ohj/.local/lib/python3.10/site-packages/pandas_datareader/tiingo.py:234: FutureWarning: In a future version of pandas all arguments of concat except for the argument 'objs' will be keyword-only\n",
      "  return pd.concat(dfs, self._concat_axis)\n",
      "/home/ohj/.local/lib/python3.10/site-packages/pandas_datareader/tiingo.py:234: FutureWarning: In a future version of pandas all arguments of concat except for the argument 'objs' will be keyword-only\n",
      "  return pd.concat(dfs, self._concat_axis)\n",
      "/home/ohj/.local/lib/python3.10/site-packages/pandas_datareader/tiingo.py:234: FutureWarning: In a future version of pandas all arguments of concat except for the argument 'objs' will be keyword-only\n",
      "  return pd.concat(dfs, self._concat_axis)\n",
      "/home/ohj/.local/lib/python3.10/site-packages/pandas_datareader/tiingo.py:234: FutureWarning: In a future version of pandas all arguments of concat except for the argument 'objs' will be keyword-only\n",
      "  return pd.concat(dfs, self._concat_axis)\n",
      "/home/ohj/.local/lib/python3.10/site-packages/pandas_datareader/tiingo.py:234: FutureWarning: In a future version of pandas all arguments of concat except for the argument 'objs' will be keyword-only\n",
      "  return pd.concat(dfs, self._concat_axis)\n"
     ]
    },
    {
     "data": {
      "image/png": "[encoded data removed]",
      "text/plain": [
       "<Figure size 432x288 with 1 Axes>"
      ]
     },
     "metadata": {
      "needs_background": "light"
     },
     "output_type": "display_data"
    }
   ],
   "source": [
    "draw_portfolio(symbol_list,start,end)"
   ]
  },
  {
   "cell_type": "code",
   "execution_count": 36,
   "id": "cfc9866b",
   "metadata": {},
   "outputs": [
    {
     "name": "stderr",
     "output_type": "stream",
     "text": [
      "/home/ohj/.local/lib/python3.10/site-packages/pandas_datareader/tiingo.py:234: FutureWarning: In a future version of pandas all arguments of concat except for the argument 'objs' will be keyword-only\n",
      "  return pd.concat(dfs, self._concat_axis)\n"
     ]
    }
   ],
   "source": [
    "symbol_list=['GOOGL','MSFT','AMZN','NVDA','LRCX','AMAT']\n",
    "weighting=[17,10,26,10,17,17,3]\n",
    "get_data(symbol_list)"
   ]
  },
  {
   "cell_type": "code",
   "execution_count": 71,
   "id": "f5bcab4a",
   "metadata": {},
   "outputs": [],
   "source": [
    "start='2018-04-05'\n",
    "end='2023-03-24'\n",
    "portfolio=build_portfolio(symbol_list,start,end,weighting)"
   ]
  },
  {
   "cell_type": "code",
   "execution_count": 61,
   "id": "94c102da",
   "metadata": {},
   "outputs": [
    {
     "data": {
      "text/plain": [
       "-0.1813146073610137"
      ]
     },
     "execution_count": 61,
     "metadata": {},
     "output_type": "execute_result"
    }
   ],
   "source": [
    "sharp_ratio(treasury.values[0:100],returns.values[0:100])"
   ]
  },
  {
   "cell_type": "code",
   "execution_count": 72,
   "id": "d3e76646",
   "metadata": {},
   "outputs": [
    {
     "data": {
      "image/png": "[encoded data removed]",
      "text/plain": [
       "<Figure size 432x288 with 1 Axes>"
      ]
     },
     "metadata": {
      "needs_background": "light"
     },
     "output_type": "display_data"
    }
   ],
   "source": [
    "treasury=get_pricing('BIL', 'close', start, end).pct_change()[1:]\n",
    "returns=portfolio[['weighted_sum']]\n",
    "start='2020-03-25'\n",
    "end='2021-12-24'\n",
    "def run_sharpe(symbol_list,start,end,weighting):\n",
    "    treasury=get_pricing('BIL', 'close', start, end).pct_change()[1:]\n",
    "    portfolio=build_portfolio(symbol_list,start,end,weighting)\n",
    "    returns=portfolio[['weighted_sum']]\n",
    "# Compute the running Sharpe ratio\n",
    "    running_sharpe = [sharp_ratio(treasury.values[i-90:i], \n",
    "                                  returns.values[i-90:i]) \n",
    "                      for i in range(90, len(returns))]\n",
    "\n",
    "# Plot running Sharpe ratio up to 100 days before the end of the data set\n",
    "    _, ax1 = plt.subplots()\n",
    "    ax1.plot(range(90, len(returns)-100), running_sharpe[:-100]);\n",
    "#ax1.set_xticklabels([returns.index[i].date() for i in ticks[:-1]]) # Label x-axis with dates\n",
    "    plt.xlabel('Date')\n",
    "    plt.ylabel('Sharpe Ratio')\n",
    "run_sharpe(symbol_list,start,end,weighting)"
   ]
  },
  {
   "cell_type": "code",
   "execution_count": 73,
   "id": "efad6622",
   "metadata": {},
   "outputs": [
    {
     "name": "stdout",
     "output_type": "stream",
     "text": [
      "Mean of running Sharpe ratio: -0.06488449633200548\n",
      "std of running Sharpe ratio: 0.1122208855660391\n"
     ]
    },
    {
     "data": {
      "image/png": "[encoded data removed]",
      "text/plain": [
       "<Figure size 432x288 with 1 Axes>"
      ]
     },
     "metadata": {
      "needs_background": "light"
     },
     "output_type": "display_data"
    }
   ],
   "source": [
    "# Compute the mean and std of the running Sharpe ratios up to 100 days before the end\n",
    "mean_rs = np.mean(running_sharpe[:-100])\n",
    "std_rs = np.std(running_sharpe[:-100])\n",
    "\n",
    "# Plot running Sharpe ratio\n",
    "_, ax2 = plt.subplots()\n",
    "#ax2.set_xticklabels([pricing.index[i].date() for i in ticks[:-1]]) # Label x-axis with dates\n",
    "ax2.plot(range(90, len(returns)), running_sharpe)\n",
    "\n",
    "# Plot its mean and the +/- 1 standard deviation lines\n",
    "ax2.axhline(mean_rs)\n",
    "ax2.axhline(mean_rs + std_rs, linestyle='--')\n",
    "ax2.axhline(mean_rs - std_rs, linestyle='--')\n",
    "\n",
    "# Indicate where we computed the mean and standard deviations\n",
    "# Everything after this is 'out of sample' which we are comparing with the estimated mean and std\n",
    "ax2.axvline(len(returns) - 100, color='pink');\n",
    "plt.xlabel('Date')\n",
    "plt.ylabel('Sharpe Ratio')\n",
    "plt.legend(['Sharpe Ratio', 'Mean', '+/- 1 Standard Deviation'])\n",
    "\n",
    "print('Mean of running Sharpe ratio:', mean_rs)\n",
    "print('std of running Sharpe ratio:', std_rs)"
   ]
  },
  {
   "cell_type": "code",
   "execution_count": 77,
   "id": "c78809be",
   "metadata": {},
   "outputs": [],
   "source": [
    "ma_50=lrcx_price.rolling(50)[50:].mean()\n",
    "ma_200=lrcx_price.rolling(200).mean()"
   ]
  },
  {
   "cell_type": "code",
   "execution_count": 92,
   "id": "549ae490",
   "metadata": {},
   "outputs": [
    {
     "data": {
      "text/plain": [
       "[<matplotlib.lines.Line2D at 0x7efca3ec8c70>]"
      ]
     },
     "execution_count": 92,
     "metadata": {},
     "output_type": "execute_result"
    },
    {
     "data": {
      "image/png": "[encoded data removed]",
      "text/plain": [
       "<Figure size 432x288 with 1 Axes>"
      ]
     },
     "metadata": {
      "needs_background": "light"
     },
     "output_type": "display_data"
    }
   ],
   "source": [
    "plt.plot(ma_50)"
   ]
  }
 ],
 "metadata": {
  "kernelspec": {
   "display_name": "Python 3 (ipykernel)",
   "language": "python",
   "name": "python3"
  },
  "language_info": {
   "codemirror_mode": {
    "name": "ipython",
    "version": 3
   },
   "file_extension": ".py",
   "mimetype": "text/x-python",
   "name": "python",
   "nbconvert_exporter": "python",
   "pygments_lexer": "ipython3",
   "version": "3.10.6"
  }
 },
 "nbformat": 4,
 "nbformat_minor": 5
}
