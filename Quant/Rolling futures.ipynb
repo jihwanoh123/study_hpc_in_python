{
 "cells": [
  {
   "cell_type": "code",
   "execution_count": 2,
   "id": "9401035a",
   "metadata": {},
   "outputs": [],
   "source": [
    "#rolling futures\n",
    "def roll_gaps(series):\n",
    "    roll_dates=series['Instruement'].drop_duplicates(keep='first').index\n",
    "    gaps=series['Close']*0\n",
    "    iloc=list(series.index)\n",
    "    iloc=[iloc.index(i)-1 for i in roll_dates]\n",
    "    gaps.loc[roll_dates[1:]\n",
    "            ]=series['Open'].loc[roll_dates[1:]\n",
    "                                ]-series['Close'].iloc[iloc[1:]].values\n",
    "    gaps=gaps.cumsum()\n",
    "    return gaps\n",
    "def getRolledSeries(series):\n",
    "    series['Time']=pd.to_datetime(series['Time'],format='%Y%m%d%H%M%S%f')\n",
    "    series=series.set_index('Time')\n",
    "    gaps=roll_gaps(series)\n",
    "    for fld in ['Close','VWAP']:\n",
    "        series[fld]-=gaps\n",
    "    return series"
   ]
  },
  {
   "cell_type": "code",
   "execution_count": null,
   "id": "830dfb71",
   "metadata": {},
   "outputs": [],
   "source": [
    "#Need to generate futures.csv first\n",
    "raw=pd.read_csv('futures.csv',index_col=0,parse_dates=True)\n",
    "gaps=roll_gaps(raw)\n",
    "rolled=raw.copy(deep=True)\n",
    "for fld in ['Close','Open']:\n",
    "    rolled[fld]-=gaps\n",
    "rolled['Returns']=rolled['Close'].diff()/rolled['Close'].shift(1)\n",
    "rolled['ReturnsP']=(rolled['Returns']+1).cumprod()"
   ]
  }
 ],
 "metadata": {
  "kernelspec": {
   "display_name": "Python 3 (ipykernel)",
   "language": "python",
   "name": "python3"
  },
  "language_info": {
   "codemirror_mode": {
    "name": "ipython",
    "version": 3
   },
   "file_extension": ".py",
   "mimetype": "text/x-python",
   "name": "python",
   "nbconvert_exporter": "python",
   "pygments_lexer": "ipython3",
   "version": "3.10.6"
  }
 },
 "nbformat": 4,
 "nbformat_minor": 5
}
