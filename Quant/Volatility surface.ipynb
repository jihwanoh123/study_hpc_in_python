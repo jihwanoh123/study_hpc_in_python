{
 "cells": [
  {
   "cell_type": "code",
   "execution_count": 3,
   "id": "f4a43aaa",
   "metadata": {},
   "outputs": [
    {
     "data": {
      "text/plain": [
       "array([4, 6])"
      ]
     },
     "execution_count": 3,
     "metadata": {},
     "output_type": "execute_result"
    }
   ],
   "source": [
    "import pandas as pd\n",
    "import numpy as np\n",
    "from datetime import date\n",
    "from QuantLib import *\n",
    "\n",
    "# Step 1: Collect option prices (example dataset)\n",
    "options_data = pd.read_csv('options_data.csv')\n",
    "\n",
    "# Step 2: Define the pricing engine and model\n",
    "today = date.today()\n",
    "calendar = TARGET()\n",
    "day_count = Actual365Fixed()\n",
    "\n",
    "# Define the underlying asset\n",
    "spot_price = 100.0\n",
    "risk_free_rate = 0.05\n",
    "dividend_yield = 0.0\n",
    "\n",
    "underlying = SimpleQuote(spot_price)\n",
    "risk_free_curve = FlatForward(today, risk_free_rate, day_count)\n",
    "dividend_curve = FlatForward(today, dividend_yield, day_count)\n",
    "\n",
    "# Step 3: Calculate implied volatilities\n",
    "implied_vols = []\n",
    "for index, row in options_data.iterrows():\n",
    "    option_type = Option.Call if row['OptionType'] == 'Call' else Option.Put\n",
    "    expiration_date = date(int(row['Year']), int(row['Month']), int(row['Day']))\n",
    "    strike_price = row['Strike']\n",
    "    option_price = row['Price']\n",
    "    \n",
    "    # Construct the option\n",
    "    payoff = PlainVanillaPayoff(option_type, strike_price)\n",
    "    exercise = EuropeanExercise(expiration_date)\n",
    "    european_option = EuropeanOption(payoff, exercise)\n",
    "\n",
    "    # Define the option pricing engine\n",
    "    process = BlackScholesMertonProcess(\n",
    "        QuoteHandle(underlying),\n",
    "        YieldTermStructureHandle(dividend_curve),\n",
    "        YieldTermStructureHandle(risk_free_curve),\n",
    "        BlackVolTermStructureHandle(FlatVol(today, 0.0, day_count))\n",
    "    )\n",
    "    european_option.setPricingEngine(AnalyticEuropeanEngine(process))\n",
    "\n",
    "    # Calculate the implied volatility\n",
    "    implied_vol = european_option.impliedVolatility(option_price, process)\n",
    "    implied_vols.append(implied_vol)\n",
    "\n",
    "# Step 4: Create a grid\n",
    "strike_prices = options_data['Strike'].unique()\n",
    "maturities = options_data['Expiration'].unique()\n",
    "\n",
    "# Step 5: Interpolate and smooth (omitted for brevity)\n",
    "# Convert strike prices and maturities to numeric format\n",
    "numeric_strikes = np.array(strike_prices, dtype=float)\n",
    "numeric_maturities = np.array([(expiration - today).days / 365.0 for expiration in maturities], dtype=float)\n",
    "\n",
    "# Create a meshgrid\n",
    "X, Y = np.meshgrid(numeric_maturities, numeric_strikes)\n",
    "Z = np.array(implied_vols).reshape(X.shape)\n",
    "\n",
    "# Perform interpolation and smoothing (example using scipy.interpolate)\n",
    "from scipy.interpolate import griddata\n",
    "from scipy.ndimage import gaussian_filter\n",
    "\n",
    "# Step 6: Visualize the surface (omitted for brevity)\n",
    "# Interpolate the volatility surface\n",
    "interpolated_surface = griddata((numeric_maturities, numeric_strikes), implied_vols, (X, Y), method='linear')\n",
    "\n",
    "# Smooth the surface using a Gaussian filter\n",
    "smoothed_surface = gaussian_filter(interpolated_surface, sigma=1.0)\n",
    "\n",
    "# Step 6: Visualize the surface\n",
    "fig = plt.figure(figsize=(10, 8))\n",
    "ax = fig.add_subplot(111, projection='3d')\n",
    "ax.plot_surface(X, Y, smoothed_surface, cmap='viridis')\n",
    "ax.set_xlabel('Maturity')\n",
    "ax.set_ylabel('Strike Price')\n",
    "ax.set_zlabel('Implied Volatility')\n",
    "ax.set_title('Volatility Surface')\n",
    "plt.show()"
   ]
  },
  {
   "cell_type": "code",
   "execution_count": 5,
   "id": "28ef1ff2",
   "metadata": {},
   "outputs": [
    {
     "data": {
      "text/plain": [
       "array([3, 7])"
      ]
     },
     "execution_count": 5,
     "metadata": {},
     "output_type": "execute_result"
    }
   ],
   "source": [
    "np.sum([[1,2],[3,4]],axis=1)"
   ]
  },
  {
   "cell_type": "code",
   "execution_count": null,
   "id": "1339c3e0",
   "metadata": {},
   "outputs": [],
   "source": []
  }
 ],
 "metadata": {
  "kernelspec": {
   "display_name": "Python 3 (ipykernel)",
   "language": "python",
   "name": "python3"
  },
  "language_info": {
   "codemirror_mode": {
    "name": "ipython",
    "version": 3
   },
   "file_extension": ".py",
   "mimetype": "text/x-python",
   "name": "python",
   "nbconvert_exporter": "python",
   "pygments_lexer": "ipython3",
   "version": "3.10.6"
  }
 },
 "nbformat": 4,
 "nbformat_minor": 5
}
