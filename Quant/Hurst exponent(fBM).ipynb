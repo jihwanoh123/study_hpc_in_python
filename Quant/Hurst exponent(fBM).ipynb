{
 "cells": [
  {
   "cell_type": "code",
   "execution_count": null,
   "id": "6d5aaff3",
   "metadata": {},
   "outputs": [],
   "source": [
    "import numpy as np\n",
    "\n",
    "def hurst_exponent(time_series):\n",
    "    n = len(time_series)\n",
    "    m = np.logspace(2, int(np.log10(n)), num=20, dtype=int)  # Define a range of time window sizes\n",
    "    t = np.zeros(len(m))\n",
    "    r_s = np.zeros(len(m))\n",
    "    \n",
    "    for i, window_size in enumerate(m):\n",
    "        # Calculate the average of the rescaled range\n",
    "        cum_sum = np.cumsum(time_series - np.mean(time_series))\n",
    "        rs = np.zeros(window_size)\n",
    "        \n",
    "        for j in range(0, n, window_size):\n",
    "            segment = cum_sum[j:j+window_size]\n",
    "            r = np.max(segment) - np.min(segment)\n",
    "            s = np.std(segment)\n",
    "            rs[j:j+window_size] = r / s\n",
    "        \n",
    "        t[i] = np.mean(np.log(window_size))\n",
    "        r_s[i] = np.mean(rs)\n",
    "    \n",
    "    # Fit a linear regression line to obtain the Hurst exponent\n",
    "    coef = np.polyfit(t, np.log(r_s), 1)\n",
    "    hurst = coef[0]\n",
    "    \n",
    "    return hurst\n",
    "\n",
    "# Example usage\n",
    "time_series = np.random.randn(1000)  # Replace with your actual time series data\n",
    "hurst = hurst_exponent(time_series)\n",
    "print(\"Hurst exponent:\", hurst)\n"
   ]
  }
 ],
 "metadata": {
  "kernelspec": {
   "display_name": "Python 3 (ipykernel)",
   "language": "python",
   "name": "python3"
  },
  "language_info": {
   "codemirror_mode": {
    "name": "ipython",
    "version": 3
   },
   "file_extension": ".py",
   "mimetype": "text/x-python",
   "name": "python",
   "nbconvert_exporter": "python",
   "pygments_lexer": "ipython3",
   "version": "3.10.6"
  }
 },
 "nbformat": 4,
 "nbformat_minor": 5
}
