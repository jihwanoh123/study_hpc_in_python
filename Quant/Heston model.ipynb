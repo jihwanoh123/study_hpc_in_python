{
 "cells": [
  {
   "cell_type": "code",
   "execution_count": 1,
   "id": "748afcb7",
   "metadata": {},
   "outputs": [],
   "source": [
    "import os\n",
    "import numpy as np\n",
    "import pandas as pd\n",
    "import matplotlib.pyplot as plt\n",
    "from scipy.integrate import quad\n",
    "from scipy.optimize import minimize\n",
    "from datetime import datetime as dt"
   ]
  },
  {
   "cell_type": "code",
   "execution_count": 2,
   "id": "4f7e33d3",
   "metadata": {},
   "outputs": [],
   "source": [
    "from eod import EodHistoricalData\n",
    "from nelson_siegel_svensson import NelsonSiegelSvenssonCurve\n",
    "from nelson_siegel_svensson.calibrate import calibrate_nss_ols"
   ]
  },
  {
   "cell_type": "code",
   "execution_count": 18,
   "id": "673dc8ac",
   "metadata": {},
   "outputs": [],
   "source": [
    "def heston_charfunc(phi,S0,K,v0,kappa,theta,sigma,rho,lambd,tau,r):\n",
    "    a = kappa*theta\n",
    "    b = kappa*lambd\n",
    "    rspi = rho*sigma*phi*1j\n",
    "    d = np.sqrt((rho*sigma*phi*1j-b)**2 + (phi*1j+phi**2)*sigma**2)\n",
    "    g = (b-rspi+d)/(b-rspi-d)\n",
    "    #characteristic function by components\n",
    "    exp1 = np.exp(r*phi*1j*tau)\n",
    "    term2 = S0**(phi*1j)*((1-g*np.exp(d*tau))/(1-g))**(-2*a/sigma**2)\n",
    "    exp2 = np.exp(a*tau*(b-rspi+d)/sigma**2+v0*(b-rspi+d)*((1-np.exp(d*tau))/(1-g*np.exp(d*tau)))/sigma**2)\n",
    "    return exp1*term2*exp2"
   ]
  },
  {
   "cell_type": "code",
   "execution_count": 19,
   "id": "9d666943",
   "metadata": {},
   "outputs": [],
   "source": [
    "def integrand(phi,S0,K,v0,kappa,theta,sigma,rho,lambd,tau,r):\n",
    "    args = (S0,K,v0,kappa,theta,sigma,rho,lambd,tau,r)\n",
    "    numerator = np.exp(r*tau)*heston_charfunc(phi-1j,*args)-K*heston_charfunc(phi,*args)\n",
    "    denominator = 1j*phi*K**(1j*phi)\n",
    "    return numerator/denominator"
   ]
  },
  {
   "cell_type": "markdown",
   "id": "f07c0ec7",
   "metadata": {},
   "source": [
    "Perform numerical integral"
   ]
  },
  {
   "cell_type": "code",
   "execution_count": 20,
   "id": "ce3dbe56",
   "metadata": {},
   "outputs": [],
   "source": [
    "def heston_price_rec(S0,K,v0,kappa,theta,sigma,rho,lambd,tau,r):\n",
    "    args = (S0,K,v0,kappa,theta,sigma,rho,lambd,tau,r)\n",
    "    P,umax,N = 0,100,10000\n",
    "    dphi = umax/N\n",
    "    for i in range(1,N):\n",
    "        phi = dphi*(2*i+1)/2 #mid-point to calculate height\n",
    "        numerator = np.exp(r*tau)*hesto_charfunc(phi-1j,*args)-K*heston_charfunc(phi,*args)\n",
    "        denominator = 1j*phi*K**(1j*phi)\n",
    "        P+=dphi*numerator/denominator\n",
    "    return np.real((S0-K*np.exp(-r*tau))/2+P/np.pi)"
   ]
  },
  {
   "cell_type": "markdown",
   "id": "fd62a1de",
   "metadata": {},
   "source": [
    "Use scipy integrate quad function"
   ]
  },
  {
   "cell_type": "code",
   "execution_count": 21,
   "id": "b8f4b8a5",
   "metadata": {},
   "outputs": [],
   "source": [
    "def heston_price(S0,K,v0,kappa,theta,sigma,rho,lambd,tau,r):\n",
    "    args = (S0,K,v0,kappa,theta,sigma,rho,lambd,tau,r)\n",
    "    real_integral,err = np.real(quad(integrand,0,100,args = args))\n",
    "    return (S0-K*np.exp(-r*tau))/2+real_integral/np.pi"
   ]
  },
  {
   "cell_type": "code",
   "execution_count": 22,
   "id": "0755699f",
   "metadata": {},
   "outputs": [],
   "source": [
    "S0 = 100. #initial asset price\n",
    "K = 100. # strike\n",
    "v0 = 0.1 #initial variance\n",
    "r = 0.03 # risk free rate\n",
    "kappa = 1.5768 # rate of mean reversion of variance process\n",
    "theta = 0.0398 # long-term mean variance\n",
    "sigma = 0.3 # vol of vol\n",
    "lambd = 0.575 # risk premium of variance\n",
    "rho = -0.5711 # correlation between variance and stock process\n",
    "tau = 1. #time to maturity"
   ]
  },
  {
   "cell_type": "code",
   "execution_count": 23,
   "id": "34423bbb",
   "metadata": {},
   "outputs": [
    {
     "name": "stderr",
     "output_type": "stream",
     "text": [
      "/home/ohj/.local/lib/python3.10/site-packages/scipy/integrate/quadpack.py:463: ComplexWarning: Casting complex values to real discards the imaginary part\n",
      "  return _quadpack._qagse(func,a,b,args,full_output,epsabs,epsrel,limit)\n"
     ]
    },
    {
     "data": {
      "text/plain": [
       "13.716373159121495"
      ]
     },
     "execution_count": 23,
     "metadata": {},
     "output_type": "execute_result"
    }
   ],
   "source": [
    "heston_price(S0,K,v0,kappa,theta,sigma,rho,lambd,tau,r)"
   ]
  },
  {
   "cell_type": "markdown",
   "id": "d7ae8167",
   "metadata": {},
   "source": [
    "Risk-free rate from US daily treasury par yield curve rates"
   ]
  },
  {
   "cell_type": "code",
   "execution_count": 26,
   "id": "c9b4e024",
   "metadata": {},
   "outputs": [],
   "source": [
    "yield_maturities = np.array([1/12,2/12,3/12,6/12,1,2,3,5,7,10,20,30])\n",
    "yields = np.array([0.15,0.27,0.50,0.93,1.52,2.13,2.32,2.34,2.37,2.32,2.65,2.52]).astype(float)/100"
   ]
  },
  {
   "cell_type": "code",
   "execution_count": 27,
   "id": "1e0f8836",
   "metadata": {},
   "outputs": [
    {
     "data": {
      "text/plain": [
       "NelsonSiegelSvenssonCurve(beta0=0.028391531922961333, beta1=-0.029279498864207682, beta2=0.025428219264836193, beta3=-0.01417407230854954, tau1=0.9922983277200589, tau2=4.78140939601007)"
      ]
     },
     "execution_count": 27,
     "metadata": {},
     "output_type": "execute_result"
    }
   ],
   "source": [
    "curve_fit,status = calibrate_nss_ols(yield_maturities,yields)\n",
    "curve_fit"
   ]
  },
  {
   "cell_type": "markdown",
   "id": "f21ca515",
   "metadata": {},
   "source": [
    "EOD historical data"
   ]
  },
  {
   "cell_type": "code",
   "execution_count": null,
   "id": "c34e0383",
   "metadata": {},
   "outputs": [],
   "source": []
  }
 ],
 "metadata": {
  "kernelspec": {
   "display_name": "Python 3 (ipykernel)",
   "language": "python",
   "name": "python3"
  },
  "language_info": {
   "codemirror_mode": {
    "name": "ipython",
    "version": 3
   },
   "file_extension": ".py",
   "mimetype": "text/x-python",
   "name": "python",
   "nbconvert_exporter": "python",
   "pygments_lexer": "ipython3",
   "version": "3.10.6"
  }
 },
 "nbformat": 4,
 "nbformat_minor": 5
}
