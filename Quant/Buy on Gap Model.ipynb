{
 "cells": [
  {
   "cell_type": "code",
   "execution_count": 1,
   "id": "456e2812",
   "metadata": {},
   "outputs": [
    {
     "name": "stdout",
     "output_type": "stream",
     "text": [
      "[*********************100%***********************]  28 of 28 completed\n",
      "Selected stocks: ['CRWD', 'TSM', 'ROKU']\n",
      "Selected returns: [-0.05761994325807606, -0.05215252783524762, -0.016530021292264344]\n"
     ]
    }
   ],
   "source": [
    "import yfinance as yf\n",
    "start_date='2020-01-01'\n",
    "end_date='2023-04-05'\n",
    "stocks=['ORCL','TSLA','BMY','NKE','PG','CSCO','AMD','RTX','T','ACN','XOM','AAPL','MSFT','NVDA','GOOGL','AMAT','LRCX','ZM','TDOC','CRWD',\n",
    "       'MCD','JPM','JNJ','NFLX','TSM','TEAM','V','ROKU']\n",
    "data = yf.download(stocks, start=start_date, end=end_date)\n",
    "data.head()\n",
    "import numpy as np\n",
    "import pandas as pd\n",
    "# Get today's date\n",
    "today = '2021-03-04'\n",
    "yester='2021-03-03'\n",
    "# Get all stocks whose returns from yesterday's lows to today's open are lower than one standard deviation\n",
    "stocks = []\n",
    "for symbol in data['Adj Close'].columns:\n",
    "    # Get yesterday's low and today's open prices\n",
    "    low = data['Low'][[symbol]].loc[yester].values[0] if yester in data['Low'][symbol].index else np.nan\n",
    "    open_price = data['Open'][[symbol]].loc[today].values[0]\n",
    "    \n",
    "    # Compute return from yesterday's low to today's open\n",
    "    ret = np.log(open_price / low) if not np.isnan(low) and low > 0 else np.nan\n",
    "    # Compute daily close-to-close returns for the last 90 days\n",
    "    returns = np.log(data['Adj Close'][[symbol]] / data['Adj Close'][[symbol]].shift(1)).dropna()\n",
    "\n",
    "    # Compute standard deviation of the returns\n",
    "    std_dev = returns.std().values[0]\n",
    "    # Check if return is lower than one standard deviation\n",
    "    if not np.isnan(ret) and ret < -std_dev*0.1:\n",
    "        stocks.append(symbol)\n",
    "\n",
    "# Compute 20-day moving average of closing prices for each stock\n",
    "closing_prices = data['Close'][stocks]\n",
    "ma_20 = closing_prices.rolling(window=20).mean()\n",
    "\n",
    "# Narrow down the list of stocks by requiring their open prices to be higher than the 20-day moving average\n",
    "selected_stocks = []\n",
    "for symbol in stocks:\n",
    "    if data['Open'][[symbol]].loc[today].values[0] > ma_20[symbol].iloc[-1]:\n",
    "        selected_stocks.append(symbol)\n",
    "\n",
    "# Buy the 10 stocks within this list that have the lowest returns from their previous day's lows\n",
    "selected_returns = []\n",
    "for symbol in selected_stocks:\n",
    "    # Get yesterday's low and today's open prices\n",
    "    low = data['Low'][[symbol]].loc[yester].values[0] if yester in data['Low'][symbol].index else np.nan\n",
    "    open_price = data['Open'][[symbol]].loc[today].values[0]\n",
    "    \n",
    "    # Compute return from yesterday's low to today's open\n",
    "    ret = np.log(open_price / low) if not np.isnan(low) and low > 0 else np.nan\n",
    "    \n",
    "    # Add return to the list\n",
    "    selected_returns.append(ret)\n",
    "\n",
    "# Sort stocks by returns and select the top 10\n",
    "selected_stocks = [x for _,x in sorted(zip(selected_returns,selected_stocks))][:10]\n",
    "\n",
    "# Liquidate all positions at the market close\n",
    "returns=[]\n",
    "for stock in selected_stocks:\n",
    "    close=data['Close'][[stock]].loc[today].values[0]\n",
    "    opene=data['Open'][[stock]].loc[today].values[0]\n",
    "    returns.append((close-opene)/opene)\n",
    "# Not implemented, would require a different API or a time delay\n",
    "\n",
    "# Print selected stocks\n",
    "print(\"Selected stocks:\", selected_stocks)\n",
    "print('Selected returns:', returns)"
   ]
  },
  {
   "cell_type": "code",
   "execution_count": null,
   "id": "f3edb226",
   "metadata": {},
   "outputs": [],
   "source": []
  }
 ],
 "metadata": {
  "kernelspec": {
   "display_name": "Python 3 (ipykernel)",
   "language": "python",
   "name": "python3"
  },
  "language_info": {
   "codemirror_mode": {
    "name": "ipython",
    "version": 3
   },
   "file_extension": ".py",
   "mimetype": "text/x-python",
   "name": "python",
   "nbconvert_exporter": "python",
   "pygments_lexer": "ipython3",
   "version": "3.10.6"
  }
 },
 "nbformat": 4,
 "nbformat_minor": 5
}
