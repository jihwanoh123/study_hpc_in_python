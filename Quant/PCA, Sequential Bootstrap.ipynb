{
 "cells": [
  {
   "cell_type": "code",
   "execution_count": null,
   "id": "c8d675c1",
   "metadata": {},
   "outputs": [],
   "source": [
    "#Symmetric CUSUM filter\n",
    "def getEvents(raw,threshold):\n",
    "    tEvents,sPos,sNeg=[],0,0\n",
    "    diff=raw.diff()\n",
    "    for i in diff.index[1:]:\n",
    "        sPos,sNeg=max(0,sPos+diff.loc[i]),min(0,sNeg+diff.loc[i])\n",
    "        if sNeg<-h:\n",
    "            sNeg=0\n",
    "            tEvents.append(i)\n",
    "        elif sPos>h:\n",
    "            sPos=0\n",
    "            tEvents.append(i)\n",
    "    return pd.DatetimeIndex(i) "
   ]
  },
  {
   "cell_type": "code",
   "execution_count": null,
   "id": "8acc1ed3",
   "metadata": {},
   "outputs": [],
   "source": [
    "#PCA weights\n",
    "def pcaWeights(cov, risk_dist, portfolio_risk):\n",
    "    eVal,eVec=np.linalg.eigh(cov)\n",
    "    indices=eVal.argsort()[::-1]\n",
    "    eVal,eVec=eVal[indices],eVec[:,indices]\n",
    "    loads=portfolio_risk*(risk_dist/eVal)**0.5\n",
    "    weights=np.dot(eVec,np.reshape(loads,(-1,1)))\n",
    "    return weights"
   ]
  },
  {
   "cell_type": "code",
   "execution_count": null,
   "id": "1372109a",
   "metadata": {},
   "outputs": [],
   "source": [
    "#Sequential bootstrap\n",
    "import pandas as pd\n",
    "import numpy as np\n",
    "def sequential_bootstrap(series, block_size, n_samples):\n",
    "    n_obs=len(series)\n",
    "    n_blocks=n_obs//block_size+1\n",
    "    if n_obs%block_size!=0:\n",
    "        padding=n_blocks*block_size-n_obs\n",
    "        series=np.concatenate([series,np.zeros(padding)])\n",
    "    samples = np.zeros((n_samples,n_obs))\n",
    "    for i in range(n_samples):\n",
    "        block_indices=np.random.choice(range(n_blocks),\n",
    "                                       size=n_blocks,replace=True)\n",
    "        indices=np.concatenate([[series[j*block_size:(j+1)*block_size] \n",
    "                                for j in block_indices]])\n",
    "        samples[i]=series[indices][:n_obs]\n",
    "    return samples"
   ]
  }
 ],
 "metadata": {
  "kernelspec": {
   "display_name": "Python 3 (ipykernel)",
   "language": "python",
   "name": "python3"
  },
  "language_info": {
   "codemirror_mode": {
    "name": "ipython",
    "version": 3
   },
   "file_extension": ".py",
   "mimetype": "text/x-python",
   "name": "python",
   "nbconvert_exporter": "python",
   "pygments_lexer": "ipython3",
   "version": "3.10.6"
  }
 },
 "nbformat": 4,
 "nbformat_minor": 5
}
