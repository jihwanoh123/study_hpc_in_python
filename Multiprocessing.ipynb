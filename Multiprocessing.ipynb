{
 "cells": [
  {
   "cell_type": "code",
   "execution_count": 2,
   "id": "4c021124",
   "metadata": {},
   "outputs": [
    {
     "name": "stdout",
     "output_type": "stream",
     "text": [
      "Sleeping 1 second\n",
      "Done sleeping...\n",
      "Sleeping 1 second\n",
      "Done sleeping...\n",
      "Finished in 2.01 second(s)\n"
     ]
    }
   ],
   "source": [
    "import time\n",
    "start=time.perf_counter()\n",
    "def do_something():\n",
    "    print('Sleeping 1 second')\n",
    "    time.sleep(1)\n",
    "    print('Done sleeping...')\n",
    "do_something()\n",
    "do_something()\n",
    "finish=time.perf_counter()\n",
    "print(f'Finished in {round(finish-start,2)} second(s)')"
   ]
  },
  {
   "cell_type": "code",
   "execution_count": 20,
   "id": "029dc526",
   "metadata": {},
   "outputs": [
    {
     "name": "stdout",
     "output_type": "stream",
     "text": [
      "Sleeping 1 second\n",
      "Sleeping 1 secondFinished in 0.02 second(s)\n",
      "\n",
      "Done sleeping...\n",
      "Done sleeping...\n"
     ]
    }
   ],
   "source": [
    "#Threading helps tasks with I/O bounds\n",
    "import threading\n",
    "def do_something():\n",
    "    print('Sleeping 1 second')\n",
    "    time.sleep(1)\n",
    "    print('Done sleeping...')\n",
    "start=time.perf_counter()\n",
    "t1=threading.Thread(target=do_something)\n",
    "t2=threading.Thread(target=do_something)\n",
    "t1.start()\n",
    "t2.start()\n",
    "end=time.perf_counter()\n",
    "print(f'Finished in {round(end-start,2)} second(s)')"
   ]
  },
  {
   "cell_type": "code",
   "execution_count": 6,
   "id": "7301e0b5",
   "metadata": {},
   "outputs": [
    {
     "name": "stdout",
     "output_type": "stream",
     "text": [
      "Sleeping 1 second\n",
      "Sleeping 1 second\n",
      "Done sleeping...\n",
      "Done sleeping...\n",
      "Finished in 1.02 second(s)\n"
     ]
    }
   ],
   "source": [
    "start=time.perf_counter()\n",
    "t1=threading.Thread(target=do_something)\n",
    "t2=threading.Thread(target=do_something)\n",
    "t1.start()\n",
    "t2.start()\n",
    "#join() has the effect of blocking the current process until the \n",
    "#target process that has been joined has terminated.\n",
    "t1.join()\n",
    "t2.join()\n",
    "end=time.perf_counter()\n",
    "print(f'Finished in {round(end-start,2)} second(s)')"
   ]
  },
  {
   "cell_type": "code",
   "execution_count": 24,
   "id": "f5b87074",
   "metadata": {},
   "outputs": [
    {
     "name": "stdout",
     "output_type": "stream",
     "text": [
      "Finished in 0.17 second(s)\n"
     ]
    }
   ],
   "source": [
    "#Multiprocessing helps tasks with CPU bounds\n",
    "import time\n",
    "import multiprocessing\n",
    "def do_something():\n",
    "    print('Sleeping 1 second')\n",
    "    time.sleep(1)\n",
    "    print('Done sleeping...')\n",
    "start=time.perf_counter()\n",
    "p1=multiprocessing.Process(target=do_something)\n",
    "p2=multiprocessing.Process(target=do_something)\n",
    "p1.start()\n",
    "p2.start()\n",
    "p1.join()\n",
    "p2.join()\n",
    "end=time.perf_counter()\n",
    "print(f'Finished in {round(end-start,2)} second(s)')"
   ]
  },
  {
   "cell_type": "code",
   "execution_count": 10,
   "id": "5585f90b",
   "metadata": {},
   "outputs": [
    {
     "name": "stdout",
     "output_type": "stream",
     "text": [
      "Sleeping 1 second\n",
      "Sleeping 1 second\n",
      "Sleeping 1 second\n",
      "Sleeping 1 second\n",
      "Sleeping 1 second\n",
      "Done sleeping...\n",
      "Done sleeping...\n",
      "Done sleeping...\n",
      "Done sleeping...Done sleeping...\n",
      "\n",
      "Finished in 1.02 second(s)\n"
     ]
    }
   ],
   "source": [
    "start=time.perf_counter()\n",
    "threads=[]\n",
    "for _ in range(5):\n",
    "    t=threading.Thread(target=do_something)\n",
    "    t.start()\n",
    "    threads.append(t)\n",
    "for thread in threads:\n",
    "    thread.join()\n",
    "end=time.perf_counter()\n",
    "print(f'Finished in {round(end-start,2)} second(s)')"
   ]
  },
  {
   "cell_type": "code",
   "execution_count": 11,
   "id": "45de9d07",
   "metadata": {},
   "outputs": [
    {
     "name": "stdout",
     "output_type": "stream",
     "text": [
      "Sleeping 1.5 second(s)\n",
      "Sleeping 1.5 second(s)\n",
      "Sleeping 1.5 second(s)Sleeping 1.5 second(s)\n",
      "\n",
      "Sleeping 1.5 second(s)\n",
      "Done sleeping...Done sleeping...\n",
      "Done sleeping...\n",
      "\n",
      "Done sleeping...Done sleeping...\n",
      "\n",
      "Finished in 1.51 second(s)\n"
     ]
    }
   ],
   "source": [
    "def do_something(seconds):\n",
    "    print(f'Sleeping {seconds} second(s)')\n",
    "    time.sleep(seconds)\n",
    "    print('Done sleeping...')\n",
    "start=time.perf_counter()\n",
    "threads=[]\n",
    "for _ in range(5):\n",
    "    t=threading.Thread(target=do_something,args=[1.5])\n",
    "    t.start()\n",
    "    threads.append(t)\n",
    "for thread in threads:\n",
    "    thread.join()\n",
    "end=time.perf_counter()\n",
    "print(f'Finished in {round(end-start,2)} second(s)')"
   ]
  },
  {
   "cell_type": "code",
   "execution_count": 5,
   "id": "c110f75a",
   "metadata": {},
   "outputs": [
    {
     "name": "stdout",
     "output_type": "stream",
     "text": [
      "Sleeping 1.5 second(s)\n",
      "Sleeping 1.5 second(s)\n",
      "Done sleeping...\n",
      "Done sleeping...\n",
      "Finished in 1.53 second(s)\n"
     ]
    }
   ],
   "source": [
    "import concurrent.futures\n",
    "import time\n",
    "\n",
    "def do_something(seconds):\n",
    "    print(f'Sleeping {seconds} second(s)')\n",
    "    time.sleep(seconds)\n",
    "    return 'Done sleeping...'\n",
    "start=time.perf_counter()\n",
    "with concurrent.futures.ThreadPoolExecutor() as executor:\n",
    "    f1=executor.submit(do_something, 1.5)\n",
    "    f2=executor.submit(do_something, 1.5)\n",
    "    print(f1.result())\n",
    "    print(f2.result())\n",
    "end=time.perf_counter()\n",
    "print(f'Finished in {round(end-start,2)} second(s)')"
   ]
  },
  {
   "cell_type": "code",
   "execution_count": 9,
   "id": "e37fa994",
   "metadata": {},
   "outputs": [
    {
     "name": "stdout",
     "output_type": "stream",
     "text": [
      "Sleeping 1 second(s)\n",
      "Sleeping 1 second(s)\n",
      "Sleeping 1 second(s)\n",
      "Sleeping 1 second(s)\n",
      "Sleeping 1 second(s)\n",
      "Sleeping 1 second(s)\n",
      "Sleeping 1 second(s)\n",
      "Sleeping 1 second(s)\n",
      "Sleeping 1 second(s)Sleeping 1 second(s)Done sleeping...\n",
      "\n",
      "\n",
      "Done sleeping...\n",
      "Done sleeping...\n",
      "Done sleeping...\n",
      "Done sleeping...\n",
      "Done sleeping...\n",
      "Done sleeping...\n",
      "Done sleeping...\n",
      "Done sleeping...\n",
      "Done sleeping...\n",
      "Finished in 2.02 second(s)\n"
     ]
    }
   ],
   "source": [
    "start=time.perf_counter()\n",
    "with concurrent.futures.ThreadPoolExecutor() as executor:\n",
    "    results=[executor.submit(do_something,1) for _ in range(10)]\n",
    "    for f in concurrent.futures.as_completed(results):\n",
    "        print(f.result())\n",
    "end=time.perf_counter()\n",
    "print(f'Finished in {round(end-start,2)} second(s)')"
   ]
  },
  {
   "cell_type": "code",
   "execution_count": 15,
   "id": "33db0407",
   "metadata": {},
   "outputs": [
    {
     "name": "stdout",
     "output_type": "stream",
     "text": [
      "Sleeping 5 second(s)\n",
      "Sleeping 4 second(s)\n",
      "Sleeping 3 second(s)Sleeping 2 second(s)\n",
      "\n",
      "Sleeping 1 second(s)\n",
      "Done sleeping...1\n",
      "Done sleeping...2\n",
      "Done sleeping...3\n",
      "Done sleeping...4\n",
      "Done sleeping...5\n",
      "Finished in 5.01 second(s)\n"
     ]
    }
   ],
   "source": [
    "def do_something(seconds):\n",
    "    print(f'Sleeping {seconds} second(s)')\n",
    "    time.sleep(seconds)\n",
    "    return f'Done sleeping...{seconds}'\n",
    "start=time.perf_counter()\n",
    "with concurrent.futures.ThreadPoolExecutor() as executor:\n",
    "    secs=[5,4,3,2,1]\n",
    "    results=[executor.submit(do_something, sec) for sec in secs]\n",
    "    for f in concurrent.futures.as_completed(results):\n",
    "        print(f.result())\n",
    "end=time.perf_counter()\n",
    "print(f'Finished in {round(end-start,2)} second(s)')\n",
    "#Return the result in the order that they finished."
   ]
  },
  {
   "cell_type": "code",
   "execution_count": null,
   "id": "97df334a",
   "metadata": {},
   "outputs": [],
   "source": [
    "def cube(number):\n",
    "    return number**3\n",
    "from multiprocessing import Process,Pool,Value,Array,Queue\n",
    "pool=Pool() #Map into different processors and proceed\n",
    "nums=[1,2,3,4]\n",
    "result=pool.map(cube,nums)\n",
    "#result2=pool.apply(cube,nums[0])\n",
    "#shared_value=Value('i',0) between multiple processors\n",
    "#print(shared_value.value)\n",
    "#shared_array=Array('d',[1.0,10.0,112.0])\n",
    "#q=Queue() share data between processors\n",
    "#for i in range(10): q.put(i**2) inside cube function\n",
    "#while q: print(q.get())\n",
    "pool.close()\n",
    "pool.join()"
   ]
  },
  {
   "cell_type": "code",
   "execution_count": 2,
   "id": "1baaa64f",
   "metadata": {},
   "outputs": [
    {
     "data": {
      "text/plain": [
       "[1, 4, 9, 16, 25]"
      ]
     },
     "execution_count": 2,
     "metadata": {},
     "output_type": "execute_result"
    }
   ],
   "source": [
    "import multiprocessing\n",
    "import numpy as np\n",
    "nums=[1,2,3,4,5]\n",
    "def func(n):\n",
    "    return n*n\n",
    "with multiprocessing.Pool(processes=6) as pool:\n",
    "    result=pool.map(np.square,nums)\n",
    "result"
   ]
  },
  {
   "cell_type": "code",
   "execution_count": null,
   "id": "6db91602",
   "metadata": {},
   "outputs": [],
   "source": [
    "from PIL import Image\n",
    "from sys import argv\n",
    "#Get the command line argument(argv[0] is function name, argv[1] is argument)\n",
    "file_name=argv[1]\n",
    "#Extract the base file name\n",
    "base_name=file_name.split('.')[0]\n",
    "#Opens the file\n",
    "im=Image.open(file_name)\n",
    "#Rotate by 180 degree\n",
    "im_flipped=im.rotate(angle=180)\n",
    "#Saves to pdf file\n",
    "im_flipped.save(base_name+'_flipped.pdf')"
   ]
  },
  {
   "cell_type": "code",
   "execution_count": 12,
   "id": "db8fd591",
   "metadata": {},
   "outputs": [
    {
     "name": "stdout",
     "output_type": "stream",
     "text": [
      "python image_flipper.py ./NYC.jpeg\n"
     ]
    }
   ],
   "source": [
    "import glob\n",
    "#Create text file\n",
    "file_list=glob.glob('./*jpeg')\n",
    "for file_name in file_list:\n",
    "    print(f'python image_flipper.py {file_name}')"
   ]
  },
  {
   "cell_type": "markdown",
   "id": "5ca4258b",
   "metadata": {},
   "source": [
    "Process: An instance of the Python interpreter has at least one thread called the MainThread.\n",
    "\n",
    "Thread: A thread of execution within a Python process, such as the MainThread or a new thread."
   ]
  },
  {
   "cell_type": "markdown",
   "id": "8e4d1b99",
   "metadata": {},
   "source": [
    "The Python Global Interpreter Lock or GIL, in simple words, is a mutex (or a lock) that allows only one thread to hold the control of the Python interpreter.\n",
    "This means that only one thread can be in a state of execution at any point in time. The impact of the GIL isn’t visible to developers who execute single-threaded programs, but it can be a performance bottleneck in CPU-bound and multi-threaded code.\n",
    "Since the GIL allows only one thread to execute at a time even in a multi-threaded architecture with more than one CPU core, the GIL has gained a reputation as an “infamous” feature of Python."
   ]
  },
  {
   "cell_type": "markdown",
   "id": "90d756a3",
   "metadata": {},
   "source": [
    "Objects created in Python have a reference count variable that keeps track of the number of references that point to the object. \n",
    "\n",
    "The problem was that this reference count variable needed protection from race conditions where two threads increase or decrease its value simultaneously. If this happens, it can cause either leaked memory that is never released or, even worse, incorrectly release the memory while a reference to that object still exists. This can cause crashes or other “weird” bugs in your Python programs.\n",
    "\n",
    "This reference count variable can be kept safe by adding locks to all data structures that are shared across threads so that they are not modified inconsistently.\n",
    "\n",
    "But adding a lock to each object or groups of objects means multiple locks will exist which can cause another problem—Deadlocks (deadlocks can only happen if there is more than one lock; simply, when two threads needs two different resources and each of them has the lock of the resource that the other need, it is a deadlock). Another side effect would be decreased performance caused by the repeated acquisition and release of locks.\n",
    "\n",
    "The GIL is a single lock on the interpreter itself which adds a rule that execution of any Python bytecode requires acquiring the interpreter lock. This prevents deadlocks (as there is only one lock) and doesn’t introduce much performance overhead. But it effectively makes any CPU-bound Python program single-threaded."
   ]
  },
  {
   "cell_type": "markdown",
   "id": "5277b84d",
   "metadata": {},
   "source": [
    "When you look at a typical Python program—or any computer program for that matter—there’s a difference between those that are CPU-bound in their performance and those that are I/O-bound.\n",
    "\n",
    "CPU-bound programs are those that are pushing the CPU to its limit. This includes programs that do mathematical computations like matrix multiplications, searching, image processing, etc.\n",
    "\n",
    "I/O-bound programs are the ones that spend time waiting for Input/Output which can come from a user, file, database, network, etc. I/O-bound programs sometimes have to wait for a significant amount of time till they get what they need from the source due to the fact that the source may need to do its own processing before the input/output is ready, for example, a user thinking about what to enter into an input prompt or a database query running in its own process.\n",
    "\n",
    "There is a priority order.  The GIL can cause I/O-bound threads to be scheduled ahead of CPU-bound threads."
   ]
  },
  {
   "cell_type": "markdown",
   "id": "adc7a4e0",
   "metadata": {},
   "source": [
    "In the multi-threaded version, the GIL prevented the CPU-bound threads from executing in parellel.\n",
    "\n",
    "The GIL does not have much impact on the performance of I/O-bound multi-threaded programs as the lock is shared between threads while they are waiting for I/O. They release GIL when blocking for I/O. So, any time a thread is forced to wait, other\n",
    "\"ready\" threads get their chance to run.\n",
    "\n",
    "But a program whose threads are entirely CPU-bound, e.g., a program that processes an image in parts using threads, would not only become single threaded due to the lock but will also see an increase in execution time in comparison to a scenario where it was written to be entirely single-threaded. \n",
    "\n",
    "This increase is the result of acquire and release overheads added by the lock; GIL thread signaling. The interpreter periodically performs a \"check\". By default, a \"check\" is simply made every 100 \"ticks\". After every 100 ticks, the interpreter release and reacquire a lock, signals on a condition variable\n",
    "where another thread is always waiting, so extra system calls get triggered to deliver the signal. The lag between signaling and execution may be significant (depends on the OS)\n",
    "\n",
    "With multiple cores, CPU-bound threads get scheduled simultaneously (on different cores) and then have a GIL battle. The waiting thread (T2) may make 100s of failed GIL acquisitions before any success.\n",
    "First t2 runs. Thread changes to t1. t2 tries to keep running, but immediately has to block because t1 acquired the GIL. Here, the GIL battle begins. Every RELEASE of the GIL signals t2. Since there are two cores, the OS schedules t2, but leaves t1 running on the other core. Since t1 is left running, it immediately reacquires the GIL before t2 can get to it.\n",
    "\n",
    "What's happening here is that you're seeing a battle between two competing (and ultimately incompatible) goals. \n",
    "Python - only wants to run singlethreaded, but doesn't want anything to do with thread scheduling (up to OS). Python does not have a thread scheduler. All thread scheduling is left to the host operating system.\n",
    "OS - \"Oooh. Multiple cores.\" Freely schedules processes/threads to take advantage of as many cores as possible.\n",
    "\n",
    "Even 1 CPU-bound thread causes problems, as there is always a waiting thread in a different core.\n",
    "\n",
    "Priority Inversion\n",
    "A CPU-bound thread (low priority) is blocking the execution of an I/O-bound thread (high priority). It occurs because the I/O thread can't wake up fast enough to acquire the GIL before the CPU-bound thread reacquires it. It only happens on multicore."
   ]
  },
  {
   "cell_type": "markdown",
   "id": "715cab8d",
   "metadata": {},
   "source": [
    "How to deal with GIL\n",
    "\n",
    "Multi-processing vs multi-threading: The most popular way is to use a multi-processing approach where you use multiple processes instead of threads. Each Python process gets its own Python interpreter and memory space so the GIL won’t be a problem.\n",
    "\n",
    "A decent performance increase compared to the multi-threaded version.\n",
    "\n",
    "The time didn’t drop to half of what we saw above because process management has its own overheads. Multiple processes are heavier than multiple threads, so, keep in mind that this could become a scaling bottleneck."
   ]
  },
  {
   "cell_type": "markdown",
   "id": "c19a9365",
   "metadata": {},
   "source": [
    "Multiprocessing\n",
    "\n",
    "Pros\n",
    "1. Separate memory space\n",
    "2. Takes advantage of multiple CPUs & cores\n",
    "3. Avoids GIL limitations\n",
    "4. Child processes are interruptible/killable\n",
    "\n",
    "Cons\n",
    "1. IPC a little more complicated with more overhead (communication model vs. shared memory/objects)\n",
    "2. Larger memory footprint"
   ]
  },
  {
   "cell_type": "markdown",
   "id": "2b3142fa",
   "metadata": {},
   "source": [
    "Threading\n",
    "\n",
    "Pros\n",
    "1. Lightweight - low memory footprint\n",
    "2. Shared memory - makes access to state from another context easier\n",
    "3. Great option for I/O-bound applications\n",
    "\n",
    "Cons\n",
    "1. subject to the GIL\n",
    "2. Not interruptible/killable\n",
    "3. The potential for race conditions increases dramatically"
   ]
  },
  {
   "cell_type": "markdown",
   "id": "aa08e6da",
   "metadata": {},
   "source": [
    "Process: An instance of the Python interpreter has at least one thread called the MainThread.\n",
    "\n",
    "Thread: A thread of execution within a Python process, such as the MainThread or a new thread."
   ]
  },
  {
   "cell_type": "markdown",
   "id": "79f7a86e",
   "metadata": {},
   "source": [
    "The main process in Python is the process started when you run your Python program"
   ]
  },
  {
   "cell_type": "markdown",
   "id": "3ff4fb3e",
   "metadata": {},
   "source": [
    "To restart a process in Python, you must create a new instance of the process with the same configuration and then call the start() function.\n",
    "\n",
    "To return values from process, use Value, Queue, etc. These classes explicitly define data attributes designed to be shared(Shared variables mean that changes made in one process are always propagated and made available to other processes) between processes in a process-safe manner(only one process can read or access the variable at a time)."
   ]
  },
  {
   "cell_type": "code",
   "execution_count": null,
   "id": "6b22793b",
   "metadata": {},
   "outputs": [],
   "source": [
    "# Print sequentially.\n",
    "class Foo(object):\n",
    "    def __init__(self):\n",
    "        pass\n",
    "    def first(self, printFirst):\n",
    "        printFirst()\n",
    "    def second(self, printSecond):\n",
    "        time.sleep(0.1)\n",
    "        printSecond()\n",
    "    def third(self, printThird):\n",
    "        time.sleep(0.15)\n",
    "        printThird()"
   ]
  },
  {
   "cell_type": "code",
   "execution_count": null,
   "id": "1f6ff05e",
   "metadata": {},
   "outputs": [],
   "source": [
    "#Alternate printing\n",
    "from threading import Lock\n",
    "class FooBar(object):\n",
    "    def __init__(self, n):\n",
    "        self.n = n\n",
    "        self.loc1=Lock()\n",
    "        self.loc2=Lock()\n",
    "        self.loc2.acquire()\n",
    "    def foo(self, printFoo):\n",
    "        for i in xrange(self.n):\n",
    "            self.loc1.acquire()\n",
    "            printFoo()\n",
    "            self.loc2.release()\n",
    "    def bar(self, printBar):\n",
    "        for i in xrange(self.n):\n",
    "            self.loc2.acquire()\n",
    "            printBar()\n",
    "            self.loc1.release()"
   ]
  },
  {
   "cell_type": "code",
   "execution_count": null,
   "id": "96111f64",
   "metadata": {},
   "outputs": [],
   "source": [
    "#Print 012034056 ,,,\n",
    "from threading import Lock\n",
    "class ZeroEvenOdd(object):\n",
    "    def printNumber(self,i):\n",
    "        print(i)\n",
    "    def __init__(self, n):\n",
    "        self.n = n\n",
    "        self.zero_lock=Lock()\n",
    "        self.even_lock=Lock()\n",
    "        self.odd_lock=Lock()\n",
    "        self.even_lock.acquire()\n",
    "        self.odd_lock.acquire()\n",
    "    def zero(self, printNumber):\n",
    "        for i in range(self.n):\n",
    "            self.zero_lock.acquire()\n",
    "            printNumber(0)\n",
    "            if i%2==0:\n",
    "                self.odd_lock.release()\n",
    "            else:\n",
    "                self.even_lock.release()\n",
    "    def even(self, printNumber):\n",
    "        for i in range(2,self.n+1,2):\n",
    "            self.even_lock.acquire()\n",
    "            printNumber(i)\n",
    "            self.zero_lock.release()\n",
    "    def odd(self, printNumber):\n",
    "        for i in range(1,self.n+1,2):\n",
    "            self.odd_lock.acquire()\n",
    "            printNumber(i)\n",
    "            self.zero_lock.release()"
   ]
  },
  {
   "cell_type": "code",
   "execution_count": null,
   "id": "fe5c21b4",
   "metadata": {},
   "outputs": [],
   "source": [
    "#FizzBuzz\n",
    "from threading import Lock\n",
    "class FizzBuzz(object):\n",
    "    def __init__(self, n):\n",
    "        self.n = n\n",
    "        self.f=Lock()\n",
    "        self.b=Lock()\n",
    "        self.fb=Lock()\n",
    "        self.no=Lock()\n",
    "        self.f.acquire()\n",
    "        self.b.acquire()\n",
    "        self.fb.acquire()\n",
    "    def fizz(self, printFizz):\n",
    "        for i in range(3, self.n+1, 3):\n",
    "            if i % 5 != 0: \n",
    "                self.f.acquire()\n",
    "                printFizz()\n",
    "                self.no.release()\n",
    "    def buzz(self, printBuzz):\n",
    "        for i in range(5,self.n+1,5):\n",
    "            if i%3!=0:\n",
    "                self.b.acquire()\n",
    "                printBuzz()\n",
    "                self.no.release()\n",
    "    def fizzbuzz(self, printFizzBuzz):\n",
    "        for i in range(15, self.n+1,15):\n",
    "            self.fb.acquire()\n",
    "            printFizzBuzz()\n",
    "            self.no.release()\n",
    "    def number(self, printNumber):\n",
    "        for i in range(1,self.n+1):\n",
    "            self.no.acquire()\n",
    "            if i%15==0:\n",
    "                self.fb.release()\n",
    "            elif i%3==0:\n",
    "                self.f.release()\n",
    "            elif i%5==0:\n",
    "                self.b.release()\n",
    "            else:\n",
    "                printNumber(i)\n",
    "                self.no.release()"
   ]
  },
  {
   "cell_type": "code",
   "execution_count": null,
   "id": "2aef233d",
   "metadata": {},
   "outputs": [],
   "source": [
    "from threading import Barrier,Semaphore\n",
    "class H2O:\n",
    "    def __init__(self):\n",
    "        self.semH = Semaphore(2)\n",
    "        self.semO = Semaphore(1)\n",
    "        self.bar = Barrier(3)\n",
    "    def hydrogen(self, releaseHydrogen):\n",
    "        with self.semH:\n",
    "            releaseHydrogen()\n",
    "            self.bar.wait()\n",
    "    def oxygen(self, releaseOxygen):\n",
    "        with self.semO:\n",
    "            releaseOxygen()\n",
    "            self.bar.wait()"
   ]
  },
  {
   "cell_type": "code",
   "execution_count": 30,
   "id": "6cf60e1a",
   "metadata": {},
   "outputs": [
    {
     "name": "stdout",
     "output_type": "stream",
     "text": [
      "50.0\n",
      "25.0\n",
      "12.5\n",
      "6.25\n",
      "3.125\n",
      "1.5625\n",
      "0.78125\n",
      "Done\n",
      "1.5625\n",
      "3.125\n",
      "6.25\n",
      "12.5\n",
      "25.0\n",
      "50.0\n",
      "100.0\n",
      "Done\n"
     ]
    }
   ],
   "source": [
    "import threading\n",
    "import time\n",
    "x=100\n",
    "lock=threading.Lock()\n",
    "def halves():\n",
    "    global x,lock\n",
    "    lock.acquire()\n",
    "    while x>1:\n",
    "        x/=2\n",
    "        print(x)\n",
    "    print('Done')\n",
    "    lock.release()\n",
    "def double():\n",
    "    global x,lock\n",
    "    lock.acquire()\n",
    "    while x<100:\n",
    "        x*=2\n",
    "        print(x)\n",
    "    print(\"Done\")\n",
    "    lock.release()\n",
    "t1=threading.Thread(target=halves)\n",
    "t2=threading.Thread(target=double)\n",
    "t1.start()\n",
    "t2.start()"
   ]
  },
  {
   "cell_type": "code",
   "execution_count": 32,
   "id": "d8df6c2f",
   "metadata": {},
   "outputs": [
    {
     "name": "stdout",
     "output_type": "stream",
     "text": [
      "1 is trying to access!\n",
      "1 was granted acess!\n",
      "2 is trying to access!\n",
      "2 was granted acess!\n",
      "3 is trying to access!\n",
      "3 was granted acess!\n",
      "4 is trying to access!\n",
      "4 was granted acess!\n",
      "5 is trying to access!\n",
      "5 was granted acess!\n",
      "6 is trying to access!\n",
      "7 is trying to access!\n",
      "8 is trying to access!\n",
      "9 is trying to access!\n",
      "10 is trying to access!\n",
      "1 is now releasing!\n",
      "6 was granted acess!\n",
      "2 is now releasing!\n",
      "7 was granted acess!\n",
      "3 is now releasing!\n",
      "8 was granted acess!\n",
      "4 is now releasing!\n",
      "9 was granted acess!\n",
      "5 is now releasing!\n",
      "10 was granted acess!\n",
      "6 is now releasing!\n",
      "7 is now releasing!\n",
      "8 is now releasing!\n",
      "9 is now releasing!\n",
      "10 is now releasing!\n"
     ]
    }
   ],
   "source": [
    "import threading\n",
    "import time\n",
    "semaphore=threading.Semaphore(5)\n",
    "def access(thread_number):\n",
    "    print('{} is trying to access!'.format(thread_number))\n",
    "    semaphore.acquire()\n",
    "    print('{} was granted acess!'.format(thread_number))\n",
    "    time.sleep(10)\n",
    "    print('{} is now releasing!'.format(thread_number))\n",
    "    semaphore.release()\n",
    "for thread_num in range(1,11):\n",
    "    t=threading.Thread(target=access,args=(thread_num,))\n",
    "    t.start()\n",
    "    time.sleep(1)"
   ]
  },
  {
   "cell_type": "code",
   "execution_count": 3,
   "id": "51ffd8bd",
   "metadata": {},
   "outputs": [
    {
     "name": "stdout",
     "output_type": "stream",
     "text": [
      "Hi\n"
     ]
    }
   ],
   "source": [
    "#Python decorators\n",
    "def outer_function():\n",
    "    message='Hi'\n",
    "    def inner_function():\n",
    "        print(message)\n",
    "    return inner_function()\n",
    "outer_function()"
   ]
  },
  {
   "cell_type": "code",
   "execution_count": 5,
   "id": "cd9a9811",
   "metadata": {},
   "outputs": [
    {
     "name": "stdout",
     "output_type": "stream",
     "text": [
      "Hi\n"
     ]
    }
   ],
   "source": [
    "def outer_function():\n",
    "    message='Hi'\n",
    "    def inner_function():\n",
    "        print(message)\n",
    "    return inner_function\n",
    "funct=outer_function()\n",
    "funct()"
   ]
  },
  {
   "cell_type": "code",
   "execution_count": 7,
   "id": "5d88950c",
   "metadata": {},
   "outputs": [
    {
     "name": "stdout",
     "output_type": "stream",
     "text": [
      "display\n"
     ]
    }
   ],
   "source": [
    "def decorator(original_function):\n",
    "    def wrapper():\n",
    "        return original_function()\n",
    "    return wrapper\n",
    "def display():\n",
    "    print('display')\n",
    "decorated_display=decorator(display)\n",
    "decorated_display()"
   ]
  },
  {
   "cell_type": "code",
   "execution_count": 8,
   "id": "f0af289c",
   "metadata": {},
   "outputs": [
    {
     "name": "stdout",
     "output_type": "stream",
     "text": [
      "wrapper executed display before\n",
      "display\n"
     ]
    }
   ],
   "source": [
    "def decorator(original_function):\n",
    "    def wrapper():\n",
    "        print('wrapper executed {} before'.format(original_function.__name__))\n",
    "        return original_function()\n",
    "    return wrapper\n",
    "def display():\n",
    "    print('display')\n",
    "decorated_display=decorator(display)\n",
    "decorated_display()"
   ]
  },
  {
   "cell_type": "code",
   "execution_count": 11,
   "id": "d8e6a289",
   "metadata": {},
   "outputs": [
    {
     "name": "stdout",
     "output_type": "stream",
     "text": [
      "display info John with age 12\n"
     ]
    }
   ],
   "source": [
    "def decorator(original_function):\n",
    "    def wrapper():\n",
    "        print('wrapper executed {} before'.format(original_function.__name__))\n",
    "        return original_function()\n",
    "    return wrapper\n",
    "@decorator\n",
    "def display():\n",
    "#The above two lines are equivalent to\n",
    "#display=decorator(display)\n",
    "    print('display')\n",
    "def display_info(name,age):\n",
    "    print('display info {} with age {}'.format(name,age))\n",
    "display_info('John',12)"
   ]
  },
  {
   "cell_type": "code",
   "execution_count": 12,
   "id": "617721e1",
   "metadata": {},
   "outputs": [
    {
     "name": "stdout",
     "output_type": "stream",
     "text": [
      "wrapper executed display_info before\n",
      "display info John with age 12\n"
     ]
    }
   ],
   "source": [
    "def decorator(original_function):\n",
    "    def wrapper(*args,**kwargs):\n",
    "        print('wrapper executed {} before'.format(original_function.__name__))\n",
    "        return original_function(*args,**kwargs)\n",
    "    return wrapper\n",
    "@decorator\n",
    "def display_info(name,age):\n",
    "    print('display info {} with age {}'.format(name,age))\n",
    "display_info('John',12)"
   ]
  },
  {
   "cell_type": "code",
   "execution_count": null,
   "id": "01e83dce",
   "metadata": {},
   "outputs": [],
   "source": [
    "class Employee:\n",
    "    def __init__(self,name,age,pay):\n",
    "        self.name=name\n",
    "        self.age=age\n",
    "        self.pay=pay\n",
    "    def apply_raise(self,raise_amt):\n",
    "        self.pay*=raise_amt\n",
    "    def full_name(self):\n",
    "        return '{}'.format(self.name)\n",
    "class Developer(Employee):\n",
    "    def __init__(self,name,age,pay,prog_lang):\n",
    "        super().__init__(name,age,pay)\n",
    "        self.prog_lang=prog_lang\n",
    "class Manager(Employee):\n",
    "    def __init(self,name,age,pay,employees=None):\n",
    "        super().__init__(name,age,pay)\n",
    "        if employees is None: \n",
    "            self.employees=[]\n",
    "        else:\n",
    "            self.employees=employees\n",
    "    def add_employee(self,emp):\n",
    "        if emp not in self.employees:\n",
    "            self.employees.append(emp)"
   ]
  }
 ],
 "metadata": {
  "kernelspec": {
   "display_name": "Python 3",
   "language": "python",
   "name": "python3"
  },
  "language_info": {
   "codemirror_mode": {
    "name": "ipython",
    "version": 3
   },
   "file_extension": ".py",
   "mimetype": "text/x-python",
   "name": "python",
   "nbconvert_exporter": "python",
   "pygments_lexer": "ipython3",
   "version": "3.8.8"
  }
 },
 "nbformat": 4,
 "nbformat_minor": 5
}
