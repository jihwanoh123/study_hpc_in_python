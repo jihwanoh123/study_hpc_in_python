{
 "cells": [
  {
   "attachments": {},
   "cell_type": "markdown",
   "id": "4a5aa052",
   "metadata": {},
   "source": [
    "# logging package\n",
    "Practice the usage of Python logging.\n",
    "\n",
    "## References\n",
    "* Python Logging: How to Write Logs Like a Pro!\n",
    "    * https://youtu.be/pxuXaaT1u3k\n",
    "* Python Logging - Tutorial\n",
    "    * https://youtu.be/urrfJgHwIJA\n",
    "* By Corey Schafer\n",
    "    * Python Tutorial: Logging Basics - Logging to Files, Setting Levels, and Formatting\n",
    "        * https://youtu.be/-ARI4Cz-awo\n",
    "    * Python Tutorial: Logging Advanced - Loggers, Handlers, and Formatters\n",
    "        * https://youtu.be/jxmzY9soFXg"
   ]
  },
  {
   "cell_type": "markdown",
   "id": "b4f13112",
   "metadata": {},
   "source": [
    "<hr style=\"height:2px;background-color:black\">"
   ]
  },
  {
   "cell_type": "markdown",
   "id": "92fe6d38",
   "metadata": {},
   "source": [
    "## Simple usages"
   ]
  },
  {
   "cell_type": "code",
   "execution_count": 1,
   "id": "557db18b",
   "metadata": {},
   "outputs": [
    {
     "name": "stderr",
     "output_type": "stream",
     "text": [
      "mylogger: 2023-02-17 12:48:37 WARNING : Warning\n",
      "mylogger: 2023-02-17 12:48:37 DEBUG   : Debug\n",
      "mylogger: 2023-02-17 12:48:37 WARNING : Warning\n"
     ]
    },
    {
     "name": "stdout",
     "output_type": "stream",
     "text": [
      "Change logging level. This print message does not come inbetween log messages in stdout\n"
     ]
    }
   ],
   "source": [
    "import logging\n",
    "\n",
    "# Configure the logging\n",
    "# Once the basicConfig is set, it is effective for the whole session.\n",
    "# To apply a new configuration, restart the kernel.\n",
    "logging_level = logging.WARNING\n",
    "# For attribute names that goes into the format string,\n",
    "#   see https://docs.python.org/3/library/logging.html#logrecord-attributes\n",
    "formatstr = \"%(name)s: %(asctime)s %(levelname)-8s: %(message)s\"\n",
    "datefmt=\"%Y-%m-%d %H:%M:%S\"\n",
    "logging.basicConfig(level=logging_level, format=formatstr, datefmt=datefmt)\n",
    "\n",
    "# Instantiate a Logger object\n",
    "logger = logging.getLogger('mylogger')\n",
    "\n",
    "# Test my logger\n",
    "# Currently level is set to WARNING\n",
    "logger.debug('Debug')\n",
    "logger.warning('Warning')\n",
    "print('Change logging level. This print message does not come inbetween log messages in stdout')\n",
    "# Set logging level to DEBUG\n",
    "logger.setLevel(logging.DEBUG)\n",
    "logger.debug('Debug')\n",
    "logger.warning('Warning')"
   ]
  },
  {
   "cell_type": "markdown",
   "id": "9437aa62",
   "metadata": {},
   "source": [
    "<hr style=\"height:2px;background-color:black\">"
   ]
  },
  {
   "cell_type": "markdown",
   "id": "8024f5e4",
   "metadata": {},
   "source": [
    "# MPI tasks\n",
    "## Format string to have rank number and all output to a single file"
   ]
  },
  {
   "cell_type": "code",
   "execution_count": 1,
   "id": "84eb78ce",
   "metadata": {},
   "outputs": [
    {
     "name": "stderr",
     "output_type": "stream",
     "text": [
      "Rank 0000 of size 0001 [2023-02-17 12:08:50] WARNING : Warning message\n",
      "Rank 0000 of size 0001 [2023-02-17 12:08:50] DEBUG   : Debug\n",
      "Rank 0000 of size 0001 [2023-02-17 12:08:50] WARNING : Warning\n"
     ]
    },
    {
     "name": "stdout",
     "output_type": "stream",
     "text": [
      "Change logging level. This print message does not come inbetween log messages in stdout\n"
     ]
    }
   ],
   "source": [
    "import logging\n",
    "# Get mpi rank and size info if MPI is enabled\n",
    "try:\n",
    "    from mpi4py import MPI\n",
    "    comm = MPI.COMM_WORLD\n",
    "    mpi_rank = comm.Get_rank()\n",
    "    mpi_size = comm.Get_size()\n",
    "except (ModuleNotFoundError, ImportError):\n",
    "    print('MPI is not enabled. Use default single rank.')\n",
    "    mpi_size = 1\n",
    "    mpi_rank = 0\n",
    "\n",
    "# Set up logger\n",
    "logging_level = logging.WARNING\n",
    "formatstr = f\"Rank {mpi_rank:04d} of size {mpi_size:04d} [%(asctime)s] %(levelname)-8s: %(message)s\"\n",
    "datefmt = \"%Y-%m-%d %H:%M:%S\"\n",
    "logging.basicConfig(level=logging_level, format=formatstr, datefmt=datefmt)\n",
    "\n",
    "# Instantiate logger\n",
    "logger = logging.getLogger('mylogger')\n",
    "\n",
    "# Set up a handler that will write the log messages to a file as well as to stdout\n",
    "filename = 'mpi_single_logger/mpi_single_logger.log'\n",
    "filehandler = logging.FileHandler(filename)\n",
    "filehandler.setLevel(logger.getEffectiveLevel())\n",
    "\n",
    "# Lets make the output messages to file formatted the same as to console\n",
    "formatter = logging.Formatter(formatstr, datefmt=datefmt)\n",
    "filehandler.setFormatter(formatter)\n",
    "logger.addHandler(filehandler)\n",
    "\n",
    "# Log messages\n",
    "logger.debug('Debug message')\n",
    "logger.warning('Warning message')\n",
    "print('Change logging level. This print message does not come inbetween log messages in stdout.')\n",
    "# Set logging level to DEBUG\n",
    "# (Note: but filehandler did not update its level, so the log in file does not contain the debug message)\n",
    "logger.setLevel(logging.DEBUG)\n",
    "logger.debug('Debug')\n",
    "logger.warning('Warning')"
   ]
  },
  {
   "cell_type": "code",
   "execution_count": 4,
   "id": "d3f74791",
   "metadata": {},
   "outputs": [],
   "source": [
    "# The above test cell of the notebook, only one mpi task is used.\n",
    "# For mpi run, we need to use a command like mpirun (see the next cell)"
   ]
  },
  {
   "cell_type": "code",
   "execution_count": 4,
   "id": "9fd911eb",
   "metadata": {},
   "outputs": [],
   "source": [
    "# Save above cell to mpi_single_logger/mpi_single_logger.py\n",
    "# Then run the following\n",
    "#   mpirun -n 4 python mpi_single_logger/mpi_single_logger.py\n",
    "results = \"\"\"\n",
    "Rank 0000 of size 0004 [2023-02-17 12:15:34] WARNING : Warning message\n",
    "Rank 0001 of size 0004 [2023-02-17 12:15:34] WARNING : Warning message\n",
    "Rank 0001 of size 0004 [2023-02-17 12:15:34] DEBUG   : Debug\n",
    "Rank 0002 of size 0004 [2023-02-17 12:15:34] WARNING : Warning message\n",
    "Rank 0002 of size 0004 [2023-02-17 12:15:34] DEBUG   : Debug\n",
    "Rank 0003 of size 0004 [2023-02-17 12:15:34] WARNING : Warning message\n",
    "Rank 0003 of size 0004 [2023-02-17 12:15:34] DEBUG   : Debug\n",
    "Rank 0000 of size 0004 [2023-02-17 12:15:34] DEBUG   : Debug\n",
    "Rank 0003 of size 0004 [2023-02-17 12:15:34] WARNING : Warning\n",
    "Rank 0001 of size 0004 [2023-02-17 12:15:34] WARNING : Warning\n",
    "Change logging level. This print message does not come inbetween log messages in stdout.\n",
    "Change logging level. This print message does not come inbetween log messages in stdout.\n",
    "Rank 0000 of size 0004 [2023-02-17 12:15:34] WARNING : Warning\n",
    "Rank 0002 of size 0004 [2023-02-17 12:15:34] WARNING : Warning\n",
    "Change logging level. This print message does not come inbetween log messages in stdout.\n",
    "Change logging level. This print message does not come inbetween log messages in stdout.\n",
    "\"\"\"\n",
    "\n",
    "# The saved file doesn't necessarily show the results in the same order\n",
    "# cat mpi_single_logger/mpi_single_logger.log\n",
    "results = \"\"\"\n",
    "Rank 0002 of size 0004 [2023-02-17 12:15:34] WARNING : Warning message\n",
    "Rank 0000 of size 0004 [2023-02-17 12:15:34] WARNING : Warning message\n",
    "Rank 0001 of size 0004 [2023-02-17 12:15:34] WARNING : Warning message\n",
    "Rank 0003 of size 0004 [2023-02-17 12:15:34] WARNING : Warning message\n",
    "Rank 0003 of size 0004 [2023-02-17 12:15:34] WARNING : Warning\n",
    "Rank 0001 of size 0004 [2023-02-17 12:15:34] WARNING : Warning\n",
    "Rank 0000 of size 0004 [2023-02-17 12:15:34] WARNING : Warning\n",
    "Rank 0002 of size 0004 [2023-02-17 12:15:34] WARNING : Warning\n",
    "\"\"\"\n",
    "\n",
    "# I can sort out each rank's log by grepping as well\n",
    "# grep 'Rank 0001' mpi_single_logger/mpi_single_logger.log\n",
    "results = \"\"\"\n",
    "Rank 0001 of size 0004 [2023-02-17 12:15:34] WARNING : Warning message\n",
    "Rank 0001 of size 0004 [2023-02-17 12:15:34] WARNING : Warning\n",
    "\"\"\""
   ]
  },
  {
   "cell_type": "markdown",
   "id": "9093692d",
   "metadata": {},
   "source": [
    "## Each rank to have a seprate logger and an output file\n",
    "For embarassingly parallel jobs, it may be useful and enough to make the log for each mpi task separately.\n",
    "\n",
    "<font color=\"blue\">Or, is this necessary? Can I just grep as above?</font> Slurm (see below) outputs to .err and .out as a single file anyway (as far as I know and have tried)."
   ]
  },
  {
   "cell_type": "code",
   "execution_count": 1,
   "id": "6709bc4f",
   "metadata": {},
   "outputs": [
    {
     "name": "stderr",
     "output_type": "stream",
     "text": [
      "Rank 0000 of size 0001 [2023-02-17 12:18:34] WARNING : Warning message\n",
      "Rank 0000 of size 0001 [2023-02-17 12:18:34] DEBUG   : Debug\n",
      "Rank 0000 of size 0001 [2023-02-17 12:18:34] WARNING : Warning\n"
     ]
    },
    {
     "name": "stdout",
     "output_type": "stream",
     "text": [
      "Change logging level. This print message does not come inbetween log messages in stdout.\n"
     ]
    }
   ],
   "source": [
    "import logging\n",
    "# Get mpi rank and size info if MPI is enabled\n",
    "try:\n",
    "    from mpi4py import MPI\n",
    "    comm = MPI.COMM_WORLD\n",
    "    mpi_rank = comm.Get_rank()\n",
    "    mpi_size = comm.Get_size()\n",
    "except (ModuleNotFoundError, ImportError):\n",
    "    print('MPI is not enabled. Use default single rank.')\n",
    "    mpi_size = 1\n",
    "    mpi_rank = 0\n",
    "\n",
    "# Set up logger\n",
    "logging_level = logging.WARNING\n",
    "formatstr = f\"Rank {mpi_rank:04d} of size {mpi_size:04d} [%(asctime)s] %(levelname)-8s: %(message)s\"\n",
    "datefmt = \"%Y-%m-%d %H:%M:%S\"\n",
    "logging.basicConfig(level=logging_level, format=formatstr, datefmt=datefmt)\n",
    "\n",
    "# Instantiate logger\n",
    "logger = logging.getLogger(f'rank{mpi_rank:04d}logger')\n",
    "\n",
    "# Set up a handler that will write the log messages to a file as well as to stdout\n",
    "filename = f'mpi_logger_per_rank/mpi_rank{mpi_rank:04d}.log'\n",
    "filehandler = logging.FileHandler(filename)\n",
    "filehandler.setLevel(logger.getEffectiveLevel())\n",
    "\n",
    "# Lets make the output messages to file formatted the same as to console\n",
    "formatter = logging.Formatter(formatstr, datefmt=datefmt)\n",
    "filehandler.setFormatter(formatter)\n",
    "logger.addHandler(filehandler)\n",
    "\n",
    "# Log messages\n",
    "logger.debug('Debug message')\n",
    "logger.warning('Warning message')\n",
    "print('Change logging level. This print message does not come inbetween log messages in stdout.')\n",
    "# Set logging level to DEBUG\n",
    "# (Note: but filehandler did not update its level, so the log in file does not contain the debug message)\n",
    "logger.setLevel(logging.DEBUG)\n",
    "logger.debug('Debug')\n",
    "logger.warning('Warning')"
   ]
  },
  {
   "cell_type": "code",
   "execution_count": 5,
   "id": "b7dc2253",
   "metadata": {},
   "outputs": [],
   "source": [
    "# The above test cell of the notebook, only one mpi task is used.\n",
    "# For mpi run, we need to use a command like mpirun (see the next cell)"
   ]
  },
  {
   "cell_type": "code",
   "execution_count": 2,
   "id": "1c1e4cf7",
   "metadata": {},
   "outputs": [],
   "source": [
    "# Save above cell to mpi_logger_per_rank/mpi_logger_per_rank.py\n",
    "# Then run the following\n",
    "#   mpirun -n 4 python mpi_logger_per_rank/mpi_logger_per_rank.py\n",
    "results = \"\"\"\n",
    "Rank 0000 of size 0004 [2023-02-17 12:19:04] WARNING : Warning message\n",
    "Rank 0000 of size 0004 [2023-02-17 12:19:04] DEBUG   : Debug\n",
    "Rank 0002 of size 0004 [2023-02-17 12:19:04] WARNING : Warning message\n",
    "Rank 0002 of size 0004 [2023-02-17 12:19:04] DEBUG   : Debug\n",
    "Rank 0000 of size 0004 [2023-02-17 12:19:04] WARNING : Warning\n",
    "Rank 0002 of size 0004 [2023-02-17 12:19:04] WARNING : Warning\n",
    "Change logging level. This print message does not come inbetween log messages in stdout.\n",
    "Change logging level. This print message does not come inbetween log messages in stdout.\n",
    "Rank 0001 of size 0004 [2023-02-17 12:19:04] WARNING : Warning message\n",
    "Rank 0003 of size 0004 [2023-02-17 12:19:04] WARNING : Warning message\n",
    "Rank 0001 of size 0004 [2023-02-17 12:19:04] DEBUG   : Debug\n",
    "Rank 0003 of size 0004 [2023-02-17 12:19:04] DEBUG   : Debug\n",
    "Change logging level. This print message does not come inbetween log messages in stdout.\n",
    "Rank 0001 of size 0004 [2023-02-17 12:19:04] WARNING : Warning\n",
    "Rank 0003 of size 0004 [2023-02-17 12:19:04] WARNING : Warning\n",
    "Change logging level. This print message does not come inbetween log messages in stdout.\n",
    "\"\"\"\n",
    "# The saved file contains only the logs that belong to the rank.\n",
    "# mpi_logger_per_rank/mpi_rank0000.log\n",
    "# mpi_logger_per_rank/mpi_rank0001.log\n",
    "# mpi_logger_per_rank/mpi_rank0002.log\n",
    "# mpi_logger_per_rank/mpi_rank0003.log\n",
    "# e.g. cat mpi_logger_per_rank/mpi_rank0000.log\n",
    "results = \"\"\"\n",
    "Rank 0000 of size 0004 [2023-02-17 12:19:04] WARNING : Warning message\n",
    "Rank 0000 of size 0004 [2023-02-17 12:19:04] WARNING : Warning\n",
    "\"\"\"\n"
   ]
  },
  {
   "cell_type": "markdown",
   "id": "229f6562",
   "metadata": {},
   "source": [
    "<hr style=\"height:2px;background-color:black\">"
   ]
  },
  {
   "cell_type": "markdown",
   "id": "577c587c",
   "metadata": {},
   "source": [
    "# Slurm stderr and stdout\n",
    "Control how to send log messages for a slurm job.\n",
    "\n",
    "By default, the log messages go to .err file (stderr)\n",
    "* https://docs.python.org/3/library/logging.handlers.html#streamhandler"
   ]
  },
  {
   "cell_type": "code",
   "execution_count": null,
   "id": "101e3dbb",
   "metadata": {},
   "outputs": [],
   "source": []
  },
  {
   "cell_type": "code",
   "execution_count": null,
   "id": "88b06986",
   "metadata": {},
   "outputs": [],
   "source": []
  },
  {
   "cell_type": "code",
   "execution_count": null,
   "id": "301901b7",
   "metadata": {},
   "outputs": [],
   "source": []
  },
  {
   "cell_type": "code",
   "execution_count": null,
   "id": "163c7f79",
   "metadata": {},
   "outputs": [],
   "source": []
  },
  {
   "cell_type": "markdown",
   "id": "fb9e45b2",
   "metadata": {},
   "source": [
    "<hr style=\"height:2px;background-color:black\">"
   ]
  },
  {
   "cell_type": "code",
   "execution_count": null,
   "id": "236cb3e0",
   "metadata": {},
   "outputs": [],
   "source": []
  },
  {
   "cell_type": "code",
   "execution_count": null,
   "id": "df7cd2f4",
   "metadata": {},
   "outputs": [],
   "source": []
  }
 ],
 "metadata": {
  "kernelspec": {
   "display_name": "spherexsim",
   "language": "python",
   "name": "spherexsim"
  },
  "language_info": {
   "codemirror_mode": {
    "name": "ipython",
    "version": 3
   },
   "file_extension": ".py",
   "mimetype": "text/x-python",
   "name": "python",
   "nbconvert_exporter": "python",
   "pygments_lexer": "ipython3",
   "version": "3.10.6"
  }
 },
 "nbformat": 4,
 "nbformat_minor": 5
}
