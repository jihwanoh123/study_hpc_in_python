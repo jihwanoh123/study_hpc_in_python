{
 "cells": [
  {
   "cell_type": "code",
   "execution_count": 4,
   "id": "bffb6949",
   "metadata": {},
   "outputs": [],
   "source": [
    "from mpi4py import MPI"
   ]
  },
  {
   "cell_type": "code",
   "execution_count": null,
   "id": "7c94683c",
   "metadata": {},
   "outputs": [],
   "source": [
    "#EX1: send messages from other processors to 0th.\n",
    "comm=MPI.COMM_WORLD\n",
    "my_rank=comm.Get_rank()\n",
    "p=comm.Get_size()\n",
    "if my_rank!=0:\n",
    "    message=\"Hello from \"+str(my_rank)\n",
    "    comm.send(message,dest=0)\n",
    "else:\n",
    "    for Id in range(1,p):\n",
    "        message=comm.recv(source=Id)\n",
    "        print(\"Process 0 receives message from process \",Id,\":\",message)"
   ]
  },
  {
   "cell_type": "code",
   "execution_count": 6,
   "id": "779500ed",
   "metadata": {},
   "outputs": [
    {
     "name": "stdout",
     "output_type": "stream",
     "text": [
      "With n= 1024  trapezoid integral \n",
      "\n",
      "from  0.0  to  1.0  is  0.2500002384185791\n"
     ]
    }
   ],
   "source": [
    "#EX2: Compute trapezoid area numerically using parallel computation\n",
    "comm=MPI.COMM_WORLD\n",
    "my_rank=comm.Get_rank()\n",
    "p=comm.Get_size()\n",
    "def f(x):\n",
    "    return x*x*x\n",
    "def Trap(a,b,n,h):\n",
    "    integral=(f(a)+f(b))/2.0\n",
    "    x=a\n",
    "    for i in range(1,int(n)):\n",
    "        x+=h\n",
    "        integral+=f(x)\n",
    "    return integral*h\n",
    "a=0.0\n",
    "b=1.0\n",
    "n=1024\n",
    "dest=0\n",
    "total=-1\n",
    "h=(b-a)/n\n",
    "local_n=n/p\n",
    "local_a=a+my_rank*h*local_n\n",
    "local_b=local_a+local_n*h\n",
    "integral=Trap(local_a,local_b,local_n,h)\n",
    "if my_rank==0:\n",
    "    total=integral\n",
    "    for Id in range(1,p):\n",
    "        integral=comm.recv(source=Id)\n",
    "        print(\"Process \",my_rank,\" receives partial result from \",Id,'\\n')\n",
    "        total+=integral\n",
    "else:\n",
    "    print(\"Process \",my_rank,\" sends partial result \\n\")\n",
    "    comm.send(integral,dest=0)\n",
    "if my_rank==0:\n",
    "    print(\"With n=\",n,\" trapezoid integral \\n\")\n",
    "    print(\"from \",a,\" to \",b,\" is \",total)"
   ]
  }
 ],
 "metadata": {
  "kernelspec": {
   "display_name": "Python 3",
   "language": "python",
   "name": "python3"
  },
  "language_info": {
   "codemirror_mode": {
    "name": "ipython",
    "version": 3
   },
   "file_extension": ".py",
   "mimetype": "text/x-python",
   "name": "python",
   "nbconvert_exporter": "python",
   "pygments_lexer": "ipython3",
   "version": "3.8.8"
  }
 },
 "nbformat": 4,
 "nbformat_minor": 5
}
