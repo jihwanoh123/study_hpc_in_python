{
 "cells": [
  {
   "cell_type": "code",
   "execution_count": 7,
   "id": "02f75f5f",
   "metadata": {},
   "outputs": [
    {
     "name": "stdout",
     "output_type": "stream",
     "text": [
      "Hi\n",
      "Hi\n"
     ]
    }
   ],
   "source": [
    "#EX0: Closure\n",
    "def outer_func():\n",
    "    message='Hi'\n",
    "    def inner_func():\n",
    "        print(message)\n",
    "    return inner_func\n",
    "func=outer_func()\n",
    "#func\n",
    "func()\n",
    "func()"
   ]
  },
  {
   "cell_type": "code",
   "execution_count": 8,
   "id": "50459c7c",
   "metadata": {},
   "outputs": [
    {
     "name": "stdout",
     "output_type": "stream",
     "text": [
      "Hi\n",
      "Bye\n"
     ]
    }
   ],
   "source": [
    "#EX0.1: Closure\n",
    "def outer_func(msg):\n",
    "    message=msg\n",
    "    def inner_func():\n",
    "        print(message)\n",
    "    return inner_func\n",
    "func1=outer_func('Hi')\n",
    "func2=outer_func('Bye')\n",
    "#func\n",
    "func1()\n",
    "func2()"
   ]
  },
  {
   "cell_type": "code",
   "execution_count": 9,
   "id": "6b558d34",
   "metadata": {},
   "outputs": [
    {
     "name": "stdout",
     "output_type": "stream",
     "text": [
      "Hi\n",
      "Bye\n"
     ]
    }
   ],
   "source": [
    "#EX0.1: Closure\n",
    "def outer_func(msg):\n",
    "    def inner_func():\n",
    "        print(msg)\n",
    "    return inner_func\n",
    "func1=outer_func('Hi')\n",
    "func2=outer_func('Bye')\n",
    "#func\n",
    "func1()\n",
    "func2()"
   ]
  },
  {
   "cell_type": "code",
   "execution_count": 12,
   "id": "dd0f2215",
   "metadata": {},
   "outputs": [
    {
     "name": "stdout",
     "output_type": "stream",
     "text": [
      "Display function ran\n"
     ]
    }
   ],
   "source": [
    "#EX1: Decorator(a function that takes another func as an argument\n",
    "#adds some functionality and return another function)\n",
    "def decorator_func(orig_func):\n",
    "    def wrapper_func():\n",
    "        #Can add some functionality\n",
    "        return orig_func()\n",
    "    return wrapper_func\n",
    "def display():\n",
    "    print(\"Display function ran\")\n",
    "decorated_display=decorator_func(display)\n",
    "#decorated_display\n",
    "decorated_display()"
   ]
  },
  {
   "cell_type": "code",
   "execution_count": 13,
   "id": "a523937b",
   "metadata": {},
   "outputs": [
    {
     "name": "stdout",
     "output_type": "stream",
     "text": [
      "wrapper func executed before: display\n",
      "Display function ran\n"
     ]
    }
   ],
   "source": [
    "#EX1.1: Decorator\n",
    "def decorator_func(orig_func):\n",
    "    def wrapper_func():\n",
    "        #some functionality added\n",
    "        print(\"wrapper func executed before: {}\".format(orig_func.__name__))\n",
    "        return orig_func()\n",
    "    return wrapper_func\n",
    "decorated_display=decorator_func(display)\n",
    "decorated_display()"
   ]
  },
  {
   "cell_type": "code",
   "execution_count": 15,
   "id": "f604d305",
   "metadata": {},
   "outputs": [
    {
     "name": "stdout",
     "output_type": "stream",
     "text": [
      "wrapper func executed before: display\n",
      "Display function ran\n"
     ]
    }
   ],
   "source": [
    "#EX1.1: Decorator: new syntax\n",
    "def decorator_func(orig_func):\n",
    "    def wrapper_func():\n",
    "        #some functionality added\n",
    "        print(\"wrapper func executed before: {}\".format(orig_func.__name__))\n",
    "        return orig_func()\n",
    "    return wrapper_func\n",
    "@decorator_func #New syntax: same as above (dec_display=decorator_func(display))\n",
    "def display():\n",
    "    print(\"Display function ran\")\n",
    "display()"
   ]
  },
  {
   "cell_type": "code",
   "execution_count": 16,
   "id": "6d842bdb",
   "metadata": {},
   "outputs": [
    {
     "ename": "TypeError",
     "evalue": "wrapper_func() takes 0 positional arguments but 2 were given",
     "output_type": "error",
     "traceback": [
      "\u001b[0;31m---------------------------------------------------------------------------\u001b[0m",
      "\u001b[0;31mTypeError\u001b[0m                                 Traceback (most recent call last)",
      "\u001b[0;32m<ipython-input-16-0ee7a14779db>\u001b[0m in \u001b[0;36m<module>\u001b[0;34m\u001b[0m\n\u001b[1;32m     14\u001b[0m     \u001b[0mprint\u001b[0m\u001b[0;34m(\u001b[0m\u001b[0;34m\"display info ran with arguments ({},{})\"\u001b[0m\u001b[0;34m.\u001b[0m\u001b[0mformat\u001b[0m\u001b[0;34m(\u001b[0m\u001b[0mname\u001b[0m\u001b[0;34m,\u001b[0m\u001b[0mage\u001b[0m\u001b[0;34m)\u001b[0m\u001b[0;34m)\u001b[0m\u001b[0;34m\u001b[0m\u001b[0;34m\u001b[0m\u001b[0m\n\u001b[1;32m     15\u001b[0m \u001b[0;34m\u001b[0m\u001b[0m\n\u001b[0;32m---> 16\u001b[0;31m \u001b[0mdisplay_inf\u001b[0m\u001b[0;34m(\u001b[0m\u001b[0;34m'John'\u001b[0m\u001b[0;34m,\u001b[0m\u001b[0;36m20\u001b[0m\u001b[0;34m)\u001b[0m\u001b[0;34m\u001b[0m\u001b[0;34m\u001b[0m\u001b[0m\n\u001b[0m",
      "\u001b[0;31mTypeError\u001b[0m: wrapper_func() takes 0 positional arguments but 2 were given"
     ]
    }
   ],
   "source": [
    "#EX1.2: Decorator: new syntax\n",
    "def decorator_func(orig_func):\n",
    "    def wrapper_func():\n",
    "        #some functionality added\n",
    "        print(\"wrapper func executed before: {}\".format(orig_func.__name__))\n",
    "        return orig_func()\n",
    "    return wrapper_func\n",
    "@decorator_func\n",
    "def display_inf(name,age):\n",
    "    print(\"display info ran with arguments ({},{})\".format(name,age))\n",
    "\n",
    "display_inf('John',20)\n",
    "#How can we fix errors? see below"
   ]
  },
  {
   "cell_type": "code",
   "execution_count": 17,
   "id": "1d8c4400",
   "metadata": {},
   "outputs": [
    {
     "name": "stdout",
     "output_type": "stream",
     "text": [
      "wrapper func executed before: display_inf\n",
      "display info ran with arguments (John,20)\n"
     ]
    }
   ],
   "source": [
    "#EX1.3: Decorator: many arguments in function that's decorated.\n",
    "def decorator_func(orig_func):\n",
    "    def wrapper_func(*args,**kwargs):\n",
    "        #some functionality added\n",
    "        print(\"wrapper func executed before: {}\".format(orig_func.__name__))\n",
    "        return orig_func(*args,**kwargs)\n",
    "    return wrapper_func\n",
    "@decorator_func\n",
    "def display_inf(name,age):\n",
    "    print(\"display info ran with arguments ({},{})\".format(name,age))\n",
    "\n",
    "display_inf('John',20)"
   ]
  },
  {
   "cell_type": "code",
   "execution_count": 18,
   "id": "76fac7ab",
   "metadata": {},
   "outputs": [
    {
     "name": "stdout",
     "output_type": "stream",
     "text": [
      "wrapper func executed before: display_inf\n",
      "display info ran with arguments (John,20)\n",
      "wrapper func executed before: display\n",
      "Display function ran\n"
     ]
    }
   ],
   "source": [
    "#EX1.4: Decorator: Run both\n",
    "def decorator_func(orig_func):\n",
    "    def wrapper_func(*args,**kwargs):\n",
    "        #some functionality added\n",
    "        print(\"wrapper func executed before: {}\".format(orig_func.__name__))\n",
    "        return orig_func(*args,**kwargs)\n",
    "    return wrapper_func\n",
    "@decorator_func #New syntax: same as above (dec_display=decorator_func(display))\n",
    "def display():\n",
    "    print(\"Display function ran\")\n",
    "\n",
    "@decorator_func\n",
    "def display_inf(name,age):\n",
    "    print(\"display info ran with arguments ({},{})\".format(name,age))\n",
    "\n",
    "display_inf('John',20)\n",
    "display()"
   ]
  },
  {
   "cell_type": "code",
   "execution_count": 21,
   "id": "c4b612c9",
   "metadata": {},
   "outputs": [
    {
     "name": "stdout",
     "output_type": "stream",
     "text": [
      "display info ran with arguments (John,20)\n",
      "display info ran with arguments (Tom,22)\n"
     ]
    }
   ],
   "source": [
    "#EX 1.5: Decorator: Practical example 2\n",
    "def my_logger(orig_func):\n",
    "    import logging\n",
    "    logging.basicConfig(filename='{}.log'.format(orig_func.__name__),\n",
    "                       level=logging.INFO)\n",
    "    def wrapper(*args,**kwargs):\n",
    "        logging.info(\n",
    "        'Ran with args: {} and kwargs: {}'.format(args,kwargs))\n",
    "        return orig_func(*args,**kwargs)\n",
    "    return wrapper\n",
    "def my_timer(orig_func):\n",
    "    import time\n",
    "    def wrapper(*args,**kwargs):\n",
    "        t1=time.time()\n",
    "        result=orig_func(*args,**kwargs)\n",
    "        t2=time.time()-t1\n",
    "        print(\"{} ran in {} sec\".format(orig_func.__name__,t2))\n",
    "    return wrapper\n",
    "@my_logger\n",
    "def display_inf(name,age):\n",
    "    print(\"display info ran with arguments ({},{})\".format(name,age))\n",
    "\n",
    "display_inf('John',20)\n",
    "display_inf('Tom',22)"
   ]
  },
  {
   "cell_type": "code",
   "execution_count": 24,
   "id": "d67713c8",
   "metadata": {},
   "outputs": [
    {
     "name": "stdout",
     "output_type": "stream",
     "text": [
      "Display function ran\n",
      "display ran in 0.0002689361572265625 sec\n"
     ]
    }
   ],
   "source": [
    "#EX 1.6: Decorator: Practical example 2\n",
    "def my_timer(orig_func):\n",
    "    import time\n",
    "    def wrapper(*args,**kwargs):\n",
    "        t1=time.time()\n",
    "        result=orig_func(*args,**kwargs)\n",
    "        t2=time.time()-t1\n",
    "        print(\"{} ran in {} sec\".format(orig_func.__name__,t2))\n",
    "    return wrapper\n",
    "@my_timer\n",
    "def display():\n",
    "    print(\"Display function ran\")\n",
    "display()"
   ]
  },
  {
   "cell_type": "code",
   "execution_count": 27,
   "id": "9d5d0276",
   "metadata": {},
   "outputs": [
    {
     "name": "stdout",
     "output_type": "stream",
     "text": [
      "display info ran with arguments (Hank,30)\n",
      "wrapper ran in 1.0049488544464111 sec\n"
     ]
    }
   ],
   "source": [
    "#EX 1.7: Decorator: Practical example 3: stacking decorators\n",
    "import time\n",
    "@my_timer\n",
    "@my_logger\n",
    "def display_inf(name,age):\n",
    "    time.sleep(1)\n",
    "    print(\"display info ran with arguments ({},{})\".format(name,age))\n",
    "\n",
    "display_inf('Hank',30)\n",
    "#wrapper ran?? my_timer(my_logger(display_inf))"
   ]
  },
  {
   "cell_type": "code",
   "execution_count": 29,
   "id": "34240256",
   "metadata": {},
   "outputs": [
    {
     "name": "stdout",
     "output_type": "stream",
     "text": [
      "wrapper\n"
     ]
    }
   ],
   "source": [
    "def display_inf(name,age):\n",
    "    time.sleep(1)\n",
    "    print(\"display info ran with arguments ({},{})\".format(name,age))\n",
    "display_inf=my_timer(display_inf)\n",
    "print(display_inf.__name__)#because my_timer returns wrapper"
   ]
  },
  {
   "cell_type": "code",
   "execution_count": 28,
   "id": "91fa722e",
   "metadata": {},
   "outputs": [
    {
     "name": "stdout",
     "output_type": "stream",
     "text": [
      "display info ran with arguments (Hank,30)\n",
      "display_inf ran in 1.0035579204559326 sec\n"
     ]
    }
   ],
   "source": [
    "#EX 1.8: Decorator: Practical example 4: stacking decorators\n",
    "@my_logger\n",
    "@my_timer\n",
    "def display_inf(name,age):\n",
    "    time.sleep(1)\n",
    "    print(\"display info ran with arguments ({},{})\".format(name,age))\n",
    "\n",
    "display_inf('Hank',30)\n",
    "#no wrapper anymore: my_logger(my_timer(display_inf))\n",
    "#                   =my_logger(wrapper) so it creates wrapper.log"
   ]
  },
  {
   "cell_type": "code",
   "execution_count": 30,
   "id": "3cfd25e2",
   "metadata": {},
   "outputs": [
    {
     "name": "stdout",
     "output_type": "stream",
     "text": [
      "display_inf\n"
     ]
    }
   ],
   "source": [
    "#EX 1.9: decorator inside decorator\n",
    "from functools import wraps\n",
    "def my_logger(orig_func):\n",
    "    import logging\n",
    "    logging.basicConfig(filename='{}.log'.format(orig_func.__name__),\n",
    "                       level=logging.INFO)\n",
    "    @wraps(orig_func) #decorator inside decorator\n",
    "    def wrapper(*args,**kwargs):\n",
    "        logging.info(\n",
    "        'Ran with args: {} and kwargs: {}'.format(args,kwargs))\n",
    "        return orig_func(*args,**kwargs)\n",
    "    return wrapper\n",
    "def my_timer(orig_func):\n",
    "    import time\n",
    "    @wraps(orig_func) #decorator inside decorator\n",
    "    def wrapper(*args,**kwargs):\n",
    "        t1=time.time()\n",
    "        result=orig_func(*args,**kwargs)\n",
    "        t2=time.time()-t1\n",
    "        print(\"{} ran in {} sec\".format(orig_func.__name__,t2))\n",
    "    return wrapper\n",
    "#This example previously displayed \"wrapper\", but not anymore\n",
    "def display_inf(name,age):\n",
    "    time.sleep(1)\n",
    "    print(\"display info ran with arguments ({},{})\".format(name,age))\n",
    "display_inf=my_timer(display_inf)\n",
    "print(display_inf.__name__)#because my_timer returns wrapper"
   ]
  },
  {
   "cell_type": "code",
   "execution_count": 31,
   "id": "f30a9891",
   "metadata": {},
   "outputs": [
    {
     "name": "stdout",
     "output_type": "stream",
     "text": [
      "display info ran with arguments (Hank,30)\n",
      "display_inf ran in 1.0059959888458252 sec\n"
     ]
    }
   ],
   "source": [
    "#EX 1.10: decorator in decorator: rerun EX 1.8\n",
    "@my_logger\n",
    "@my_timer\n",
    "def display_inf(name,age):\n",
    "    time.sleep(1)\n",
    "    print(\"display info ran with arguments ({},{})\".format(name,age))\n",
    "\n",
    "display_inf('Hank',30)"
   ]
  },
  {
   "cell_type": "code",
   "execution_count": 32,
   "id": "71b7b447",
   "metadata": {},
   "outputs": [
    {
     "name": "stdout",
     "output_type": "stream",
     "text": [
      "Testing Executed before  display_inf\n",
      "display info ran with arguments (Tom,23)\n",
      "Testing wrapper func executed before: display_inf\n",
      "display info ran with arguments (Tom,23)\n"
     ]
    }
   ],
   "source": [
    "#EX 1.11: decorator with an argument\n",
    "def prefix_decorator(prefix):\n",
    "    def decorator_func(orig_func):\n",
    "        def wrapper_func(*args,**kwargs):\n",
    "            #some functionality added\n",
    "            print(prefix,\"Executed before \",orig_func.__name__)\n",
    "            result=orig_func(*args,**kwargs)\n",
    "            print(prefix,\"wrapper func executed before: {}\".format(orig_func.__name__))\n",
    "            return orig_func(*args,**kwargs)\n",
    "        return wrapper_func\n",
    "    return decorator_func\n",
    "@prefix_decorator(\"Testing\")\n",
    "def display_inf(name,age):\n",
    "    print(\"display info ran with arguments ({},{})\".format(name,age))\n",
    "\n",
    "display_inf('Tom',23)"
   ]
  },
  {
   "cell_type": "code",
   "execution_count": null,
   "id": "ac440d1f",
   "metadata": {},
   "outputs": [],
   "source": []
  }
 ],
 "metadata": {
  "kernelspec": {
   "display_name": "Python 3",
   "language": "python",
   "name": "python3"
  },
  "language_info": {
   "codemirror_mode": {
    "name": "ipython",
    "version": 3
   },
   "file_extension": ".py",
   "mimetype": "text/x-python",
   "name": "python",
   "nbconvert_exporter": "python",
   "pygments_lexer": "ipython3",
   "version": "3.8.8"
  }
 },
 "nbformat": 4,
 "nbformat_minor": 5
}
