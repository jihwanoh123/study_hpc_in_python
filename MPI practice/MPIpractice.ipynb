{
 "cells": [
  {
   "cell_type": "code",
   "execution_count": 1,
   "id": "bffb6949",
   "metadata": {},
   "outputs": [],
   "source": [
    "from mpi4py import MPI"
   ]
  },
  {
   "cell_type": "code",
   "execution_count": null,
   "id": "e5cb59d2",
   "metadata": {},
   "outputs": [],
   "source": [
    "#EX0: MPI elements\n",
    "comm=MPI.COMM_WORLD\n",
    "my_rank=comm.Get_rank() #Rank is the id of each machine\n",
    "p=comm.Get_size() #Size is the total number of machines\n",
    "PID=os.getpid()\n",
    "print(f'rank: {rank} has id: {PID}')\n",
    "# mpirun -n 4 python mpi_simple.py"
   ]
  },
  {
   "cell_type": "code",
   "execution_count": null,
   "id": "713547f2",
   "metadata": {},
   "outputs": [],
   "source": [
    "#EX0: Point-to-point communications\n",
    "#comm.send(obj,dest,tag=0)\n",
    "#comm.recv(source)\n",
    "if rank==0:\n",
    "    msg='Hello'\n",
    "    comm.send(msg,dest=1)\n",
    "else:\n",
    "    s=comm.recv()\n",
    "    print(\"received \",s)"
   ]
  },
  {
   "cell_type": "code",
   "execution_count": null,
   "id": "7c94683c",
   "metadata": {},
   "outputs": [],
   "source": [
    "#EX1: send messages from other processors to 0th.\n",
    "comm=MPI.COMM_WORLD\n",
    "my_rank=comm.Get_rank()\n",
    "p=comm.Get_size()\n",
    "if my_rank!=0:\n",
    "    message=\"Hello from \"+str(my_rank)\n",
    "    comm.send(message,dest=0)\n",
    "else:\n",
    "    for Id in range(1,p):\n",
    "        message=comm.recv(source=Id)\n",
    "        print(\"Process 0 receives message from process \",Id,\":\",message)"
   ]
  },
  {
   "cell_type": "code",
   "execution_count": 3,
   "id": "6d992880",
   "metadata": {},
   "outputs": [],
   "source": [
    "#Auxiliary functions to use later\n",
    "def f(x):\n",
    "    return x*x*x\n",
    "def Trap(a,b,n,h):\n",
    "    integral=(f(a)+f(b))/2.0\n",
    "    x=a\n",
    "    for i in range(1,int(n)):\n",
    "        x+=h\n",
    "        integral+=f(x)\n",
    "    return integral*h"
   ]
  },
  {
   "cell_type": "code",
   "execution_count": 6,
   "id": "779500ed",
   "metadata": {},
   "outputs": [
    {
     "name": "stdout",
     "output_type": "stream",
     "text": [
      "With n= 1024  trapezoid integral \n",
      "\n",
      "from  0.0  to  1.0  is  0.2500002384185791\n"
     ]
    }
   ],
   "source": [
    "#EX2: Compute trapezoid area numerically using parallel computation\n",
    "comm=MPI.COMM_WORLD\n",
    "my_rank=comm.Get_rank()\n",
    "p=comm.Get_size()\n",
    "a=0.0\n",
    "b=1.0\n",
    "n=1024\n",
    "dest=0\n",
    "total=-1\n",
    "h=(b-a)/n\n",
    "local_n=n/p\n",
    "local_a=a+my_rank*h*local_n\n",
    "local_b=local_a+local_n*h\n",
    "integral=Trap(local_a,local_b,local_n,h)\n",
    "if my_rank==0:\n",
    "    total=integral\n",
    "    for Id in range(1,p):\n",
    "        integral=comm.recv(source=Id)\n",
    "        print(\"Process \",my_rank,\" receives partial result from \",Id,'\\n')\n",
    "        total+=integral\n",
    "else:\n",
    "    print(\"Process \",my_rank,\" sends partial result \\n\")\n",
    "    comm.send(integral,dest=0)\n",
    "if my_rank==0:\n",
    "    print(\"With n=\",n,\" trapezoid integral \\n\")\n",
    "    print(\"from \",a,\" to \",b,\" is \",total)"
   ]
  },
  {
   "cell_type": "code",
   "execution_count": null,
   "id": "ec9d8b63",
   "metadata": {},
   "outputs": [],
   "source": [
    "#EX3.0: Broadcast\n",
    "#Create some data in rank 0 node\n",
    "if my_rank==0:\n",
    "    data={'key1':[1,2,3,4],'key2':('abc','deer')}\n",
    "else:\n",
    "    data=None\n",
    "#Broadcast data from root 0 to all\n",
    "comm.broadcast(data,root=0)\n",
    "#Append the rank to the data\n",
    "data['key1'].append(my_rank)\n",
    "#Print the resulting data\n",
    "print(f'rank={my_rank}, data={data}')"
   ]
  },
  {
   "cell_type": "code",
   "execution_count": 2,
   "id": "39dc6994",
   "metadata": {},
   "outputs": [
    {
     "name": "stdout",
     "output_type": "stream",
     "text": [
      "Rank:  0  enter a,b,n \n",
      "\n",
      "enter a \n",
      "0\n",
      "enter b \n",
      "1\n",
      "enter n \n",
      "1024\n",
      "Ready for broadcast\n"
     ]
    },
    {
     "data": {
      "text/plain": [
       "(0.0, 1.0, 1024)"
      ]
     },
     "execution_count": 2,
     "metadata": {},
     "output_type": "execute_result"
    }
   ],
   "source": [
    "#EX3.1: Broadcast\n",
    "comm=MPI.COMM_WORLD\n",
    "my_rank=comm.Get_rank()\n",
    "p=comm.Get_size()\n",
    "def Get_data(my_rank,p,comm):\n",
    "    a=None\n",
    "    b=None\n",
    "    n=None\n",
    "    if my_rank==0:\n",
    "        print(\"Rank: \",my_rank,\" enter a,b,n \\n\")\n",
    "        a=float(input(\"enter a \\n\"))\n",
    "        b=float(input(\"enter b \\n\"))\n",
    "        n=int(input(\"enter n \\n\"))\n",
    "        print(\"Ready for broadcast\")\n",
    "    a=comm.bcast(a)\n",
    "    b=comm.bcast(b)\n",
    "    n=comm.bcast(n)\n",
    "    return a,b,n\n",
    "Get_data(my_rank,p,comm)"
   ]
  },
  {
   "cell_type": "code",
   "execution_count": 6,
   "id": "8bd09d4c",
   "metadata": {},
   "outputs": [
    {
     "name": "stdout",
     "output_type": "stream",
     "text": [
      "Rank:  0  enter a,b,n \n",
      "\n",
      "enter a \n",
      "0\n",
      "enter b \n",
      "1\n",
      "enter n \n",
      "1024\n",
      "Ready for broadcast\n",
      "With n= 1024 trapezoid integral from \n",
      "\n",
      "a= 0.0  to b= 1.0  is  0.2500002384185791\n"
     ]
    },
    {
     "data": {
      "text/plain": [
       "<function mpi4py.MPI.Finalize>"
      ]
     },
     "execution_count": 6,
     "metadata": {},
     "output_type": "execute_result"
    }
   ],
   "source": [
    "#EX4: Trapezoid with Reduce\n",
    "comm=MPI.COMM_WORLD\n",
    "my_rank=comm.Get_rank()\n",
    "p=comm.Get_size()\n",
    "a,b,n=Get_data(my_rank,p,comm)\n",
    "dest=0\n",
    "#Initialization\n",
    "total=-1.0\n",
    "h=(b-a)/n\n",
    "local_n=n/p\n",
    "local_a=a+my_rank*h*local_n\n",
    "local_b=local_a+local_n*h\n",
    "integral=Trap(local_a,local_b,local_n,h)\n",
    "#Add up the partial integrals calculated from each processor\n",
    "total=comm.reduce(integral)\n",
    "if my_rank==0:\n",
    "    print(\"With n=\",n,\"trapezoid integral from \\n\")\n",
    "    print(\"a=\",a,\" to b=\",b,\" is \",total)\n",
    "MPI.Finalize"
   ]
  },
  {
   "cell_type": "code",
   "execution_count": 10,
   "id": "f262828c",
   "metadata": {},
   "outputs": [
    {
     "name": "stdout",
     "output_type": "stream",
     "text": [
      "Full Average:  9.997483635705281\n"
     ]
    }
   ],
   "source": [
    "#Scatter and Gather\n",
    "import numpy as np\n",
    "comm=MPI.COMM_WORLD\n",
    "my_rank=comm.Get_rank()\n",
    "size=comm.Get_size()\n",
    "#Generate a large array of numbers on rank 0 node\n",
    "n=1000000\n",
    "data=None\n",
    "if my_rank==0:\n",
    "    data=np.random.normal(loc=10,scale=5,size=n)\n",
    "#Initialize an empty array to receive data\n",
    "partial=np.empty(int(n/size),dtype='d')\n",
    "#Send data to other workers\n",
    "comm.Scatter(data,partial,root=0)\n",
    "#Prepare reduced array to gather the scattered data\n",
    "reduced=None\n",
    "if my_rank==0:\n",
    "    reduced=np.empty(size,dtype='d')\n",
    "#Gather the data\n",
    "comm.Gather(np.average(partial),reduced,root=0)\n",
    "#Full average of set of averages\n",
    "if my_rank==0:\n",
    "    print(\"Full Average: \",np.average(reduced))"
   ]
  },
  {
   "cell_type": "code",
   "execution_count": null,
   "id": "263919a9",
   "metadata": {},
   "outputs": [],
   "source": []
  }
 ],
 "metadata": {
  "kernelspec": {
   "display_name": "Python 3",
   "language": "python",
   "name": "python3"
  },
  "language_info": {
   "codemirror_mode": {
    "name": "ipython",
    "version": 3
   },
   "file_extension": ".py",
   "mimetype": "text/x-python",
   "name": "python",
   "nbconvert_exporter": "python",
   "pygments_lexer": "ipython3",
   "version": "3.8.8"
  }
 },
 "nbformat": 4,
 "nbformat_minor": 5
}
