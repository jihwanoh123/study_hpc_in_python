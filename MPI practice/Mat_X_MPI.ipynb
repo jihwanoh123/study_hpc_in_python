{
 "cells": [
  {
   "cell_type": "code",
   "execution_count": null,
   "id": "6676bcf3",
   "metadata": {},
   "outputs": [],
   "source": [
    "from mpi4py import MPI\n",
    "import numpy as np\n",
    "N=1000\n",
    "A,B=None,None\n",
    "comm=MPI.COMM_WORLD\n",
    "rank=comm.Get_rank()\n",
    "size=comm.Get_size()\n",
    "#Get matrices from node 0\n",
    "if rank==0:\n",
    "    A=np.ones(N,N)\n",
    "B=np.ones(N,N)*np.random.randn()\n",
    "#Initialize an empty array to receive data\n",
    "partial=np.empty((int(n/size),N),dtype='d')\n",
    "#Scatter A into different cores\n",
    "comm.Scatter(A,partial,root=0)\n",
    "#Prepare result matrix to gather the partial results\n",
    "result=None\n",
    "if rank==0:\n",
    "    result=np.empty((N,N),dtype='d')\n",
    "#Gather matrix multiplication result from different cores\n",
    "comm.Gather(np.matmul(partial,B),result,root=0)\n",
    "#Print the result\n",
    "if rank==0:\n",
    "    print(\"Matrix multiplication result = \",result)\n",
    "# mpirun -n 4 python Mat_X_MPI.ipynb"
   ]
  }
 ],
 "metadata": {
  "kernelspec": {
   "display_name": "Python 3",
   "language": "python",
   "name": "python3"
  },
  "language_info": {
   "codemirror_mode": {
    "name": "ipython",
    "version": 3
   },
   "file_extension": ".py",
   "mimetype": "text/x-python",
   "name": "python",
   "nbconvert_exporter": "python",
   "pygments_lexer": "ipython3",
   "version": "3.8.8"
  }
 },
 "nbformat": 4,
 "nbformat_minor": 5
}
